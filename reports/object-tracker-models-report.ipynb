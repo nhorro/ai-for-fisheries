{
 "cells": [
  {
   "cell_type": "markdown",
   "metadata": {
    "id": "Ve_5USBpMxuH"
   },
   "source": [
    "# Seguimiento de objetos y DeepSORT"
   ]
  },
  {
   "cell_type": "markdown",
   "metadata": {
    "id": "2H7gsZ77OFi2"
   },
   "source": [
    "## Descripción del problema"
   ]
  },
  {
   "cell_type": "code",
   "execution_count": null,
   "metadata": {},
   "outputs": [],
   "source": [
    "#FIXME"
   ]
  },
  {
   "cell_type": "markdown",
   "metadata": {},
   "source": [
    "## DeepSORT"
   ]
  },
  {
   "cell_type": "code",
   "execution_count": null,
   "metadata": {},
   "outputs": [],
   "source": [
    "#FIXME"
   ]
  },
  {
   "cell_type": "markdown",
   "metadata": {},
   "source": [
    "### Entrenamiento de extractor de features"
   ]
  },
  {
   "cell_type": "code",
   "execution_count": null,
   "metadata": {},
   "outputs": [],
   "source": [
    "#FIXME"
   ]
  },
  {
   "cell_type": "markdown",
   "metadata": {
    "id": "3-Xkj-sGEEke"
   },
   "source": [
    "## Bibliografía y referencias\n",
    "\n",
    "- https://nanonets.com/blog/object-tracking-deepsort/"
   ]
  }
 ],
 "metadata": {
  "colab": {
   "collapsed_sections": [],
   "name": "Apuntes detección de objetos y YOLOv4.ipynb",
   "provenance": []
  },
  "kernelspec": {
   "display_name": "Python 3",
   "language": "python",
   "name": "python3"
  },
  "language_info": {
   "codemirror_mode": {
    "name": "ipython",
    "version": 3
   },
   "file_extension": ".py",
   "mimetype": "text/x-python",
   "name": "python",
   "nbconvert_exporter": "python",
   "pygments_lexer": "ipython3",
   "version": "3.8.2"
  }
 },
 "nbformat": 4,
 "nbformat_minor": 1
}
