{
 "cells": [
  {
   "cell_type": "markdown",
   "metadata": {},
   "source": [
    "# Preparación del dataset para YOLOv4\n",
    "\n",
    "Se creará la estructura de directorios para Darknet:\n",
    "\n",
    "~~~\n",
    "./kaggle-fisheries-yolo/\n",
    "  |- data/\n",
    "  |   |- 00000.jpg\n",
    "  |   |- 00000.txt\n",
    "  |   |- ...\n",
    "  |- classes.names\n",
    "  |- train.txt\n",
    "  |- test.txt\n",
    "  |- yolo-fisheries.cfg\n",
    "  |- fisheries.data\n",
    " ~~~"
   ]
  },
  {
   "cell_type": "code",
   "execution_count": 1,
   "metadata": {},
   "outputs": [],
   "source": [
    "import json\n",
    "import os\n",
    "import shutil\n",
    "import glob\n",
    "import PIL\n",
    "import cv2\n",
    "import numpy as np\n",
    "import pandas as pd\n",
    "import matplotlib.pyplot as plt\n",
    "import seaborn as sns; sns.set()\n",
    "#from google.colab import drive"
   ]
  },
  {
   "cell_type": "code",
   "execution_count": 2,
   "metadata": {},
   "outputs": [
    {
     "name": "stdout",
     "output_type": "stream",
     "text": [
      "ai-for-fisheries.code-workspace  object-detector\r\n",
      "assets\t\t\t\t object-detector-trainer\r\n",
      "biblio\t\t\t\t planning\r\n",
      "build.sh\t\t\t prueba.sh\r\n",
      "compose\t\t\t\t README.md\r\n",
      "data\t\t\t\t reports\r\n",
      "data-preparation\t\t run-jupyter-data-science.sh\r\n",
      "dockers\t\t\t\t run-jupyter-local.sh\r\n",
      "env.sh\t\t\t\t TestEnvironment.ipynb\r\n",
      "minutas.md\t\t\t videoanalytics\r\n",
      "model-development-and-training\r\n"
     ]
    }
   ],
   "source": [
    "#WORKSPACE_PATH = \"/home/jovyan/work/\" # docker\n",
    "#WORKSPACE_PATH = \"/notebooks/\" # otro docker\n",
    "WORKSPACE_PATH = \"../../\" # pc-invap\n",
    "!ls {WORKSPACE_PATH}"
   ]
  },
  {
   "cell_type": "code",
   "execution_count": 3,
   "metadata": {},
   "outputs": [
    {
     "name": "stdout",
     "output_type": "stream",
     "text": [
      "kaggle-ncfm\t\t\tsample_submission_stg2.csv.zip\ttest_stg2.7z\r\n",
      "__MACOSX\t\t\ttest_stg1\t\t\ttrain\r\n",
      "sample_submission_stg1.csv.zip\ttest_stg1.zip\t\t\ttrain.zip\r\n"
     ]
    }
   ],
   "source": [
    "WORKSPACE_DATA_PATH = WORKSPACE_PATH+\"/data/\"\n",
    "KAGGLE_FISHERIES_DATASET = WORKSPACE_DATA_PATH+\"/datasets/kaggle-fisheries/\"\n",
    "!ls {KAGGLE_FISHERIES_DATASET}"
   ]
  },
  {
   "cell_type": "code",
   "execution_count": 4,
   "metadata": {},
   "outputs": [],
   "source": [
    "# Dataset original\n",
    "KAGGLE_FISHERIES_TRAIN_IMG=KAGGLE_FISHERIES_DATASET+\"/train/\"\n",
    "KAGGLE_FISHERIES_BB=KAGGLE_FISHERIES_DATASET+\"/kaggle-ncfm/\""
   ]
  },
  {
   "cell_type": "code",
   "execution_count": 5,
   "metadata": {
    "scrolled": true
   },
   "outputs": [],
   "source": [
    "# Dataset YOLO (a generar)\n",
    "KAGGLE_FISHERIES_DATASET_YOLO = WORKSPACE_DATA_PATH+\"/datasets/kaggle-fisheries-yolo/\"\n",
    "KAGGLE_FISHERIES_DATASET_YOLO_IMAGES = KAGGLE_FISHERIES_DATASET_YOLO+\"/data/\"\n",
    "KAGGLE_FISHERIES_DATASET_YOLO_LABELS = KAGGLE_FISHERIES_DATASET_YOLO+\"/data/\""
   ]
  },
  {
   "cell_type": "markdown",
   "metadata": {},
   "source": [
    "Imagenes de entrenamiento."
   ]
  },
  {
   "cell_type": "code",
   "execution_count": 6,
   "metadata": {
    "scrolled": true
   },
   "outputs": [
    {
     "name": "stdout",
     "output_type": "stream",
     "text": [
      "ALB  BET  DOL  LAG  NoF  OTHER\tSHARK  YFT\r\n"
     ]
    }
   ],
   "source": [
    "!ls {KAGGLE_FISHERIES_TRAIN_IMG}"
   ]
  },
  {
   "cell_type": "markdown",
   "metadata": {},
   "source": [
    "Bounding boxes."
   ]
  },
  {
   "cell_type": "code",
   "execution_count": 7,
   "metadata": {
    "scrolled": true
   },
   "outputs": [
    {
     "name": "stdout",
     "output_type": "stream",
     "text": [
      "alb_labels.json  dol_labels.json  NoF_labels.json    shark_labels.json\r\n",
      "bet_labels.json  lag_labels.json  other_labels.json  yft_labels.json\r\n"
     ]
    }
   ],
   "source": [
    "!ls {KAGGLE_FISHERIES_BB}"
   ]
  },
  {
   "cell_type": "code",
   "execution_count": 8,
   "metadata": {},
   "outputs": [],
   "source": [
    "class_labels={\n",
    "    \"alb\": {\n",
    "        \"class_idx\": 0,\n",
    "        \"bb_filename\": KAGGLE_FISHERIES_BB+\"alb_labels.json\",\n",
    "        \"train_img\": KAGGLE_FISHERIES_TRAIN_IMG+\"/ALB\"\n",
    "    },\n",
    "    \"bet\": {\n",
    "        \"class_idx\": 1,\n",
    "        \"bb_filename\": KAGGLE_FISHERIES_BB+\"bet_labels.json\",\n",
    "        \"train_img\": KAGGLE_FISHERIES_TRAIN_IMG+\"/BET\"\n",
    "    },\n",
    "    \"dol\": {\n",
    "        \"class_idx\": 2,\n",
    "        \"bb_filename\": KAGGLE_FISHERIES_BB+\"dol_labels.json\",\n",
    "        \"train_img\": KAGGLE_FISHERIES_TRAIN_IMG+\"/DOL\"\n",
    "    },\n",
    "    \"lag\": {\n",
    "        \"class_idx\": 3,\n",
    "        \"bb_filename\": KAGGLE_FISHERIES_BB+\"lag_labels.json\",\n",
    "        \"train_img\": KAGGLE_FISHERIES_TRAIN_IMG+\"/LAG\"\n",
    "    },\n",
    "    \"shark\": {\n",
    "        \"class_idx\": 4,\n",
    "        \"bb_filename\": KAGGLE_FISHERIES_BB+\"shark_labels.json\",\n",
    "        \"train_img\": KAGGLE_FISHERIES_TRAIN_IMG+\"/SHARK\"\n",
    "    },\n",
    "    \"yft\": {\n",
    "        \"class_idx\": 5,\n",
    "        \"bb_filename\": KAGGLE_FISHERIES_BB+\"yft_labels.json\",\n",
    "        \"train_img\": KAGGLE_FISHERIES_TRAIN_IMG+\"/YFT\"\n",
    "    },\n",
    "    \"other\": {\n",
    "        \"class_idx\": 6,\n",
    "        \"bb_filename\": KAGGLE_FISHERIES_BB+\"other_labels.json\",\n",
    "        \"train_img\": KAGGLE_FISHERIES_TRAIN_IMG+\"/OTHER\"\n",
    "    },\n",
    "    \n",
    "    #\"nof\": {\n",
    "    #        \"class_idx\": 7,\n",
    "    #    \"bb_filename\": KAGGLE_FISHERIES_BB+\"other_labels.json\",\n",
    "    #    \"train_img\": KAGGLE_FISHERIES_TRAIN_IMG+\"/NoF\"\n",
    "    #}\n",
    "}"
   ]
  },
  {
   "cell_type": "code",
   "execution_count": 9,
   "metadata": {
    "scrolled": true
   },
   "outputs": [
    {
     "data": {
      "image/png": "[encoded data removed]",
      "text/plain": [
       "<Figure size 1296x288 with 1 Axes>"
      ]
     },
     "metadata": {},
     "output_type": "display_data"
    }
   ],
   "source": [
    "obj_classes = [ \"ALB\", \"BET\", \"DOL\", \"LAG\", \"NoF\", \"OTHER\", \"SHARK\", \"YFT\" ]\n",
    "\n",
    "obj_count = {}\n",
    "for o in obj_classes:  \n",
    "    obj_count[o] = {\"count\":len(os.listdir(KAGGLE_FISHERIES_TRAIN_IMG+\"/\"+o))}\n",
    "df = pd.DataFrame.from_dict(obj_count, orient='index')   \n",
    "df.plot.bar(figsize=(18,4),grid=True);"
   ]
  },
  {
   "cell_type": "code",
   "execution_count": 10,
   "metadata": {
    "scrolled": true
   },
   "outputs": [
    {
     "data": {
      "text/html": [
       "<div>\n",
       "<style scoped>\n",
       "    .dataframe tbody tr th:only-of-type {\n",
       "        vertical-align: middle;\n",
       "    }\n",
       "\n",
       "    .dataframe tbody tr th {\n",
       "        vertical-align: top;\n",
       "    }\n",
       "\n",
       "    .dataframe thead th {\n",
       "        text-align: right;\n",
       "    }\n",
       "</style>\n",
       "<table border=\"1\" class=\"dataframe\">\n",
       "  <thead>\n",
       "    <tr style=\"text-align: right;\">\n",
       "      <th></th>\n",
       "      <th>count</th>\n",
       "    </tr>\n",
       "  </thead>\n",
       "  <tbody>\n",
       "    <tr>\n",
       "      <th>ALB</th>\n",
       "      <td>1719</td>\n",
       "    </tr>\n",
       "    <tr>\n",
       "      <th>BET</th>\n",
       "      <td>200</td>\n",
       "    </tr>\n",
       "    <tr>\n",
       "      <th>DOL</th>\n",
       "      <td>117</td>\n",
       "    </tr>\n",
       "    <tr>\n",
       "      <th>LAG</th>\n",
       "      <td>67</td>\n",
       "    </tr>\n",
       "    <tr>\n",
       "      <th>NoF</th>\n",
       "      <td>465</td>\n",
       "    </tr>\n",
       "    <tr>\n",
       "      <th>OTHER</th>\n",
       "      <td>299</td>\n",
       "    </tr>\n",
       "    <tr>\n",
       "      <th>SHARK</th>\n",
       "      <td>176</td>\n",
       "    </tr>\n",
       "    <tr>\n",
       "      <th>YFT</th>\n",
       "      <td>734</td>\n",
       "    </tr>\n",
       "  </tbody>\n",
       "</table>\n",
       "</div>"
      ],
      "text/plain": [
       "       count\n",
       "ALB     1719\n",
       "BET      200\n",
       "DOL      117\n",
       "LAG       67\n",
       "NoF      465\n",
       "OTHER    299\n",
       "SHARK    176\n",
       "YFT      734"
      ]
     },
     "execution_count": 10,
     "metadata": {},
     "output_type": "execute_result"
    }
   ],
   "source": [
    "df"
   ]
  },
  {
   "cell_type": "markdown",
   "metadata": {},
   "source": [
    "## Organizar para YOLOv4"
   ]
  },
  {
   "cell_type": "markdown",
   "metadata": {},
   "source": [
    "Crear estructura de directorios."
   ]
  },
  {
   "cell_type": "code",
   "execution_count": 11,
   "metadata": {},
   "outputs": [],
   "source": [
    "YOLOV4_DATASET_BASE_PATH=WORKSPACE_DATA_PATH + \"/datasets/kaggle-fisheries-yolo/\"\n",
    "YOLOV4_IMG_DIR=\"data\"\n",
    "YOLOV4_BACKUP_DIR=\"backup\"\n",
    "if os.path.exists(YOLOV4_DATASET_BASE_PATH):\n",
    "    shutil.rmtree(YOLOV4_DATASET_BASE_PATH)\n",
    "\n",
    "# crear estructura de directorios\n",
    "os.mkdir(YOLOV4_DATASET_BASE_PATH)\n",
    "os.mkdir(YOLOV4_DATASET_BASE_PATH+YOLOV4_IMG_DIR)\n",
    "os.mkdir(YOLOV4_DATASET_BASE_PATH+YOLOV4_BACKUP_DIR)"
   ]
  },
  {
   "cell_type": "code",
   "execution_count": 12,
   "metadata": {},
   "outputs": [
    {
     "data": {
      "text/plain": [
       "'../..//data//datasets/kaggle-fisheries-yolo/fisheries.data'"
      ]
     },
     "execution_count": 12,
     "metadata": {},
     "output_type": "execute_result"
    }
   ],
   "source": [
    "shutil.copy(\"fisheries.data\",YOLOV4_DATASET_BASE_PATH)"
   ]
  },
  {
   "cell_type": "code",
   "execution_count": 13,
   "metadata": {},
   "outputs": [
    {
     "data": {
      "text/plain": [
       "'../..//data//datasets/kaggle-fisheries-yolo/yolo-fisheries.cfg'"
      ]
     },
     "execution_count": 13,
     "metadata": {},
     "output_type": "execute_result"
    }
   ],
   "source": [
    "shutil.copy(\"yolo-fisheries.cfg\",YOLOV4_DATASET_BASE_PATH)"
   ]
  },
  {
   "cell_type": "markdown",
   "metadata": {},
   "source": [
    "Archivo object.names"
   ]
  },
  {
   "cell_type": "code",
   "execution_count": 14,
   "metadata": {},
   "outputs": [],
   "source": [
    "with open(YOLOV4_DATASET_BASE_PATH+\"/obj.names\",\"wt\") as f:\n",
    "    for c in list(class_labels.keys())[:-1]:\n",
    "        f.write(c+ os.linesep)\n",
    "    # Para evitar el último \\n\n",
    "    f.write(list(class_labels.keys())[-1])"
   ]
  },
  {
   "cell_type": "code",
   "execution_count": 15,
   "metadata": {},
   "outputs": [
    {
     "name": "stdout",
     "output_type": "stream",
     "text": [
      "backup\tdata  fisheries.data  obj.names  yolo-fisheries.cfg\r\n"
     ]
    }
   ],
   "source": [
    "!ls {KAGGLE_FISHERIES_DATASET_YOLO}"
   ]
  },
  {
   "cell_type": "markdown",
   "metadata": {},
   "source": [
    "Preparación de BBs para formato YOLOv4."
   ]
  },
  {
   "cell_type": "code",
   "execution_count": 16,
   "metadata": {},
   "outputs": [],
   "source": [
    "def obtain_yolov4_bbs(img_filename,class_idx,entry,preview=False):\n",
    "    \"\"\"Obtiene las bounding boxes de una entrada de JSON y genera un string\n",
    "       en formato YOLOv4 (Darknet) y devuelve una lista con las BBs.\n",
    "    \"\"\"\n",
    "    yolo_str = \"\"  \n",
    "    pil_img = PIL.Image.open(img_filename)   \n",
    "    img = np.array(pil_img)\n",
    "    img_w = img.shape[1]\n",
    "    img_h = img.shape[0]\n",
    "    boxes = []\n",
    "    for bb in entry['annotations']:\n",
    "        x = int(bb['x'])\n",
    "        y = int(bb['y'])\n",
    "        w = int(bb['width'])\n",
    "        h = int(bb['height'])\n",
    "        xc = (2*x+w)/2\n",
    "        yc = (2*y+h)/2\n",
    "\n",
    "        # Yolo (norm)\n",
    "        xc_norm = xc / img_w\n",
    "        yc_norm = yc / img_h\n",
    "        w_norm = w / img_w\n",
    "        h_norm = h / img_h\n",
    "\n",
    "        boxes.append({\n",
    "            \"class\": class_idx,\n",
    "            \"xc\": xc_norm,\n",
    "            \"yc\": yc_norm,\n",
    "            \"w\": w_norm,\n",
    "            \"h\": h_norm\n",
    "        })\n",
    "\n",
    "        if preview:        \n",
    "            img = cv2.rectangle(img, (int(x), int(y)), (int(x+w), int(y+h)), (0,255,0), 2)\n",
    "            img = cv2.circle(img, (int(xc), int(yc)), 10,(0,255,0))\n",
    "\n",
    "        yolo_str+= \"%d %f %f %f %f\" % (class_idx, xc_norm,yc_norm,w_norm,h_norm) + os.linesep\n",
    "\n",
    "    if preview:\n",
    "        fig,axes = plt.subplots(figsize=(16,8))\n",
    "        axes.imshow(img, interpolation='bicubic', aspect='auto');\n",
    "        axes.grid(False)\n",
    "    return yolo_str,boxes"
   ]
  },
  {
   "cell_type": "code",
   "execution_count": 17,
   "metadata": {},
   "outputs": [
    {
     "name": "stdout",
     "output_type": "stream",
     "text": [
      "ALB  BET  DOL  LAG  NoF  OTHER\tSHARK  YFT\r\n"
     ]
    }
   ],
   "source": [
    "!ls {KAGGLE_FISHERIES_TRAIN_IMG}"
   ]
  },
  {
   "cell_type": "markdown",
   "metadata": {},
   "source": [
    "##### Archivos de anotación de BBs de imagenes\n",
    "\n",
    "Cada imagen debe ser acompañada por un .txt del mismo nombre con esta estructura:\n",
    "\n",
    "Ejemplo:\n",
    "\n",
    "~~~\n",
    "<object-class> <x_center> <y_center> <width> <height>\n",
    "~~~"
   ]
  },
  {
   "cell_type": "code",
   "execution_count": 18,
   "metadata": {
    "scrolled": true
   },
   "outputs": [
    {
     "name": "stdout",
     "output_type": "stream",
     "text": [
      "{'class_idx': 0, 'bb_filename': '../..//data//datasets/kaggle-fisheries//kaggle-ncfm/alb_labels.json', 'train_img': '../..//data//datasets/kaggle-fisheries//train//ALB'}\n",
      "{'class_idx': 1, 'bb_filename': '../..//data//datasets/kaggle-fisheries//kaggle-ncfm/bet_labels.json', 'train_img': '../..//data//datasets/kaggle-fisheries//train//BET'}\n",
      "{'class_idx': 2, 'bb_filename': '../..//data//datasets/kaggle-fisheries//kaggle-ncfm/dol_labels.json', 'train_img': '../..//data//datasets/kaggle-fisheries//train//DOL'}\n",
      "{'class_idx': 3, 'bb_filename': '../..//data//datasets/kaggle-fisheries//kaggle-ncfm/lag_labels.json', 'train_img': '../..//data//datasets/kaggle-fisheries//train//LAG'}\n",
      "{'class_idx': 4, 'bb_filename': '../..//data//datasets/kaggle-fisheries//kaggle-ncfm/shark_labels.json', 'train_img': '../..//data//datasets/kaggle-fisheries//train//SHARK'}\n",
      "{'class_idx': 5, 'bb_filename': '../..//data//datasets/kaggle-fisheries//kaggle-ncfm/yft_labels.json', 'train_img': '../..//data//datasets/kaggle-fisheries//train//YFT'}\n",
      "{'class_idx': 6, 'bb_filename': '../..//data//datasets/kaggle-fisheries//kaggle-ncfm/other_labels.json', 'train_img': '../..//data//datasets/kaggle-fisheries//train//OTHER'}\n"
     ]
    }
   ],
   "source": [
    "img_boxes = {}\n",
    "\n",
    "KAGGLE_FISHERIES_DATASET_YOLO_IMAGES = YOLOV4_DATASET_BASE_PATH+YOLOV4_IMG_DIR\n",
    "\n",
    "for k,v in class_labels.items():\n",
    "    print(v)\n",
    "    class_idx = v['class_idx']\n",
    "    bb_filename = v['bb_filename']  \n",
    "    base_img_path = v['train_img']\n",
    "    with open(bb_filename) as f:\n",
    "        labels = json.load(f)\n",
    "  \n",
    "    for img_entry in labels:        \n",
    "        img_filename = \"%s/%s\" % (base_img_path,os.path.basename(img_entry['filename']))\n",
    "        txt_filename = os.path.splitext(os.path.basename(img_filename))[0]+\".txt\"    \n",
    "        try:      \n",
    "            shutil.copy2(img_filename, KAGGLE_FISHERIES_DATASET_YOLO_IMAGES)\n",
    "            yolo_bb_str,boxes = obtain_yolov4_bbs(img_filename,class_idx,img_entry,preview=False)\n",
    "\n",
    "            img_name = os.path.basename(img_entry['filename'])\n",
    "            if img_name not in img_boxes:\n",
    "                img_boxes[img_name] = []\n",
    "            img_boxes[img_name].append(boxes)\n",
    "\n",
    "            with open(\"%s/%s\" % (KAGGLE_FISHERIES_DATASET_YOLO_LABELS,txt_filename),\"w\") as fp:\n",
    "                fp.write(yolo_bb_str)\n",
    "        except FileNotFoundError:\n",
    "            print(\"Warning. %s not found\" % img_filename)"
   ]
  },
  {
   "cell_type": "markdown",
   "metadata": {},
   "source": [
    "##### Archivos train.txt y test.txt:\n",
    "\n",
    "~~~\n",
    "data/<image_path>\n",
    "~~~"
   ]
  },
  {
   "cell_type": "code",
   "execution_count": 19,
   "metadata": {},
   "outputs": [],
   "source": [
    "filenames = [os.path.splitext(os.path.basename(x))[0] for x in glob.glob(YOLOV4_DATASET_BASE_PATH+YOLOV4_IMG_DIR+\"/*.txt\")]"
   ]
  },
  {
   "cell_type": "code",
   "execution_count": 20,
   "metadata": {},
   "outputs": [],
   "source": [
    "TRAIN_TEST_SPLIT = 0.3\n",
    "n_samples = len(filenames)\n",
    "img_dst_path = \"./data/\" # nombre de la carpeta en docker\n",
    "\n",
    "i0=int(TRAIN_TEST_SPLIT*n_samples)\n",
    "indexes = np.random.permutation(n_samples)\n",
    "train,test = indexes[:i0],indexes[i0:]\n",
    "\n",
    "with open(YOLOV4_DATASET_BASE_PATH+\"/train.txt\",\"w\") as fp:\n",
    "    for i in train:\n",
    "        print(img_dst_path+filenames[i]+\".jpg\",file=fp)\n",
    "\n",
    "with open(YOLOV4_DATASET_BASE_PATH+\"/test.txt\",\"w\") as fp:\n",
    "    for i in test:\n",
    "        print(img_dst_path+filenames[i]+\".jpg\",file=fp)    "
   ]
  },
  {
   "cell_type": "code",
   "execution_count": 21,
   "metadata": {},
   "outputs": [
    {
     "name": "stdout",
     "output_type": "stream",
     "text": [
      "backup\tfisheries.data\ttest.txt   yolo-fisheries.cfg\r\n",
      "data\tobj.names\ttrain.txt\r\n"
     ]
    }
   ],
   "source": [
    "!ls {YOLOV4_DATASET_BASE_PATH}"
   ]
  }
 ],
 "metadata": {
  "kernelspec": {
   "display_name": "Python 3",
   "language": "python",
   "name": "python3"
  },
  "language_info": {
   "codemirror_mode": {
    "name": "ipython",
    "version": 3
   },
   "file_extension": ".py",
   "mimetype": "text/x-python",
   "name": "python",
   "nbconvert_exporter": "python",
   "pygments_lexer": "ipython3",
   "version": "3.7.0"
  }
 },
 "nbformat": 4,
 "nbformat_minor": 4
}
