{
 "cells": [
  {
   "cell_type": "markdown",
   "id": "dec0badc",
   "metadata": {},
   "source": [
    "# Extensión del dataset\n",
    "\n",
    "Este cuaderno agrega ejemplos a los originales con el objetivo de mejorar el desempeño del modelo entrenado en la demostración técnica.\n",
    "\n",
    "Se crea un nuevo directorio con un dataset que mantiene la organización del original, agregando ejemplos.\n",
    "\n",
    "~~~\n",
    "./kaggle-fisheries-ext-yolo/\n",
    "  |- data/\n",
    "  |   |- 00000.jpg\n",
    "  |   |- 00000.txt\n",
    "  |   |- ...\n",
    "  |- classes.names\n",
    "  |- train.txt\n",
    "  |- test.txt\n",
    "  |- yolo-fisheries.cfg\n",
    "  |- fisheries.data\n",
    " ~~~"
   ]
  },
  {
   "cell_type": "markdown",
   "id": "140162e2",
   "metadata": {},
   "source": [
    "## Procedimiento"
   ]
  },
  {
   "cell_type": "code",
   "execution_count": 48,
   "id": "d59f0919",
   "metadata": {},
   "outputs": [],
   "source": [
    "import glob\n",
    "import os\n",
    "import numpy as np\n",
    "import cv2"
   ]
  },
  {
   "cell_type": "markdown",
   "id": "8985a0f3",
   "metadata": {},
   "source": [
    "### 1. Copiar dataset original en nuevo directorio"
   ]
  },
  {
   "cell_type": "code",
   "execution_count": 9,
   "id": "0481a951",
   "metadata": {
    "scrolled": false
   },
   "outputs": [
    {
     "name": "stdout",
     "output_type": "stream",
     "text": [
      "ai-fisheries.yml\t\t env.sh\r\n",
      "ai-for-fisheries.code-workspace  kaggle.json\r\n",
      "applications\t\t\t libcudart.so.10.1\r\n",
      "assets\t\t\t\t model-development-and-training\r\n",
      "biblio\t\t\t\t planning\r\n",
      "build.sh\t\t\t README.md\r\n",
      "conda\t\t\t\t reports\r\n",
      "data\t\t\t\t run-jupyter-data-science.sh\r\n",
      "data-preparation\t\t run-jupyter-local.sh\r\n",
      "doc\t\t\t\t TestEnvironment.ipynb\r\n",
      "docker-compose\t\t\t tmp\r\n",
      "dockers\t\t\t\t videoanalytics\r\n",
      "draft\r\n"
     ]
    }
   ],
   "source": [
    "#WORKSPACE_PATH = \"/home/jovyan/work/\" # docker\n",
    "#WORKSPACE_PATH = \"/notebooks/\" # otro docker\n",
    "WORKSPACE_PATH = \"../../\" # pc-invap\n",
    "!ls {WORKSPACE_PATH}"
   ]
  },
  {
   "cell_type": "code",
   "execution_count": 13,
   "id": "89364c0d",
   "metadata": {},
   "outputs": [
    {
     "name": "stdout",
     "output_type": "stream",
     "text": [
      "backup\t\t   eval-tiny.sh\t\t\t   logs       train.sh\r\n",
      "copy-to-models.sh  kaggle-fisheries.data\t   obj.names  train-tiny.sh\r\n",
      "data\t\t   kaggle-fisheries-yolo4.cfg\t   README.md  train.txt\r\n",
      "eval.sh\t\t   kaggle-fisheries-yolo4tiny.cfg  test.txt\r\n"
     ]
    }
   ],
   "source": [
    "# Dataset YOLO (original)\n",
    "WORKSPACE_DATA_PATH = WORKSPACE_PATH+\"/data/\"\n",
    "ORIGINAL_KAGGLE_FISHERIES_DATASET_YOLO = WORKSPACE_DATA_PATH+\"/datasets/kaggle-fisheries-yolo/\"\n",
    "!ls {ORIGINAL_KAGGLE_FISHERIES_DATASET_YOLO}"
   ]
  },
  {
   "cell_type": "code",
   "execution_count": 21,
   "id": "c4dc1b8d",
   "metadata": {
    "scrolled": true
   },
   "outputs": [
    {
     "name": "stdout",
     "output_type": "stream",
     "text": [
      "data\t\t\t   kaggle-fisheries-ext-yolo4.cfg  obj.names  train.txt\r\n",
      "kaggle-fisheries-ext.data  kaggle-fisheries-yolo4.cfg\t   test.txt\r\n"
     ]
    }
   ],
   "source": [
    "NEW_KAGGLE_FISHERIES_DATASET_YOLO = WORKSPACE_DATA_PATH+\"/datasets/kaggle-fisheries-ext-yolo/\"\n",
    "!mkdir -pv {NEW_KAGGLE_FISHERIES_DATASET_YOLO}\n",
    "!cp  {ORIGINAL_KAGGLE_FISHERIES_DATASET_YOLO}/kaggle-fisheries-yolo4.cfg \\\n",
    "     {NEW_KAGGLE_FISHERIES_DATASET_YOLO}/kaggle-fisheries-ext-yolo4.cfg\n",
    "!cp {ORIGINAL_KAGGLE_FISHERIES_DATASET_YOLO}/kaggle-fisheries.data \\\n",
    "    {NEW_KAGGLE_FISHERIES_DATASET_YOLO}/kaggle-fisheries-ext.data\n",
    "!cp {ORIGINAL_KAGGLE_FISHERIES_DATASET_YOLO}/obj.names \\\n",
    "    {NEW_KAGGLE_FISHERIES_DATASET_YOLO}\n",
    "!cp {ORIGINAL_KAGGLE_FISHERIES_DATASET_YOLO}/data \\\n",
    "    {NEW_KAGGLE_FISHERIES_DATASET_YOLO} -r\n",
    "!cp {ORIGINAL_KAGGLE_FISHERIES_DATASET_YOLO}/train.txt \\\n",
    "    {NEW_KAGGLE_FISHERIES_DATASET_YOLO} \n",
    "!cp {ORIGINAL_KAGGLE_FISHERIES_DATASET_YOLO}/test.txt \\\n",
    "    {NEW_KAGGLE_FISHERIES_DATASET_YOLO} \n",
    "!ls {NEW_KAGGLE_FISHERIES_DATASET_YOLO}"
   ]
  },
  {
   "cell_type": "code",
   "execution_count": 70,
   "id": "76d53f44",
   "metadata": {},
   "outputs": [
    {
     "name": "stdout",
     "output_type": "stream",
     "text": [
      "alb\r\n",
      "bet\r\n",
      "dol\r\n",
      "lag\r\n",
      "shark\r\n",
      "yft\r\n",
      "other"
     ]
    }
   ],
   "source": [
    "!cat {NEW_KAGGLE_FISHERIES_DATASET_YOLO}/obj.names"
   ]
  },
  {
   "cell_type": "markdown",
   "id": "9feeaf55",
   "metadata": {},
   "source": [
    "### 2. Extraer nuevos ejemplos de los videos"
   ]
  },
  {
   "cell_type": "code",
   "execution_count": 45,
   "id": "b11af39a",
   "metadata": {},
   "outputs": [],
   "source": [
    "def train_test_split_frames(cap,dataset_sz = None,test_split = 0.3):\n",
    "    \"\"\" Particionar un video en dos conjuntos train,set\n",
    "    cap: video (OpenCV)\n",
    "    dataset_sz: tamaño máximo en frames\n",
    "    test_split: porcentaje de partición destinado a test\n",
    "    \"\"\"\n",
    "    total_frames = int(cap.get(cv2.CAP_PROP_FRAME_COUNT))\n",
    "    dataset_sz = total_frames if dataset_sz is None else dataset_sz\n",
    "    data = np.random.randint(total_frames, size=dataset_sz)\n",
    "    indices = np.random.permutation(data.shape[0])\n",
    "    i0 = int(dataset_sz*(1.-test_split))\n",
    "    train_idx, test_idx = indices[:i0], indices[i0:]\n",
    "    train, test = data[train_idx], data[test_idx]    \n",
    "    return train,test\n",
    "\n",
    "def save_images(cap, prefix,dst_path,img_frames):\n",
    "    \"\"\" Extraer imagenes de un video y almacenarlas como JPG.\n",
    "    dst_path: ruta de destino\n",
    "    img_frames: array con índices de frames\n",
    "    \"\"\"\n",
    "    for x in img_frames:\n",
    "        cap.set(cv2.CAP_PROP_POS_FRAMES,x)\n",
    "        ret, frame = cap.read()\n",
    "        img_filename = dst_path+\"/img_{}_{}.jpg\".format(prefix,x)\n",
    "        cv2.imwrite(img_filename, frame)"
   ]
  },
  {
   "cell_type": "code",
   "execution_count": 67,
   "id": "bbf5075c",
   "metadata": {},
   "outputs": [
    {
     "name": "stdout",
     "output_type": "stream",
     "text": [
      "test  train\r\n"
     ]
    }
   ],
   "source": [
    "!mkdir -pv {NEW_KAGGLE_FISHERIES_DATASET_YOLO}/new_samples\n",
    "!mkdir -pv {NEW_KAGGLE_FISHERIES_DATASET_YOLO}/new_samples/train\n",
    "!mkdir -pv {NEW_KAGGLE_FISHERIES_DATASET_YOLO}/new_samples/test\n",
    "!cp {ORIGINAL_KAGGLE_FISHERIES_DATASET_YOLO}/obj.names \\\n",
    "    {NEW_KAGGLE_FISHERIES_DATASET_YOLO}/new_samples/train\n",
    "!cp {ORIGINAL_KAGGLE_FISHERIES_DATASET_YOLO}/obj.names \\\n",
    "    {NEW_KAGGLE_FISHERIES_DATASET_YOLO}/new_samples/test\n",
    "!ls {NEW_KAGGLE_FISHERIES_DATASET_YOLO}/new_samples"
   ]
  },
  {
   "cell_type": "code",
   "execution_count": 68,
   "id": "ca7953e1",
   "metadata": {},
   "outputs": [
    {
     "data": {
      "text/plain": [
       "['14.mp4',\n",
       " '19.mp4',\n",
       " '001.mp4',\n",
       " '18.mp4',\n",
       " '002.mp4',\n",
       " '13.mp4',\n",
       " '15.mp4',\n",
       " '12.mp4',\n",
       " '008.mp4',\n",
       " '007.mp4',\n",
       " '17.mp4',\n",
       " '003.mp4',\n",
       " '004.mp4',\n",
       " '009.mp4',\n",
       " '006.mp4',\n",
       " '005.mp4',\n",
       " '16.mp4',\n",
       " '10.mp4',\n",
       " '11.mp4']"
      ]
     },
     "execution_count": 68,
     "metadata": {},
     "output_type": "execute_result"
    }
   ],
   "source": [
    "INPUT_VIDEOS_PATH= WORKSPACE_DATA_PATH+\"/media/fishcount/input_videos/\"\n",
    "input_videos = [os.path.basename(x) for x in glob.glob(INPUT_VIDEOS_PATH+\"*.mp4\")]\n",
    "input_videos"
   ]
  },
  {
   "cell_type": "code",
   "execution_count": 69,
   "id": "1d5cb130",
   "metadata": {},
   "outputs": [],
   "source": [
    "for video_filename in input_videos:\n",
    "    cap = cv2.VideoCapture(INPUT_VIDEOS_PATH+video_filename)\n",
    "    total_frames = int(cap.get(cv2.CAP_PROP_FRAME_COUNT))\n",
    "    #print(\"Total:\", total_frames)\n",
    "    dataset_total_frames = 20\n",
    "    train,test =  train_test_split_frames(cap,dataset_sz = dataset_total_frames,test_split = 0.3)\n",
    "    #print(\"Train:\", train.shape[0])\n",
    "    #print(\"Test:\", test.shape[0])\n",
    "    prefix=os.path.splitext(video_filename)[0]\n",
    "    save_images(cap, prefix,NEW_KAGGLE_FISHERIES_DATASET_YOLO+\"/new_data/train\",train)\n",
    "    save_images(cap, prefix,NEW_KAGGLE_FISHERIES_DATASET_YOLO+\"/new_data/test\",test)"
   ]
  },
  {
   "cell_type": "markdown",
   "id": "8406afc9",
   "metadata": {},
   "source": [
    "Etiquetar (paso manual)."
   ]
  },
  {
   "cell_type": "markdown",
   "id": "4b4abeb9",
   "metadata": {},
   "source": [
    "Nota: editar primero la imagen 'aux' con todas las clases para evitar errores de índice.\n",
    "\n",
    "~~~bash\n",
    "labelImg\n",
    "~~~~"
   ]
  },
  {
   "cell_type": "code",
   "execution_count": 99,
   "id": "ccc947ce",
   "metadata": {
    "scrolled": false
   },
   "outputs": [],
   "source": [
    "all_new_samples = [\"./data/\"+os.path.basename(x) for x in glob.glob(NEW_KAGGLE_FISHERIES_DATASET_YOLO+\"/new_data/train/*.jpg\")]\n",
    "\n",
    "with open(NEW_KAGGLE_FISHERIES_DATASET_YOLO+\"/train.onlynew.txt\",\"w\") as fp:\n",
    "    for x in all_new_samples:\n",
    "        print(x,file=fp)    \n",
    "        \n",
    "!cp {NEW_KAGGLE_FISHERIES_DATASET_YOLO}/train.original.txt \\\n",
    "    {NEW_KAGGLE_FISHERIES_DATASET_YOLO}/train.oldandnew.txt\n",
    "with open(NEW_KAGGLE_FISHERIES_DATASET_YOLO+\"/train.oldandnew.txt\",\"a\") as fp:\n",
    "    for x in all_new_samples:\n",
    "        print(x,file=fp)    "
   ]
  }
 ],
 "metadata": {
  "kernelspec": {
   "display_name": "Python 3",
   "language": "python",
   "name": "python3"
  },
  "language_info": {
   "codemirror_mode": {
    "name": "ipython",
    "version": 3
   },
   "file_extension": ".py",
   "mimetype": "text/x-python",
   "name": "python",
   "nbconvert_exporter": "python",
   "pygments_lexer": "ipython3",
   "version": "3.7.0"
  }
 },
 "nbformat": 4,
 "nbformat_minor": 5
}
