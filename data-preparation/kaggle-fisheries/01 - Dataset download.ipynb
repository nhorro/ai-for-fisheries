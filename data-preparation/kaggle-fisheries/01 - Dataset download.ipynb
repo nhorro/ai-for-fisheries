{
 "cells": [
  {
   "cell_type": "markdown",
   "metadata": {},
   "source": [
    "# Descarga de dataset de Kaggle\n",
    "\n",
    "Se descargar el dataset [Kaggle - The Nature Conservancy Fisheries Monitoring](https://www.kaggle.com/c/the-nature-conservancy-fisheries-monitoring) para el cuál ya se dispone de datos etiquetados y los bounding boxes aportados por comunidad de usuarios.\n",
    "\n",
    "Nota: requiere cuenta en Kaggle (gratuita). Se asume que el archivo kaggle.json con el API Key está en WORKSPACE_PATH."
   ]
  },
  {
   "cell_type": "markdown",
   "metadata": {},
   "source": [
    "Nota: recordar establecer proxy en caso de ser necesario en los pasos de descarga externa."
   ]
  },
  {
   "cell_type": "code",
   "execution_count": 1,
   "metadata": {},
   "outputs": [],
   "source": [
    "HTTP_PROXY=\"http://125.1.1.134:3128/\""
   ]
  },
  {
   "cell_type": "code",
   "execution_count": 2,
   "metadata": {
    "scrolled": true
   },
   "outputs": [
    {
     "name": "stdout",
     "output_type": "stream",
     "text": [
      "Collecting kaggle\n",
      "  Downloading kaggle-1.5.12.tar.gz (58 kB)\n",
      "\u001b[K     |████████████████████████████████| 58 kB 1.8 MB/s eta 0:00:01\n",
      "\u001b[?25hRequirement already satisfied: six>=1.10 in /home/nhorro/miniconda3/envs/darknet-gpu/lib/python3.7/site-packages (from kaggle) (1.15.0)\n",
      "Requirement already satisfied: certifi in /home/nhorro/miniconda3/envs/darknet-gpu/lib/python3.7/site-packages (from kaggle) (2020.6.20)\n",
      "Requirement already satisfied: python-dateutil in /home/nhorro/miniconda3/envs/darknet-gpu/lib/python3.7/site-packages (from kaggle) (2.8.1)\n",
      "Requirement already satisfied: requests in /home/nhorro/miniconda3/envs/darknet-gpu/lib/python3.7/site-packages (from kaggle) (2.25.1)\n",
      "Requirement already satisfied: tqdm in /home/nhorro/miniconda3/envs/darknet-gpu/lib/python3.7/site-packages (from kaggle) (4.60.0)\n",
      "Collecting python-slugify\n",
      "  Downloading python_slugify-5.0.2-py2.py3-none-any.whl (6.7 kB)\n",
      "Requirement already satisfied: urllib3 in /home/nhorro/miniconda3/envs/darknet-gpu/lib/python3.7/site-packages (from kaggle) (1.26.4)\n",
      "Collecting text-unidecode>=1.3\n",
      "  Downloading text_unidecode-1.3-py2.py3-none-any.whl (78 kB)\n",
      "\u001b[K     |████████████████████████████████| 78 kB 2.4 MB/s eta 0:00:011\n",
      "\u001b[?25hRequirement already satisfied: idna<3,>=2.5 in /home/nhorro/miniconda3/envs/darknet-gpu/lib/python3.7/site-packages (from requests->kaggle) (2.10)\n",
      "Requirement already satisfied: chardet<5,>=3.0.2 in /home/nhorro/miniconda3/envs/darknet-gpu/lib/python3.7/site-packages (from requests->kaggle) (4.0.0)\n",
      "Building wheels for collected packages: kaggle\n",
      "  Building wheel for kaggle (setup.py) ... \u001b[?25ldone\n",
      "\u001b[?25h  Created wheel for kaggle: filename=kaggle-1.5.12-py3-none-any.whl size=73053 sha256=a7ca0412fc3fd8ce5835712b2b3c416ecf85a4b99dd2772d004692524036af2f\n",
      "  Stored in directory: /home/nhorro/.cache/pip/wheels/62/d6/58/5853130f941e75b2177d281eb7e44b4a98ed46dd155f556dc5\n",
      "Successfully built kaggle\n",
      "Installing collected packages: text-unidecode, python-slugify, kaggle\n",
      "Successfully installed kaggle-1.5.12 python-slugify-5.0.2 text-unidecode-1.3\n"
     ]
    }
   ],
   "source": [
    "!pip3 install --proxy {HTTP_PROXY} kaggle"
   ]
  },
  {
   "cell_type": "code",
   "execution_count": 3,
   "metadata": {},
   "outputs": [
    {
     "name": "stdout",
     "output_type": "stream",
     "text": [
      "/data/nhorro/github/ai-for-fisheries/data-preparation/kaggle-fisheries\r\n"
     ]
    }
   ],
   "source": [
    "!pwd"
   ]
  },
  {
   "cell_type": "markdown",
   "metadata": {},
   "source": [
    "Directorio de trabajo y datos."
   ]
  },
  {
   "cell_type": "code",
   "execution_count": 15,
   "metadata": {},
   "outputs": [],
   "source": [
    "WORKSPACE_PATH = \"../../\"\n",
    "WORKSPACE_DATA_PATH = WORKSPACE_PATH+\"/data/\""
   ]
  },
  {
   "cell_type": "code",
   "execution_count": 16,
   "metadata": {},
   "outputs": [
    {
     "name": "stdout",
     "output_type": "stream",
     "text": [
      "ai-for-fisheries.code-workspace  object-detector\r\n",
      "assets\t\t\t\t object-detector-trainer\r\n",
      "biblio\t\t\t\t planning\r\n",
      "build.sh\t\t\t prueba.sh\r\n",
      "compose\t\t\t\t README.md\r\n",
      "data\t\t\t\t reports\r\n",
      "data-preparation\t\t run-jupyter-data-science.sh\r\n",
      "dockers\t\t\t\t run-jupyter-local.sh\r\n",
      "env.sh\t\t\t\t TestEnvironment.ipynb\r\n",
      "minutas.md\t\t\t videoanalytics\r\n"
     ]
    }
   ],
   "source": [
    "!ls {WORKSPACE_PATH}"
   ]
  },
  {
   "cell_type": "code",
   "execution_count": 17,
   "metadata": {},
   "outputs": [
    {
     "name": "stdout",
     "output_type": "stream",
     "text": [
      "other\r\n"
     ]
    }
   ],
   "source": [
    "!ls {WORKSPACE_DATA_PATH}"
   ]
  },
  {
   "cell_type": "markdown",
   "metadata": {},
   "source": [
    "Directorio donde quedará el dataset una vez descomprimido."
   ]
  },
  {
   "cell_type": "code",
   "execution_count": 22,
   "metadata": {},
   "outputs": [
    {
     "name": "stdout",
     "output_type": "stream",
     "text": [
      "mkdir: created directory '../..//data//datasets'\r\n",
      "mkdir: created directory '../..//data//datasets/kaggle-fisheries/'\r\n"
     ]
    }
   ],
   "source": [
    "KAGGLE_FISHERIES_DATASET = WORKSPACE_DATA_PATH+\"/datasets/kaggle-fisheries/\"\n",
    "!mkdir -pv {KAGGLE_FISHERIES_DATASET}"
   ]
  },
  {
   "cell_type": "markdown",
   "metadata": {},
   "source": [
    "Configuración de kaggle."
   ]
  },
  {
   "cell_type": "markdown",
   "metadata": {},
   "source": [
    "Sólo para docker (con root), copiar a home:"
   ]
  },
  {
   "cell_type": "code",
   "execution_count": null,
   "metadata": {},
   "outputs": [],
   "source": [
    "!mkdir -pv /root/.kaggle\n",
    "!cp  {WORKSPACE_PATH}/kaggle.json /root/.kaggle\n",
    "!chmod 600 /root/.kaggle/kaggle.json\n",
    "!cat  /root/.kaggle/kaggle.json"
   ]
  },
  {
   "cell_type": "code",
   "execution_count": 26,
   "metadata": {},
   "outputs": [
    {
     "name": "stdout",
     "output_type": "stream",
     "text": [
      "- proxy is now set to: http://125.1.1.134:3128/\r\n"
     ]
    }
   ],
   "source": [
    "!kaggle config set -n proxy -v {HTTP_PROXY}"
   ]
  },
  {
   "cell_type": "code",
   "execution_count": 27,
   "metadata": {},
   "outputs": [
    {
     "name": "stdout",
     "output_type": "stream",
     "text": [
      "Configuration values from /home/nhorro/.kaggle\r\n",
      "- username: nicolashorro\r\n",
      "- path: None\r\n",
      "- proxy: http://125.1.1.134:3128/\r\n",
      "- competition: None\r\n"
     ]
    }
   ],
   "source": [
    "!kaggle config view"
   ]
  },
  {
   "cell_type": "code",
   "execution_count": 28,
   "metadata": {
    "scrolled": false
   },
   "outputs": [
    {
     "name": "stdout",
     "output_type": "stream",
     "text": [
      "Downloading the-nature-conservancy-fisheries-monitoring.zip to /data/nhorro/github/ai-for-fisheries/data-preparation/kaggle-fisheries\n",
      "100%|██████████████████████████████████████| 2.11G/2.11G [03:35<00:00, 11.6MB/s]\n",
      "100%|██████████████████████████████████████| 2.11G/2.11G [03:35<00:00, 10.5MB/s]\n"
     ]
    }
   ],
   "source": [
    "!kaggle competitions download -c the-nature-conservancy-fisheries-monitoring"
   ]
  },
  {
   "cell_type": "code",
   "execution_count": 29,
   "metadata": {},
   "outputs": [
    {
     "name": "stdout",
     "output_type": "stream",
     "text": [
      "'01 - Dataset download.ipynb'\r\n",
      "'02 - Dataset exploration.ipynb'\r\n",
      "'03 - Dataset preparation.ipynb'\r\n",
      " fisheries.data\r\n",
      " the-nature-conservancy-fisheries-monitoring.zip\r\n",
      " yolo-fisheries.cfg\r\n"
     ]
    }
   ],
   "source": [
    "!ls"
   ]
  },
  {
   "cell_type": "code",
   "execution_count": 30,
   "metadata": {},
   "outputs": [
    {
     "data": {
      "text/plain": [
       "{'../..//data//datasets/kaggle-fisheries/'}"
      ]
     },
     "execution_count": 30,
     "metadata": {},
     "output_type": "execute_result"
    }
   ],
   "source": [
    "{KAGGLE_FISHERIES_DATASET}"
   ]
  },
  {
   "cell_type": "code",
   "execution_count": 31,
   "metadata": {},
   "outputs": [],
   "source": [
    "!mv the-nature-conservancy-fisheries-monitoring.zip {KAGGLE_FISHERIES_DATASET}"
   ]
  },
  {
   "cell_type": "code",
   "execution_count": 32,
   "metadata": {},
   "outputs": [
    {
     "name": "stdout",
     "output_type": "stream",
     "text": [
      "the-nature-conservancy-fisheries-monitoring.zip\r\n"
     ]
    }
   ],
   "source": [
    "!ls {KAGGLE_FISHERIES_DATASET}"
   ]
  },
  {
   "cell_type": "code",
   "execution_count": 33,
   "metadata": {
    "scrolled": true
   },
   "outputs": [
    {
     "name": "stdout",
     "output_type": "stream",
     "text": [
      "/data/nhorro/github/ai-for-fisheries/data/datasets/kaggle-fisheries\n"
     ]
    }
   ],
   "source": [
    "%cd {KAGGLE_FISHERIES_DATASET}"
   ]
  },
  {
   "cell_type": "markdown",
   "metadata": {},
   "source": [
    "Utilitarios requeridos (sólo aplica para docker, y en caso de que no estén)."
   ]
  },
  {
   "cell_type": "code",
   "execution_count": 34,
   "metadata": {},
   "outputs": [
    {
     "name": "stdout",
     "output_type": "stream",
     "text": [
      "Reading package lists... Done\n",
      "E: Could not open lock file /var/lib/apt/lists/lock - open (13: Permission denied)\n",
      "E: Unable to lock directory /var/lib/apt/lists/\n",
      "W: Problem unlinking the file /var/cache/apt/pkgcache.bin - RemoveCaches (13: Permission denied)\n",
      "W: Problem unlinking the file /var/cache/apt/srcpkgcache.bin - RemoveCaches (13: Permission denied)\n"
     ]
    }
   ],
   "source": [
    "!http_proxy={HTTP_PROXY} apt-get update && apt-get install zip unzip"
   ]
  },
  {
   "cell_type": "code",
   "execution_count": 35,
   "metadata": {},
   "outputs": [
    {
     "name": "stdout",
     "output_type": "stream",
     "text": [
      "E: Could not open lock file /var/cache/apt/archives/lock - open (13: Permission denied)\n",
      "E: Unable to lock the download directory\n",
      "E: Could not open lock file /var/lib/dpkg/lock-frontend - open (13: Permission denied)\n",
      "E: Unable to acquire the dpkg frontend lock (/var/lib/dpkg/lock-frontend), are you root?\n"
     ]
    }
   ],
   "source": [
    "!apt-get autoclean\n",
    "!apt-get autoremove "
   ]
  },
  {
   "cell_type": "code",
   "execution_count": 36,
   "metadata": {
    "scrolled": true
   },
   "outputs": [
    {
     "name": "stdout",
     "output_type": "stream",
     "text": [
      "E: Could not open lock file /var/lib/dpkg/lock-frontend - open (13: Permission denied)\r\n",
      "E: Unable to acquire the dpkg frontend lock (/var/lib/dpkg/lock-frontend), are you root?\r\n"
     ]
    }
   ],
   "source": [
    "!http_proxy={HTTP_PROXY} apt-get install wget"
   ]
  },
  {
   "cell_type": "code",
   "execution_count": 37,
   "metadata": {
    "scrolled": true
   },
   "outputs": [
    {
     "name": "stdout",
     "output_type": "stream",
     "text": [
      "Archive:  the-nature-conservancy-fisheries-monitoring.zip\n",
      "  inflating: sample_submission_stg1.csv.zip  \n",
      "  inflating: sample_submission_stg2.csv.zip  \n",
      "  inflating: test_stg1.zip           \n",
      "  inflating: test_stg2.7z            \n",
      "  inflating: train.zip               \n"
     ]
    }
   ],
   "source": [
    "!unzip the-nature-conservancy-fisheries-monitoring.zip"
   ]
  },
  {
   "cell_type": "code",
   "execution_count": 83,
   "metadata": {},
   "outputs": [
    {
     "name": "stdout",
     "output_type": "stream",
     "text": [
      "/notebooks/data/datasets/kaggle-fisheries\r\n"
     ]
    }
   ],
   "source": [
    "!pwd"
   ]
  },
  {
   "cell_type": "code",
   "execution_count": null,
   "metadata": {},
   "outputs": [],
   "source": [
    "!unzip -o train.zip "
   ]
  },
  {
   "cell_type": "code",
   "execution_count": null,
   "metadata": {},
   "outputs": [],
   "source": [
    "!unzip test_stg1.zip"
   ]
  },
  {
   "cell_type": "code",
   "execution_count": 61,
   "metadata": {
    "scrolled": true
   },
   "outputs": [
    {
     "name": "stdout",
     "output_type": "stream",
     "text": [
      "/bin/bash: p7zip: command not found\r\n"
     ]
    }
   ],
   "source": [
    "# TODO agregar p7zip\n",
    "!p7zip -d test_stg2.7z"
   ]
  },
  {
   "cell_type": "markdown",
   "metadata": {},
   "source": [
    "Bounding boxes (ya incluidas).\n",
    "\n",
    "https://drive.google.com/file/d/1d55DYrIqP4pVN5el_IOqM3n640hmF-zX/view?usp=sharing"
   ]
  },
  {
   "cell_type": "code",
   "execution_count": 40,
   "metadata": {
    "scrolled": false
   },
   "outputs": [
    {
     "name": "stdout",
     "output_type": "stream",
     "text": [
      "--2021-07-27 22:29:26--  https://docs.google.com/uc?export=download&id=1d55DYrIqP4pVN5el_IOqM3n640hmF-zX\n",
      "Connecting to 125.1.1.134:3128... connected.\n",
      "Proxy request sent, awaiting response... 302 Moved Temporarily\n",
      "Location: https://doc-0k-7o-docs.googleusercontent.com/docs/securesc/ha0ro937gcuc7l7deffksulhg5h7mbp1/7bpolj3c5bkjb2qahgffgiutvpvjnlv9/1627424925000/02428399203512836803/*/1d55DYrIqP4pVN5el_IOqM3n640hmF-zX?e=download [following]\n",
      "Warning: wildcards not supported in HTTP.\n",
      "--2021-07-27 22:29:27--  https://doc-0k-7o-docs.googleusercontent.com/docs/securesc/ha0ro937gcuc7l7deffksulhg5h7mbp1/7bpolj3c5bkjb2qahgffgiutvpvjnlv9/1627424925000/02428399203512836803/*/1d55DYrIqP4pVN5el_IOqM3n640hmF-zX?e=download\n",
      "Connecting to 125.1.1.134:3128... connected.\n",
      "Proxy request sent, awaiting response... 200 OK\n",
      "Length: 168098 (164K) [application/zip]\n",
      "Saving to: ‘bounding-boxes.zip’\n",
      "\n",
      "bounding-boxes.zip  100%[===================>] 164.16K  --.-KB/s    in 0.07s   \n",
      "\n",
      "2021-07-27 22:29:28 (2.42 MB/s) - ‘bounding-boxes.zip’ saved [168098/168098]\n",
      "\n"
     ]
    }
   ],
   "source": [
    "!wget --no-check-certificate 'https://docs.google.com/uc?export=download&id=1d55DYrIqP4pVN5el_IOqM3n640hmF-zX' -O bounding-boxes.zip"
   ]
  },
  {
   "cell_type": "code",
   "execution_count": 41,
   "metadata": {
    "scrolled": true
   },
   "outputs": [
    {
     "name": "stdout",
     "output_type": "stream",
     "text": [
      "Archive:  bounding-boxes.zip\r\n",
      "  inflating: kaggle-ncfm/shark_labels.json  \r\n",
      "  inflating: kaggle-ncfm/lag_labels.json  \r\n",
      "  inflating: kaggle-ncfm/alb_labels.json  \r\n",
      "  inflating: kaggle-ncfm/dol_labels.json  \r\n",
      "  inflating: kaggle-ncfm/bet_labels.json  \r\n",
      "  inflating: kaggle-ncfm/NoF_labels.json  \r\n",
      "  inflating: kaggle-ncfm/other_labels.json  \r\n",
      "  inflating: kaggle-ncfm/yft_labels.json  \r\n"
     ]
    }
   ],
   "source": [
    "!unzip bounding-boxes.zip"
   ]
  },
  {
   "cell_type": "code",
   "execution_count": 42,
   "metadata": {
    "scrolled": true
   },
   "outputs": [
    {
     "name": "stdout",
     "output_type": "stream",
     "text": [
      "bounding-boxes.zip\t\ttest_stg1.zip\r\n",
      "kaggle-ncfm\t\t\ttest_stg2.7z\r\n",
      "__MACOSX\t\t\tthe-nature-conservancy-fisheries-monitoring.zip\r\n",
      "sample_submission_stg1.csv.zip\ttrain\r\n",
      "sample_submission_stg2.csv.zip\ttrain.zip\r\n",
      "test_stg1\r\n"
     ]
    }
   ],
   "source": [
    "!ls"
   ]
  },
  {
   "cell_type": "code",
   "execution_count": 43,
   "metadata": {},
   "outputs": [],
   "source": [
    "!rm bounding-boxes.zip\n",
    "!rm the-nature-conservancy-fisheries-monitoring.zip"
   ]
  }
 ],
 "metadata": {
  "kernelspec": {
   "display_name": "Python 3",
   "language": "python",
   "name": "python3"
  },
  "language_info": {
   "codemirror_mode": {
    "name": "ipython",
    "version": 3
   },
   "file_extension": ".py",
   "mimetype": "text/x-python",
   "name": "python",
   "nbconvert_exporter": "python",
   "pygments_lexer": "ipython3",
   "version": "3.7.0"
  }
 },
 "nbformat": 4,
 "nbformat_minor": 4
}
