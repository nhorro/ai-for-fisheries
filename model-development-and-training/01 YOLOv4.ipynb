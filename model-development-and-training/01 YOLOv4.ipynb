{
 "cells": [
  {
   "cell_type": "markdown",
   "id": "ec7afdde",
   "metadata": {},
   "source": [
    "# Notas para entrenamiento de YOLOv4 / tiny con darknet"
   ]
  },
  {
   "cell_type": "markdown",
   "id": "967ed6b4",
   "metadata": {},
   "source": [
    "Directorio de trabajo y datos."
   ]
  },
  {
   "cell_type": "code",
   "execution_count": 14,
   "id": "e92bf940",
   "metadata": {},
   "outputs": [
    {
     "name": "stdout",
     "output_type": "stream",
     "text": [
      "ai-for-fisheries.code-workspace  object-detector\r\n",
      "assets\t\t\t\t object-detector-trainer\r\n",
      "biblio\t\t\t\t planning\r\n",
      "build.sh\t\t\t prueba.sh\r\n",
      "compose\t\t\t\t README.md\r\n",
      "data\t\t\t\t reports\r\n",
      "data-preparation\t\t run-jupyter-data-science.sh\r\n",
      "dockers\t\t\t\t run-jupyter-local.sh\r\n",
      "env.sh\t\t\t\t TestEnvironment.ipynb\r\n",
      "minutas.md\t\t\t videoanalytics\r\n",
      "model-development-and-training\r\n"
     ]
    }
   ],
   "source": [
    "WORKSPACE_PATH = \"../\"\n",
    "WORKSPACE_DATA_PATH = WORKSPACE_PATH+\"/data/\"\n",
    "!ls {WORKSPACE_PATH}"
   ]
  },
  {
   "cell_type": "markdown",
   "id": "efa2f741",
   "metadata": {},
   "source": [
    "## Entrenar kaggle-fisheries-yolo\n",
    "\n",
    "Nota: los siguientes archivos requeridos fueron preparados en un paso anterior:\n",
    "\n",
    "- train/test.txt\n",
    "- fisheries.data\n",
    "- yolo-fisheries.cfg\n",
    "- yolov4.conv.137"
   ]
  },
  {
   "cell_type": "code",
   "execution_count": 19,
   "id": "2153b339",
   "metadata": {},
   "outputs": [
    {
     "name": "stdout",
     "output_type": "stream",
     "text": [
      "backup\tfisheries.data\ttest.txt   yolo-fisheries.cfg\r\n",
      "data\tobj.names\ttrain.txt  yolov4.conv.137\r\n"
     ]
    }
   ],
   "source": [
    "YOLO_DATASET_PATH=WORKSPACE_DATA_PATH+\"datasets/kaggle-fisheries-yolo\"\n",
    "!ls {YOLO_DATASET_PATH}"
   ]
  },
  {
   "cell_type": "markdown",
   "id": "1987756c",
   "metadata": {},
   "source": [
    "Descargar pesos iniciales.\n",
    "\n",
    "YOLOv4:\n",
    "\n",
    "~~~bash\n",
    "cd ./data/datasets/kaggle-fisheries-yolo\n",
    "!wget -e use_proxy=yes -e https_proxy=$http_proxy https://github.com/AlexeyAB/darknet/releases/download/darknet_yolo_v3_optimal/yolov4.conv.137\n",
    "~~~"
   ]
  },
  {
   "cell_type": "markdown",
   "id": "ce804c10",
   "metadata": {},
   "source": [
    "Verificar rutas en archivo de entrenamiento:"
   ]
  },
  {
   "cell_type": "code",
   "execution_count": 20,
   "id": "2d23ff84",
   "metadata": {
    "scrolled": true
   },
   "outputs": [
    {
     "name": "stdout",
     "output_type": "stream",
     "text": [
      "classes = 7\r\n",
      "train  = train.txt\r\n",
      "valid  = test.txt\r\n",
      "names = obj.names\r\n",
      "backup = backup"
     ]
    }
   ],
   "source": [
    "!cat {YOLO_DATASET_PATH}/fisheries.data"
   ]
  },
  {
   "cell_type": "code",
   "execution_count": null,
   "id": "4fca57a8",
   "metadata": {},
   "outputs": [],
   "source": [
    "!cat "
   ]
  },
  {
   "cell_type": "markdown",
   "id": "77bb905c",
   "metadata": {},
   "source": [
    "Entrenamiento (YOLOv4):\n",
    "\n",
    "~~~bash\n",
    "cd ./data/datasets/kaggle-fisheries-yolo\n",
    "darknet detector train fisheries.data yolo-fisheries.cfg yolov4.conv.137 -dont_show -map | tee training-log.txt\n",
    "~~~"
   ]
  },
  {
   "cell_type": "markdown",
   "id": "b5d1e81b",
   "metadata": {},
   "source": [
    "### Troubleshooting\n",
    "\n",
    "Si se usa darknet-gpu de conda, no tiene soporte para OpenCV, por lo que algunas funciones de aumentado deben deshabilitarse en el .cfg. Ejemplo:\n",
    "\n",
    "~~~\n",
    "mosaic=1 - compile Darknet with OpenCV for using mosaic=1\n",
    "~~~"
   ]
  },
  {
   "cell_type": "markdown",
   "id": "950822df",
   "metadata": {},
   "source": [
    "## Customización / fine tuning"
   ]
  },
  {
   "cell_type": "code",
   "execution_count": 2,
   "id": "0af2d0b9",
   "metadata": {},
   "outputs": [],
   "source": [
    "#FIXME"
   ]
  }
 ],
 "metadata": {
  "kernelspec": {
   "display_name": "Python 3",
   "language": "python",
   "name": "python3"
  },
  "language_info": {
   "codemirror_mode": {
    "name": "ipython",
    "version": 3
   },
   "file_extension": ".py",
   "mimetype": "text/x-python",
   "name": "python",
   "nbconvert_exporter": "python",
   "pygments_lexer": "ipython3",
   "version": "3.7.0"
  }
 },
 "nbformat": 4,
 "nbformat_minor": 5
}
