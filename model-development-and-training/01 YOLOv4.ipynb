{
 "cells": [
  {
   "cell_type": "markdown",
   "id": "b50db399",
   "metadata": {},
   "source": [
    "# Notas para entrenamiento de YOLOv4 / tiny con darknet"
   ]
  },
  {
   "cell_type": "markdown",
   "id": "21b63a32",
   "metadata": {},
   "source": [
    "Directorio de trabajo y datos."
   ]
  },
  {
   "cell_type": "code",
   "execution_count": 14,
   "id": "e53964da",
   "metadata": {},
   "outputs": [
    {
     "name": "stdout",
     "output_type": "stream",
     "text": [
      "ai-for-fisheries.code-workspace  object-detector\r\n",
      "assets\t\t\t\t object-detector-trainer\r\n",
      "biblio\t\t\t\t planning\r\n",
      "build.sh\t\t\t prueba.sh\r\n",
      "compose\t\t\t\t README.md\r\n",
      "data\t\t\t\t reports\r\n",
      "data-preparation\t\t run-jupyter-data-science.sh\r\n",
      "dockers\t\t\t\t run-jupyter-local.sh\r\n",
      "env.sh\t\t\t\t TestEnvironment.ipynb\r\n",
      "minutas.md\t\t\t videoanalytics\r\n",
      "model-development-and-training\r\n"
     ]
    }
   ],
   "source": [
    "WORKSPACE_PATH = \"../\"\n",
    "WORKSPACE_DATA_PATH = WORKSPACE_PATH+\"/data/\"\n",
    "!ls {WORKSPACE_PATH}"
   ]
  },
  {
   "cell_type": "markdown",
   "id": "84b9a4be",
   "metadata": {},
   "source": [
    "## Entrenar kaggle-fisheries-yolo\n",
    "\n",
    "Nota: los siguientes archivos requeridos fueron preparados en un paso anterior:\n",
    "\n",
    "- train/test.txt\n",
    "- fisheries.data\n",
    "- yolo-fisheries.cfg\n",
    "- yolov4.conv.137"
   ]
  },
  {
   "cell_type": "code",
   "execution_count": 19,
   "id": "e17bc40e",
   "metadata": {},
   "outputs": [
    {
     "name": "stdout",
     "output_type": "stream",
     "text": [
      "backup\tfisheries.data\ttest.txt   yolo-fisheries.cfg\r\n",
      "data\tobj.names\ttrain.txt  yolov4.conv.137\r\n"
     ]
    }
   ],
   "source": [
    "YOLO_DATASET_PATH=WORKSPACE_DATA_PATH+\"datasets/kaggle-fisheries-yolo\"\n",
    "!ls {YOLO_DATASET_PATH}"
   ]
  },
  {
   "cell_type": "markdown",
   "id": "f3170a4e",
   "metadata": {},
   "source": [
    "Descargar pesos iniciales.\n",
    "\n",
    "YOLOv4:\n",
    "\n",
    "~~~bash\n",
    "cd ./data/datasets/kaggle-fisheries-yolo\n",
    "!wget -e use_proxy=yes -e https_proxy=$http_proxy https://github.com/AlexeyAB/darknet/releases/download/darknet_yolo_v3_optimal/yolov4.conv.137\n",
    "~~~"
   ]
  },
  {
   "cell_type": "markdown",
   "id": "9dacf81f",
   "metadata": {},
   "source": [
    "Verificar rutas en archivo de entrenamiento:"
   ]
  },
  {
   "cell_type": "code",
   "execution_count": 20,
   "id": "1a23a351",
   "metadata": {
    "scrolled": true
   },
   "outputs": [
    {
     "name": "stdout",
     "output_type": "stream",
     "text": [
      "classes = 7\r\n",
      "train  = train.txt\r\n",
      "valid  = test.txt\r\n",
      "names = obj.names\r\n",
      "backup = backup"
     ]
    }
   ],
   "source": [
    "!cat {YOLO_DATASET_PATH}/fisheries.data"
   ]
  },
  {
   "cell_type": "code",
   "execution_count": null,
   "id": "108eb96c",
   "metadata": {},
   "outputs": [],
   "source": [
    "!cat "
   ]
  },
  {
   "cell_type": "markdown",
   "id": "33135cd9",
   "metadata": {},
   "source": [
    "Entrenamiento (YOLOv4):\n",
    "\n",
    "~~~bash\n",
    "cd ./data/datasets/kaggle-fisheries-yolo\n",
    "darknet detector train fisheries.data yolo-fisheries.cfg yolov4.conv.137 -dont_show -map | tee training-log.txt\n",
    "~~~"
   ]
  },
  {
   "cell_type": "markdown",
   "id": "201a7344",
   "metadata": {},
   "source": [
    "### Troubleshooting\n",
    "\n",
    "Si se usa darknet-gpu de conda sin modificar no se tiene soporte para OpenCV, por lo que algunas funciones de aumentado deben deshabilitarse en el .cfg. Ejemplo:\n",
    "\n",
    "~~~\n",
    "mosaic=1 - compile Darknet with OpenCV for using mosaic=1\n",
    "~~~"
   ]
  },
  {
   "cell_type": "markdown",
   "id": "afd7fcee",
   "metadata": {},
   "source": [
    "## Customización / fine tuning"
   ]
  },
  {
   "cell_type": "code",
   "execution_count": 2,
   "id": "48caf86e",
   "metadata": {},
   "outputs": [],
   "source": [
    "#FIXME"
   ]
  },
  {
   "cell_type": "markdown",
   "id": "91ac2074",
   "metadata": {},
   "source": [
    "## Exportación del modelo entrenado a otros formatos\n",
    "\n",
    "La salida de un entrenamiento con darknet puede usarse sólo con darknet o OpenCV 4.3+ (DNN). \n",
    "Para convertir a TensorRT/tensorflow:\n",
    "\n",
    "- [TensorRT](https://github.com/CaoWGG/TensorRT-YOLOv4)\n",
    "- [Tensorflow](https://github.com/hunglc007/tensorflow-yolov4-tflite)"
   ]
  }
 ],
 "metadata": {
  "kernelspec": {
   "display_name": "Python 3",
   "language": "python",
   "name": "python3"
  },
  "language_info": {
   "codemirror_mode": {
    "name": "ipython",
    "version": 3
   },
   "file_extension": ".py",
   "mimetype": "text/x-python",
   "name": "python",
   "nbconvert_exporter": "python",
   "pygments_lexer": "ipython3",
   "version": "3.7.0"
  }
 },
 "nbformat": 4,
 "nbformat_minor": 5
}
