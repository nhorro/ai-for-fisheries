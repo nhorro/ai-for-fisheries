{
 "cells": [
  {
   "cell_type": "markdown",
   "id": "16114662-5050-41a1-bd12-586b196931e5",
   "metadata": {},
   "source": [
    "# Verificación de ambiente"
   ]
  },
  {
   "cell_type": "markdown",
   "id": "218191d6-0d3f-4681-9112-2e1b96cbea34",
   "metadata": {},
   "source": [
    "Numpy"
   ]
  },
  {
   "cell_type": "code",
   "execution_count": 1,
   "id": "74404433-beaa-4a40-a89a-a30db5cb4ad5",
   "metadata": {},
   "outputs": [
    {
     "data": {
      "text/plain": [
       "'1.21.0'"
      ]
     },
     "execution_count": 1,
     "metadata": {},
     "output_type": "execute_result"
    }
   ],
   "source": [
    "import numpy as np\n",
    "np.__version__"
   ]
  },
  {
   "cell_type": "markdown",
   "id": "9e629c70-19d1-402f-8088-4870964c8398",
   "metadata": {},
   "source": [
    "Scipy"
   ]
  },
  {
   "cell_type": "code",
   "execution_count": 2,
   "id": "8534e843-2dcd-4b9b-8a1a-525c31a2b0d6",
   "metadata": {},
   "outputs": [
    {
     "data": {
      "text/plain": [
       "'1.6.3'"
      ]
     },
     "execution_count": 2,
     "metadata": {},
     "output_type": "execute_result"
    }
   ],
   "source": [
    "import scipy\n",
    "scipy.__version__"
   ]
  },
  {
   "cell_type": "markdown",
   "id": "88b889f4-0ef2-4e2e-8bf2-eac7362ace9f",
   "metadata": {},
   "source": [
    "Pandas"
   ]
  },
  {
   "cell_type": "code",
   "execution_count": 8,
   "id": "f3439d5d-d529-4f75-8e15-e4c6d68dd209",
   "metadata": {},
   "outputs": [
    {
     "data": {
      "text/plain": [
       "'1.2.5'"
      ]
     },
     "execution_count": 8,
     "metadata": {},
     "output_type": "execute_result"
    }
   ],
   "source": [
    "import pandas\n",
    "pandas.__version__"
   ]
  },
  {
   "cell_type": "markdown",
   "id": "8fe39610-f818-4073-aa05-da57bc3482ff",
   "metadata": {},
   "source": [
    "Matplotlib / Seaborn"
   ]
  },
  {
   "cell_type": "code",
   "execution_count": 3,
   "id": "0847286b-91f8-4677-bc74-34a938c068d2",
   "metadata": {},
   "outputs": [
    {
     "data": {
      "text/plain": [
       "'3.4.2'"
      ]
     },
     "execution_count": 3,
     "metadata": {},
     "output_type": "execute_result"
    }
   ],
   "source": [
    "import matplotlib\n",
    "matplotlib.__version__"
   ]
  },
  {
   "cell_type": "code",
   "execution_count": 4,
   "id": "56a181ad-ac7f-4e56-a005-a0bac7d48800",
   "metadata": {},
   "outputs": [
    {
     "data": {
      "text/plain": [
       "'0.11.1'"
      ]
     },
     "execution_count": 4,
     "metadata": {},
     "output_type": "execute_result"
    }
   ],
   "source": [
    "import seaborn as sns\n",
    "sns.__version__"
   ]
  },
  {
   "cell_type": "markdown",
   "id": "7697ed38-6b30-4898-a4b7-b21d50a08f9b",
   "metadata": {},
   "source": [
    "Scikit Learn."
   ]
  },
  {
   "cell_type": "code",
   "execution_count": 10,
   "id": "7a859770-b3b5-49ed-b31b-77f6dbc2de7a",
   "metadata": {},
   "outputs": [
    {
     "data": {
      "text/plain": [
       "'0.24.2'"
      ]
     },
     "execution_count": 10,
     "metadata": {},
     "output_type": "execute_result"
    }
   ],
   "source": [
    "import sklearn\n",
    "sklearn.__version__"
   ]
  },
  {
   "cell_type": "markdown",
   "id": "f4f4bf26-db25-4bdc-95a5-62fddcd5749e",
   "metadata": {},
   "source": [
    "Tensorflow"
   ]
  },
  {
   "cell_type": "code",
   "execution_count": 5,
   "id": "20ad39d9-16ac-43d8-93b9-05aa033bd9b3",
   "metadata": {},
   "outputs": [
    {
     "data": {
      "text/plain": [
       "'2.4.1'"
      ]
     },
     "execution_count": 5,
     "metadata": {},
     "output_type": "execute_result"
    }
   ],
   "source": [
    "import tensorflow as tf\n",
    "tf.__version__"
   ]
  },
  {
   "cell_type": "markdown",
   "id": "46ff225e-77cb-4c86-a1f6-dbc356f80c04",
   "metadata": {},
   "source": [
    "OpenCV"
   ]
  },
  {
   "cell_type": "code",
   "execution_count": 6,
   "id": "1d728b9c-49fa-4a5d-8fdf-0021c55fcf11",
   "metadata": {},
   "outputs": [
    {
     "data": {
      "text/plain": [
       "'4.5.2'"
      ]
     },
     "execution_count": 6,
     "metadata": {},
     "output_type": "execute_result"
    }
   ],
   "source": [
    "import cv2\n",
    "cv2.__version__"
   ]
  },
  {
   "cell_type": "code",
   "execution_count": 7,
   "id": "39858b91-771b-4a27-a36a-99afb5c93b08",
   "metadata": {},
   "outputs": [
    {
     "data": {
      "text/plain": [
       "'0.4.0'"
      ]
     },
     "execution_count": 7,
     "metadata": {},
     "output_type": "execute_result"
    }
   ],
   "source": [
    "import imgaug\n",
    "imgaug.__version__"
   ]
  }
 ],
 "metadata": {
  "kernelspec": {
   "display_name": "Python 3",
   "language": "python",
   "name": "python3"
  },
  "language_info": {
   "codemirror_mode": {
    "name": "ipython",
    "version": 3
   },
   "file_extension": ".py",
   "mimetype": "text/x-python",
   "name": "python",
   "nbconvert_exporter": "python",
   "pygments_lexer": "ipython3",
   "version": "3.9.5"
  }
 },
 "nbformat": 4,
 "nbformat_minor": 5
}
