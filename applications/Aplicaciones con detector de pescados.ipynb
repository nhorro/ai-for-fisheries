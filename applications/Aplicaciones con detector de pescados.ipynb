{
 "cells": [
  {
   "cell_type": "markdown",
   "id": "7a591e5d",
   "metadata": {},
   "source": [
    "# Aplicaciones con detección de pescados con modelo entrenado para Kaggle Fisheries"
   ]
  },
  {
   "cell_type": "code",
   "execution_count": 44,
   "id": "4cf22d76",
   "metadata": {},
   "outputs": [
    {
     "name": "stdout",
     "output_type": "stream",
     "text": [
      "The autoreload extension is already loaded. To reload it, use:\n",
      "  %reload_ext autoreload\n"
     ]
    },
    {
     "data": {
      "text/plain": [
       "'0.0.2'"
      ]
     },
     "execution_count": 44,
     "metadata": {},
     "output_type": "execute_result"
    }
   ],
   "source": [
    "%load_ext autoreload\n",
    "%autoreload 2\n",
    "\n",
    "import sys\n",
    "sys.path.append(\"../videoanalytics/src\")\n",
    "import videoanalytics\n",
    "videoanalytics.__version__"
   ]
  },
  {
   "cell_type": "code",
   "execution_count": 45,
   "id": "6fbc382c",
   "metadata": {},
   "outputs": [],
   "source": [
    "from datetime import datetime\n",
    "import glob\n",
    "import os"
   ]
  },
  {
   "cell_type": "markdown",
   "id": "510db9c2",
   "metadata": {},
   "source": [
    "## Configuración y preparación"
   ]
  },
  {
   "cell_type": "markdown",
   "id": "57cd9ebd",
   "metadata": {},
   "source": [
    "### Chequeo de disponibilidad de HW / GPU"
   ]
  },
  {
   "cell_type": "code",
   "execution_count": 46,
   "id": "a44b6f77",
   "metadata": {},
   "outputs": [
    {
     "name": "stdout",
     "output_type": "stream",
     "text": [
      "Sat Sep 18 22:35:11 2021       \n",
      "+-----------------------------------------------------------------------------+\n",
      "| NVIDIA-SMI 470.57.02    Driver Version: 470.57.02    CUDA Version: 11.4     |\n",
      "|-------------------------------+----------------------+----------------------+\n",
      "| GPU  Name        Persistence-M| Bus-Id        Disp.A | Volatile Uncorr. ECC |\n",
      "| Fan  Temp  Perf  Pwr:Usage/Cap|         Memory-Usage | GPU-Util  Compute M. |\n",
      "|                               |                      |               MIG M. |\n",
      "|===============================+======================+======================|\n",
      "|   0  NVIDIA GeForce ...  On   | 00000000:01:00.0 Off |                  N/A |\n",
      "| N/A   67C    P0    N/A /  N/A |    637MiB /  4046MiB |     42%      Default |\n",
      "|                               |                      |                  N/A |\n",
      "+-------------------------------+----------------------+----------------------+\n",
      "                                                                               \n",
      "+-----------------------------------------------------------------------------+\n",
      "| Processes:                                                                  |\n",
      "|  GPU   GI   CI        PID   Type   Process name                  GPU Memory |\n",
      "|        ID   ID                                                   Usage      |\n",
      "|=============================================================================|\n",
      "|    0   N/A  N/A      2206      G   /usr/lib/xorg/Xorg                 38MiB |\n",
      "|    0   N/A  N/A      2854      G   /usr/bin/gnome-shell               79MiB |\n",
      "|    0   N/A  N/A      3446      G   /usr/lib/xorg/Xorg                335MiB |\n",
      "|    0   N/A  N/A      3687      G   /usr/bin/gnome-shell               74MiB |\n",
      "|    0   N/A  N/A      4242      G   ...0C2A53A7F451A903D7AEB6870        5MiB |\n",
      "|    0   N/A  N/A      4897      G   ...AAAAAAAAA= --shared-files       66MiB |\n",
      "|    0   N/A  N/A     10093      C   ...s/ai-fisheries/bin/python       26MiB |\n",
      "|    0   N/A  N/A     11344      G   /snap/vlc/2344/usr/bin/vlc          0MiB |\n",
      "|    0   N/A  N/A     13184      G   /snap/vlc/2344/usr/bin/vlc          0MiB |\n",
      "+-----------------------------------------------------------------------------+\n"
     ]
    }
   ],
   "source": [
    "!nvidia-smi"
   ]
  },
  {
   "cell_type": "markdown",
   "id": "7cf8103b",
   "metadata": {},
   "source": [
    "Detectadas por tensorflow en conda (FIXME)."
   ]
  },
  {
   "cell_type": "code",
   "execution_count": 4,
   "id": "687d5d8f",
   "metadata": {},
   "outputs": [
    {
     "name": "stdout",
     "output_type": "stream",
     "text": [
      "GPUs disponibles:  0\n"
     ]
    }
   ],
   "source": [
    "import tensorflow as tf\n",
    "print(\"GPUs disponibles: \", len(tf.config.list_physical_devices('GPU')))"
   ]
  },
  {
   "cell_type": "markdown",
   "id": "8a99faab",
   "metadata": {},
   "source": [
    "### Datos de entrada y modelos"
   ]
  },
  {
   "cell_type": "code",
   "execution_count": 38,
   "id": "10787408",
   "metadata": {},
   "outputs": [
    {
     "name": "stdout",
     "output_type": "stream",
     "text": [
      "001.mp4  004.mp4  007.mp4  10.mp4  13.mp4  16.mp4  19.mp4\r\n",
      "002.mp4  005.mp4  008.mp4  11.mp4  14.mp4  17.mp4\r\n",
      "003.mp4  006.mp4  009.mp4  12.mp4  15.mp4  18.mp4\r\n"
     ]
    }
   ],
   "source": [
    "WORKSPACE_PATH=\"../\"\n",
    "WORKSPACE_DATA_PATH=WORKSPACE_PATH+\"/data/\"\n",
    "INPUT_VIDEO_PATH=WORKSPACE_DATA_PATH+\"media/fishcount/input_videos/\"\n",
    "!ls {INPUT_VIDEO_PATH}"
   ]
  },
  {
   "cell_type": "markdown",
   "id": "7ffdcc63",
   "metadata": {},
   "source": [
    "Repositorio de modelos (local)."
   ]
  },
  {
   "cell_type": "code",
   "execution_count": 15,
   "id": "b96979bf",
   "metadata": {
    "scrolled": true
   },
   "outputs": [
    {
     "name": "stdout",
     "output_type": "stream",
     "text": [
      "coco\t\t      kaggle_fisheries\t     mirtar-yolo  yolov4-416-tf\r\n",
      "feature_extractor_ll  kaggle-fisheries-yolo  README.md\t  yolov4-416-tf.tar.gz\r\n"
     ]
    }
   ],
   "source": [
    "MODELS_PATH=WORKSPACE_DATA_PATH+\"models/\"\n",
    "!ls {MODELS_PATH}"
   ]
  },
  {
   "cell_type": "code",
   "execution_count": 16,
   "id": "63b0f034",
   "metadata": {},
   "outputs": [
    {
     "name": "stdout",
     "output_type": "stream",
     "text": [
      "\u001b[01;34m..//data/models//kaggle-fisheries-yolo\u001b[00m\n",
      "├── \u001b[01;34mcheckpoints\u001b[00m\n",
      "│   └── \u001b[01;34myolo-416\u001b[00m\n",
      "│       ├── \u001b[01;34massets\u001b[00m\n",
      "│       ├── saved_model.pb\n",
      "│       └── \u001b[01;34mvariables\u001b[00m\n",
      "│           ├── variables.data-00000-of-00001\n",
      "│           └── variables.index\n",
      "├── kaggle-fisheries-yolo4.cfg\n",
      "├── kaggle-fisheries-yolo4.weights\n",
      "├── obj.names\n",
      "├── README.md\n",
      "└── yolo4-model-performance-report.txt\n",
      "\n",
      "4 directories, 8 files\n"
     ]
    }
   ],
   "source": [
    "!tree {MODELS_PATH}/kaggle-fisheries-yolo"
   ]
  },
  {
   "cell_type": "code",
   "execution_count": 17,
   "id": "da47090c",
   "metadata": {},
   "outputs": [
    {
     "name": "stdout",
     "output_type": "stream",
     "text": [
      "\u001b[01;34m..//data/models//mirtar-yolo\u001b[00m\n",
      "├── \u001b[01;34mcheckpoints\u001b[00m\n",
      "│   └── \u001b[01;34myolo-416\u001b[00m\n",
      "│       ├── \u001b[01;34massets\u001b[00m\n",
      "│       ├── saved_model.pb\n",
      "│       └── \u001b[01;34mvariables\u001b[00m\n",
      "│           ├── variables.data-00000-of-00001\n",
      "│           └── variables.index\n",
      "├── mirtar-yolo4.cfg\n",
      "├── mirtar-yolo4.weights\n",
      "├── obj.names\n",
      "├── README.md\n",
      "└── yolo4-model-performance-report.txt\n",
      "\n",
      "4 directories, 8 files\n"
     ]
    }
   ],
   "source": [
    "!tree {MODELS_PATH}/mirtar-yolo"
   ]
  },
  {
   "cell_type": "markdown",
   "id": "4c2c94bd",
   "metadata": {},
   "source": [
    "## 1. Generación de detecciones"
   ]
  },
  {
   "cell_type": "markdown",
   "id": "053add8e",
   "metadata": {},
   "source": [
    "### 1.1 Pipeline"
   ]
  },
  {
   "cell_type": "code",
   "execution_count": 18,
   "id": "00ff801e",
   "metadata": {},
   "outputs": [],
   "source": [
    "from videoanalytics.pipeline import Pipeline\n",
    "from videoanalytics.pipeline.sources import VideoReader\n",
    "from videoanalytics.pipeline.sinks import VideoWriter\n",
    "\n",
    "from videoanalytics.pipeline.sinks.object_detection import DetectionsAnnotator, DetectionsCSVWriter\n",
    "from videoanalytics.pipeline.sinks.object_detection.yolo4 import YOLOv4DetectorTF\n",
    "\n",
    "def make_detection_pipeline(input_video_filename,\n",
    "                            output_csv_filename,\n",
    "                            output_video_filename,\n",
    "                            detector_model_weights_filename,\n",
    "                            detector_model_classes_filename,\n",
    "                            start_frame=0,\n",
    "                            max_frames=None):\n",
    "    context = {}\n",
    "    pipeline = Pipeline()\n",
    "\n",
    "    pipeline.add_component( VideoReader( \"input\",context,\n",
    "                     video_path=input_video_filename,\n",
    "                     start_frame=start_frame,\n",
    "                     max_frames=max_frames))    \n",
    "    \n",
    "    pipeline.add_component( YOLOv4DetectorTF(\"detector\",\n",
    "                                             context,\n",
    "                                             weights_filename=detector_model_weights_filename) )\n",
    "        \n",
    "    pipeline.add_component( DetectionsCSVWriter(\"det_csv_writer\",context,filename=output_csv_filename) )\n",
    "    \n",
    "    pipeline.add_component( DetectionsAnnotator(\"annotator\",\n",
    "                                                context,\n",
    "                                                class_names_filename=detector_model_classes_filename,\n",
    "                                                show_label=True) )\n",
    "    \n",
    "    pipeline.add_component(VideoWriter(\"writer\",context,filename=output_video_filename))\n",
    "    \n",
    "    pipeline.set_connections([\n",
    "        (\"input\", \"detector\"),\n",
    "        (\"detector\", \"det_csv_writer\"),\n",
    "        (\"detector\", \"annotator\"),\n",
    "        (\"annotator\", \"writer\")\n",
    "    ])    \n",
    "    \n",
    "    return context,pipeline"
   ]
  },
  {
   "cell_type": "markdown",
   "id": "89400773",
   "metadata": {},
   "source": [
    "### 1.2 Batch job"
   ]
  },
  {
   "cell_type": "markdown",
   "id": "603db8ed",
   "metadata": {},
   "source": [
    "Directorio de resultados."
   ]
  },
  {
   "cell_type": "code",
   "execution_count": null,
   "id": "a866bcb8",
   "metadata": {},
   "outputs": [],
   "source": [
    "INPUT_VIDEOS = [(os.path.basename(x),None) for x in glob.glob(INPUT_VIDEO_PATH+\"/*.mp4\")]\n",
    "INPUT_VIDEOS"
   ]
  },
  {
   "cell_type": "code",
   "execution_count": 40,
   "id": "a824f072",
   "metadata": {
    "scrolled": true
   },
   "outputs": [],
   "source": [
    "from os import path\n",
    "\n",
    "def object_detection_batch_job(input_videos,obj_det_model, output_path,dry_run=False):\n",
    "    \n",
    "    t0 = datetime.now()\n",
    "    print(\"Inicio de proceso: \", t0)\n",
    "    \n",
    "    for i,v in enumerate(input_videos):\n",
    "        input_video_filename=v[0]        \n",
    "        output_video_filename=output_path+\"job{:d}.mp4\".format(i)\n",
    "        output_csv_filename=output_path+\"job{:d}.csv\".format(i)\n",
    "\n",
    "        output_csv_filename\n",
    "\n",
    "        print(\"Job {}. Procesando {}.\".format(i, input_video_filename))\n",
    "        \n",
    "        if path.exists(output_video_filename):\n",
    "            print(\"El archivo a generar {} ya existe. Pasando al siguiente\".format(output_video_filename))    \n",
    "            continue\n",
    "\n",
    "        # FIXME, por ahora son fijos\n",
    "        params=v[1]\n",
    "\n",
    "        detector_model_weights_filename=MODELS_PATH+\"/{}/checkpoints/yolo-416/\".format(obj_det_model)\n",
    "        detector_model_classes_filename=MODELS_PATH+\"/{}/obj.names\".format(obj_det_model)\n",
    "\n",
    "        \n",
    "\n",
    "        if not dry_run:\n",
    "            context,pipeline=make_detection_pipeline(\n",
    "                input_video_filename=INPUT_VIDEO_PATH+input_video_filename,\n",
    "                output_csv_filename=output_csv_filename,\n",
    "                output_video_filename=output_video_filename,\n",
    "                detector_model_weights_filename=detector_model_weights_filename,\n",
    "                detector_model_classes_filename=detector_model_classes_filename,\n",
    "                start_frame=0,\n",
    "                max_frames=None\n",
    "            )\n",
    "\n",
    "            pipeline.execute()\n",
    "            print(\"Tiempo total de ejecución [s]:\", pipeline.get_total_execution_time())\n",
    "            print(\"Video de salida guardado en {}\".format(output_video_filename))\n",
    "    \n",
    "    t1 = datetime.now()\n",
    "    print(\"Fin del proceso:\",t1)        \n",
    "    print(\"Tiempo transcurrido:\",t1-t0)"
   ]
  },
  {
   "cell_type": "markdown",
   "id": "05acb57b",
   "metadata": {},
   "source": [
    "### Job con dataset de kaggle-fisheries"
   ]
  },
  {
   "cell_type": "markdown",
   "id": "efbc89c7",
   "metadata": {},
   "source": [
    "~~~\n",
    "job 0 14.mp4\n",
    "job 1 19.mp4\n",
    "job 3 001.mp4\n",
    "job 4 18.mp4\n",
    "job 5 002.mp4\n",
    "job 6 13.mp4\n",
    "job 7 15.mp4\n",
    "job 8 12.mp4\n",
    "job 9 008.mp4\n",
    "job 10 007.mp4\n",
    "job 11 17.mp4\n",
    "job 12 003.mp4 Probar con MIRTAR\n",
    "job 13 004.mp4\n",
    "job 14 009.mp4\n",
    "job 15 006.mp4 \n",
    "job 16 005.mp4\n",
    "job 17 16.mp4\n",
    "job 18 10.mp4\n",
    "job 19 11.mp4\n",
    "~~~ "
   ]
  },
  {
   "cell_type": "code",
   "execution_count": 42,
   "id": "e7de332f",
   "metadata": {},
   "outputs": [],
   "source": [
    "input_videos = INPUT_VIDEOS\n",
    "output_base_path=\"../data/media/fishcount/\"\n",
    "obj_det_model = \"kaggle-fisheries-yolo/\"\n",
    "output_path = output_base_path+\"detections/\""
   ]
  },
  {
   "cell_type": "code",
   "execution_count": null,
   "id": "fa4187f3",
   "metadata": {},
   "outputs": [],
   "source": [
    "#!rm -rf {output_path} \n",
    "#!mkdir {output_path}"
   ]
  },
  {
   "cell_type": "code",
   "execution_count": 43,
   "id": "68a72abb",
   "metadata": {},
   "outputs": [
    {
     "name": "stdout",
     "output_type": "stream",
     "text": [
      "Inicio de proceso:  2021-09-18 19:45:06.836164\n",
      "Job 0. Procesando 14.mp4.\n"
     ]
    },
    {
     "data": {
      "application/vnd.jupyter.widget-view+json": {
       "model_id": "defd4461cf754e9b80dd4f7b412d203d",
       "version_major": 2,
       "version_minor": 0
      },
      "text/plain": [
       "  0%|          | 0/100.0 [00:00<?, ?it/s]"
      ]
     },
     "metadata": {},
     "output_type": "display_data"
    },
    {
     "name": "stdout",
     "output_type": "stream",
     "text": [
      "Tiempo total de ejecución [s]: 133.43728687000112\n",
      "Video de salida guardado en ../data/media/fishcount/detections/job0.mp4\n",
      "Job 1. Procesando 19.mp4.\n"
     ]
    },
    {
     "data": {
      "application/vnd.jupyter.widget-view+json": {
       "model_id": "bce62065f7fb441c8b949e8d637f0bf1",
       "version_major": 2,
       "version_minor": 0
      },
      "text/plain": [
       "  0%|          | 0/100.0 [00:00<?, ?it/s]"
      ]
     },
     "metadata": {},
     "output_type": "display_data"
    },
    {
     "name": "stdout",
     "output_type": "stream",
     "text": [
      "Tiempo total de ejecución [s]: 222.1016069010002\n",
      "Video de salida guardado en ../data/media/fishcount/detections/job1.mp4\n",
      "Job 2. Procesando 001.mp4.\n"
     ]
    },
    {
     "data": {
      "application/vnd.jupyter.widget-view+json": {
       "model_id": "9551ca3dd0904d34ba98da38882dc32a",
       "version_major": 2,
       "version_minor": 0
      },
      "text/plain": [
       "  0%|          | 0/100.0 [00:00<?, ?it/s]"
      ]
     },
     "metadata": {},
     "output_type": "display_data"
    },
    {
     "name": "stdout",
     "output_type": "stream",
     "text": [
      "Tiempo total de ejecución [s]: 383.0334599070011\n",
      "Video de salida guardado en ../data/media/fishcount/detections/job2.mp4\n",
      "Job 3. Procesando 18.mp4.\n"
     ]
    },
    {
     "data": {
      "application/vnd.jupyter.widget-view+json": {
       "model_id": "29b52dada31646819837ebec69e50451",
       "version_major": 2,
       "version_minor": 0
      },
      "text/plain": [
       "  0%|          | 0/100.0 [00:00<?, ?it/s]"
      ]
     },
     "metadata": {},
     "output_type": "display_data"
    },
    {
     "name": "stdout",
     "output_type": "stream",
     "text": [
      "Tiempo total de ejecución [s]: 257.01269470199986\n",
      "Video de salida guardado en ../data/media/fishcount/detections/job3.mp4\n",
      "Job 4. Procesando 002.mp4.\n"
     ]
    },
    {
     "data": {
      "application/vnd.jupyter.widget-view+json": {
       "model_id": "af013d6ef6374248b6b7a0e7a48b6057",
       "version_major": 2,
       "version_minor": 0
      },
      "text/plain": [
       "  0%|          | 0/100.0 [00:00<?, ?it/s]"
      ]
     },
     "metadata": {},
     "output_type": "display_data"
    },
    {
     "name": "stdout",
     "output_type": "stream",
     "text": [
      "Tiempo total de ejecución [s]: 469.0689065630031\n",
      "Video de salida guardado en ../data/media/fishcount/detections/job4.mp4\n",
      "Job 5. Procesando 13.mp4.\n"
     ]
    },
    {
     "data": {
      "application/vnd.jupyter.widget-view+json": {
       "model_id": "63fe0fbfd66e4dd78980546ac97abe23",
       "version_major": 2,
       "version_minor": 0
      },
      "text/plain": [
       "  0%|          | 0/100.0 [00:00<?, ?it/s]"
      ]
     },
     "metadata": {},
     "output_type": "display_data"
    },
    {
     "name": "stdout",
     "output_type": "stream",
     "text": [
      "Tiempo total de ejecución [s]: 775.1903551659998\n",
      "Video de salida guardado en ../data/media/fishcount/detections/job5.mp4\n",
      "Job 6. Procesando 15.mp4.\n"
     ]
    },
    {
     "data": {
      "application/vnd.jupyter.widget-view+json": {
       "model_id": "d217ab1f8c8b4e37bb343da00bc3e448",
       "version_major": 2,
       "version_minor": 0
      },
      "text/plain": [
       "  0%|          | 0/100.0 [00:00<?, ?it/s]"
      ]
     },
     "metadata": {},
     "output_type": "display_data"
    },
    {
     "name": "stdout",
     "output_type": "stream",
     "text": [
      "Tiempo total de ejecución [s]: 159.9926878369988\n",
      "Video de salida guardado en ../data/media/fishcount/detections/job6.mp4\n",
      "Job 7. Procesando 12.mp4.\n"
     ]
    },
    {
     "data": {
      "application/vnd.jupyter.widget-view+json": {
       "model_id": "b2828026460e4ef08c3b00878d85f908",
       "version_major": 2,
       "version_minor": 0
      },
      "text/plain": [
       "  0%|          | 0/100.0 [00:00<?, ?it/s]"
      ]
     },
     "metadata": {},
     "output_type": "display_data"
    },
    {
     "name": "stdout",
     "output_type": "stream",
     "text": [
      "Tiempo total de ejecución [s]: 713.8529006569988\n",
      "Video de salida guardado en ../data/media/fishcount/detections/job7.mp4\n",
      "Job 8. Procesando 008.mp4.\n"
     ]
    },
    {
     "data": {
      "application/vnd.jupyter.widget-view+json": {
       "model_id": "9fe972b1c0da4d9bb0e9ad2e96d3b59d",
       "version_major": 2,
       "version_minor": 0
      },
      "text/plain": [
       "  0%|          | 0/100.0 [00:00<?, ?it/s]"
      ]
     },
     "metadata": {},
     "output_type": "display_data"
    },
    {
     "name": "stdout",
     "output_type": "stream",
     "text": [
      "Tiempo total de ejecución [s]: 670.5609602919976\n",
      "Video de salida guardado en ../data/media/fishcount/detections/job8.mp4\n",
      "Job 9. Procesando 007.mp4.\n"
     ]
    },
    {
     "data": {
      "application/vnd.jupyter.widget-view+json": {
       "model_id": "a92704d68ef845748178aaa6f951a991",
       "version_major": 2,
       "version_minor": 0
      },
      "text/plain": [
       "  0%|          | 0/100.0 [00:00<?, ?it/s]"
      ]
     },
     "metadata": {},
     "output_type": "display_data"
    },
    {
     "name": "stdout",
     "output_type": "stream",
     "text": [
      "Tiempo total de ejecución [s]: 1276.0082935699975\n",
      "Video de salida guardado en ../data/media/fishcount/detections/job9.mp4\n",
      "Job 10. Procesando 17.mp4.\n"
     ]
    },
    {
     "data": {
      "application/vnd.jupyter.widget-view+json": {
       "model_id": "0148bbf0a9e240a89acf8e9d7eeffceb",
       "version_major": 2,
       "version_minor": 0
      },
      "text/plain": [
       "  0%|          | 0/100.0 [00:00<?, ?it/s]"
      ]
     },
     "metadata": {},
     "output_type": "display_data"
    },
    {
     "name": "stdout",
     "output_type": "stream",
     "text": [
      "Tiempo total de ejecución [s]: 149.06568766599958\n",
      "Video de salida guardado en ../data/media/fishcount/detections/job10.mp4\n",
      "Job 11. Procesando 003.mp4.\n"
     ]
    },
    {
     "data": {
      "application/vnd.jupyter.widget-view+json": {
       "model_id": "ff96fe2756f14eabb7c34976ddc15e7a",
       "version_major": 2,
       "version_minor": 0
      },
      "text/plain": [
       "  0%|          | 0/100.0 [00:00<?, ?it/s]"
      ]
     },
     "metadata": {},
     "output_type": "display_data"
    },
    {
     "name": "stdout",
     "output_type": "stream",
     "text": [
      "Tiempo total de ejecución [s]: 205.63785688999997\n",
      "Video de salida guardado en ../data/media/fishcount/detections/job11.mp4\n",
      "Job 12. Procesando 004.mp4.\n"
     ]
    },
    {
     "data": {
      "application/vnd.jupyter.widget-view+json": {
       "model_id": "a07db9fc56904e1c8a8a97d61223ac91",
       "version_major": 2,
       "version_minor": 0
      },
      "text/plain": [
       "  0%|          | 0/100.0 [00:00<?, ?it/s]"
      ]
     },
     "metadata": {},
     "output_type": "display_data"
    },
    {
     "name": "stdout",
     "output_type": "stream",
     "text": [
      "Tiempo total de ejecución [s]: 713.7585087110019\n",
      "Video de salida guardado en ../data/media/fishcount/detections/job12.mp4\n",
      "Job 13. Procesando 009.mp4.\n"
     ]
    },
    {
     "data": {
      "application/vnd.jupyter.widget-view+json": {
       "model_id": "6953239212ad4d858605ac9c3cc50bdb",
       "version_major": 2,
       "version_minor": 0
      },
      "text/plain": [
       "  0%|          | 0/100.0 [00:00<?, ?it/s]"
      ]
     },
     "metadata": {},
     "output_type": "display_data"
    },
    {
     "name": "stdout",
     "output_type": "stream",
     "text": [
      "Tiempo total de ejecución [s]: 501.68420585999775\n",
      "Video de salida guardado en ../data/media/fishcount/detections/job13.mp4\n",
      "Job 14. Procesando 006.mp4.\n"
     ]
    },
    {
     "data": {
      "application/vnd.jupyter.widget-view+json": {
       "model_id": "79a50342df0843868a1f28615d7fe9ea",
       "version_major": 2,
       "version_minor": 0
      },
      "text/plain": [
       "  0%|          | 0/100.0 [00:00<?, ?it/s]"
      ]
     },
     "metadata": {},
     "output_type": "display_data"
    },
    {
     "name": "stdout",
     "output_type": "stream",
     "text": [
      "Tiempo total de ejecución [s]: 937.1816100569995\n",
      "Video de salida guardado en ../data/media/fishcount/detections/job14.mp4\n",
      "Job 15. Procesando 005.mp4.\n"
     ]
    },
    {
     "data": {
      "application/vnd.jupyter.widget-view+json": {
       "model_id": "78f923a30f244f87a0d65e012c46d247",
       "version_major": 2,
       "version_minor": 0
      },
      "text/plain": [
       "  0%|          | 0/100.0 [00:00<?, ?it/s]"
      ]
     },
     "metadata": {},
     "output_type": "display_data"
    },
    {
     "name": "stdout",
     "output_type": "stream",
     "text": [
      "Tiempo total de ejecución [s]: 1162.7671428719987\n",
      "Video de salida guardado en ../data/media/fishcount/detections/job15.mp4\n",
      "Job 16. Procesando 16.mp4.\n"
     ]
    },
    {
     "data": {
      "application/vnd.jupyter.widget-view+json": {
       "model_id": "a1ed0c06501b474398d40742f95ab682",
       "version_major": 2,
       "version_minor": 0
      },
      "text/plain": [
       "  0%|          | 0/100.0 [00:00<?, ?it/s]"
      ]
     },
     "metadata": {},
     "output_type": "display_data"
    },
    {
     "name": "stdout",
     "output_type": "stream",
     "text": [
      "Tiempo total de ejecución [s]: 137.7099794300011\n",
      "Video de salida guardado en ../data/media/fishcount/detections/job16.mp4\n",
      "Job 17. Procesando 10.mp4.\n"
     ]
    },
    {
     "data": {
      "application/vnd.jupyter.widget-view+json": {
       "model_id": "329c4956767041b99f4ea7ff766f60ee",
       "version_major": 2,
       "version_minor": 0
      },
      "text/plain": [
       "  0%|          | 0/100.0 [00:00<?, ?it/s]"
      ]
     },
     "metadata": {},
     "output_type": "display_data"
    },
    {
     "name": "stdout",
     "output_type": "stream",
     "text": [
      "Tiempo total de ejecución [s]: 326.9651539280021\n",
      "Video de salida guardado en ../data/media/fishcount/detections/job17.mp4\n",
      "Job 18. Procesando 11.mp4.\n"
     ]
    },
    {
     "data": {
      "application/vnd.jupyter.widget-view+json": {
       "model_id": "f46565bd1488419e808f348531157c37",
       "version_major": 2,
       "version_minor": 0
      },
      "text/plain": [
       "  0%|          | 0/100.0 [00:00<?, ?it/s]"
      ]
     },
     "metadata": {},
     "output_type": "display_data"
    },
    {
     "name": "stdout",
     "output_type": "stream",
     "text": [
      "Tiempo total de ejecución [s]: 296.18042221200085\n",
      "Video de salida guardado en ../data/media/fishcount/detections/job18.mp4\n",
      "Fin del proceso: 2021-09-18 22:30:45.064736\n",
      "Tiempo transcurrido: 2:45:38.228572\n"
     ]
    }
   ],
   "source": [
    "object_detection_batch_job(input_videos,obj_det_model, output_path)"
   ]
  },
  {
   "cell_type": "markdown",
   "id": "8cfff278",
   "metadata": {},
   "source": [
    "### Job con dataset Mirta-R"
   ]
  },
  {
   "cell_type": "code",
   "execution_count": 52,
   "id": "c452b55b",
   "metadata": {},
   "outputs": [],
   "source": [
    "input_videos = [\n",
    "    (\"004.mp4\",None)\n",
    "]\n",
    "output_base_path=\"../data/media/fishcount/\"\n",
    "obj_det_model = \"mirtar-yolo/\"\n",
    "output_path = output_base_path+\"detections-mirtar/\""
   ]
  },
  {
   "cell_type": "code",
   "execution_count": null,
   "id": "42533f97",
   "metadata": {},
   "outputs": [],
   "source": [
    "# Reset\n",
    "#!rm -rf {output_path}\n",
    "#!mkdir {output_path}"
   ]
  },
  {
   "cell_type": "code",
   "execution_count": 54,
   "id": "8e02acff",
   "metadata": {
    "scrolled": false
   },
   "outputs": [
    {
     "name": "stdout",
     "output_type": "stream",
     "text": [
      "Inicio de proceso:  2021-09-18 23:04:28.463624\n",
      "Job 0. Procesando 004.mp4.\n"
     ]
    },
    {
     "data": {
      "application/vnd.jupyter.widget-view+json": {
       "model_id": "d9bc01f5f053408781b7288ba1abba3d",
       "version_major": 2,
       "version_minor": 0
      },
      "text/plain": [
       "  0%|          | 0/100.0 [00:00<?, ?it/s]"
      ]
     },
     "metadata": {},
     "output_type": "display_data"
    },
    {
     "name": "stdout",
     "output_type": "stream",
     "text": [
      "Tiempo total de ejecución [s]: 909.8754260800015\n",
      "Video de salida guardado en ../data/media/fishcount/detections-mirtar/job0.mp4\n",
      "Fin del proceso: 2021-09-18 23:20:12.741677\n",
      "Tiempo transcurrido: 0:15:44.278053\n"
     ]
    }
   ],
   "source": [
    "object_detection_batch_job(input_videos,obj_det_model, output_path)"
   ]
  },
  {
   "cell_type": "markdown",
   "id": "2af4461e",
   "metadata": {},
   "source": [
    "## 2. Seguimiento"
   ]
  },
  {
   "cell_type": "markdown",
   "id": "6b7a66c7",
   "metadata": {},
   "source": [
    "### 2.1 Pipeline"
   ]
  },
  {
   "cell_type": "code",
   "execution_count": 181,
   "id": "064aa1f0",
   "metadata": {},
   "outputs": [],
   "source": [
    "from videoanalytics.pipeline import Pipeline\n",
    "from videoanalytics.pipeline.sources import VideoReader\n",
    "from videoanalytics.pipeline.sinks import VideoWriter\n",
    "\n",
    "from videoanalytics.pipeline.sinks.object_detection import ObjectDetectorCSV\n",
    "\n",
    "from videoanalytics.pipeline.sinks.object_tracking import TrackedObjectsAnnotator, TrackedObjectsCSVWriter\n",
    "from videoanalytics.pipeline.sinks.object_tracking.sort import SORT\n",
    "from videoanalytics.pipeline.sinks.object_tracking.deepsort import DeepSORT\n",
    "\n",
    "from videoanalytics.pipeline.sinks.roi import ROIView, ROIPresenceCounter\n",
    "from videoanalytics.pipeline.sinks.visualization import TextOverlay\n",
    "\n",
    "def make_tracking_pipeline( input_video_filename,\n",
    "                            output_track_csv_filename,\n",
    "                            output_video_filename,                            \n",
    "                            detector_precalc_filename,\n",
    "                            detector_model_classes_filename,\n",
    "                            roi_definition_filename,\n",
    "                            tracker_type=\"SORT\",\n",
    "                            start_frame=0,\n",
    "                            max_frames=None,tracker_args={}):\n",
    "    context = {\n",
    "        \"TRACKED_OBJS\":[]\n",
    "    }\n",
    "    pipeline = Pipeline()\n",
    "\n",
    "    pipeline.add_component( VideoReader( \"input\",context,\n",
    "                     video_path=input_video_filename,\n",
    "                     start_frame=start_frame,\n",
    "                     max_frames=max_frames))    \n",
    "    \n",
    "\n",
    "    pipeline.add_component( ObjectDetectorCSV(\"detector_precalc\",\n",
    "                                               context,\n",
    "                                               filename = detector_precalc_filename) )    \n",
    "        \n",
    "    \n",
    "    def make_sort_tracker(tracker_args):\n",
    "        print(\"Making SORT\")\n",
    "        return SORT(\"tracker\", context, **tracker_args)\n",
    "    \n",
    "    def make_deep_sort_tracker(tracker_args):\n",
    "        print(\"Making DeepSORT\")\n",
    "        return DeepSORT(\"tracker\", context, **tracker_args)\n",
    "    \n",
    "    tracker_factory = {\n",
    "        \"SORT\": make_sort_tracker,\n",
    "        \"DEEPSORT\": make_deep_sort_tracker\n",
    "    }\n",
    "    \n",
    "    pipeline.add_component( tracker_factory[tracker_type](tracker_args) )        \n",
    "    \n",
    "    pipeline.add_component( TrackedObjectsAnnotator(\"annotator\",context) )\n",
    "    pipeline.add_component( TrackedObjectsCSVWriter(\"tracker_csv_writer\",context, \n",
    "                                                    filename = output_track_csv_filename) )\n",
    "    \n",
    "    # ROIs view + contador\n",
    "    pipeline.add_component( ROIView(\"roi_view\",context,filename=roi_definition_filename,alpha=0.6 ) )\n",
    "    #pipeline.add_component( ROIPresenceCounter(\"roi_counter\",context,filename=roi_definition_filename) )\n",
    "    \n",
    "    \n",
    "    pipeline.add_component(VideoWriter(\"writer\",context,filename=output_video_filename))\n",
    "    \n",
    "    pipeline.set_connections([\n",
    "        (\"input\", \"roi_view\"),\n",
    "        (\"roi_view\", \"detector_precalc\"),\n",
    "        (\"detector_precalc\", \"tracker\"),\n",
    "        (\"tracker\", \"tracker_csv_writer\"),\n",
    "        (\"tracker\", \"annotator\"),\n",
    "        (\"annotator\", \"writer\")\n",
    "    ])   \n",
    "    \n",
    "    return context,pipeline"
   ]
  },
  {
   "cell_type": "markdown",
   "id": "9f4b2986",
   "metadata": {},
   "source": [
    "### 2.2 Batch"
   ]
  },
  {
   "cell_type": "code",
   "execution_count": 129,
   "id": "3ef1e39e",
   "metadata": {},
   "outputs": [],
   "source": [
    "DEEPSORT_MODEL_FILENAME = MODELS_PATH+\"/feature_extractor_mars/mars-small128.pb\""
   ]
  },
  {
   "cell_type": "code",
   "execution_count": 178,
   "id": "8d459b70",
   "metadata": {},
   "outputs": [],
   "source": [
    "from os import path\n",
    "\n",
    "def object_tracking_batch_job(input_videos,obj_det_model,csv_precalc_path,output_path,roi_path,\n",
    "                              tracker_type,tracker_args,dry_run=False):\n",
    "    \n",
    "    t0 = datetime.now()\n",
    "    print(\"Inicio de proceso: \", t0)\n",
    "    \n",
    "    for i,v in enumerate(input_videos):\n",
    "        print(v[1])\n",
    "        input_video_filename=v[0]        \n",
    "        csv_precalc_detections_filename=csv_precalc_path+\"/\"+v[1] \n",
    "        output_video_filename=output_path+\"job{:d}.mp4\".format(i)\n",
    "        output_track_csv_filename=output_path+\"job{:d}-sort.csv\".format(i)        \n",
    "        roi_filename = roi_path+\"/\"+v[2] \n",
    "\n",
    "        print(\"Job {}. Procesando {}.\".format(i, input_video_filename))\n",
    "        \n",
    "        if path.exists(output_video_filename):\n",
    "            print(\"El archivo a generar {} ya existe. Pasando al siguiente\".format(output_video_filename))    \n",
    "            continue\n",
    "\n",
    "        # FIXME, por ahora son fijos\n",
    "        params=v[1]\n",
    "        \n",
    "        detector_model_classes_filename=MODELS_PATH+\"/{}/obj.names\".format(obj_det_model)\n",
    "\n",
    "        if not dry_run:\n",
    "            context,pipeline=make_tracking_pipeline(\n",
    "                input_video_filename=INPUT_VIDEO_PATH+input_video_filename,\n",
    "                output_track_csv_filename=output_track_csv_filename,\n",
    "                output_video_filename=output_video_filename,\n",
    "                detector_precalc_filename=csv_precalc_detections_filename,\n",
    "                detector_model_classes_filename=detector_model_classes_filename,\n",
    "                roi_definition_filename = roi_path+\"/\"+v[2],\n",
    "                tracker_type=tracker_type,\n",
    "                start_frame=0,\n",
    "                max_frames=None,\n",
    "                tracker_args=tracker_args\n",
    "            )\n",
    "\n",
    "            pipeline.execute()\n",
    "            print(\"Tiempo total de ejecución [s]:\", pipeline.get_total_execution_time())\n",
    "            print(\"Video de salida guardado en {}\".format(output_video_filename))\n",
    "    \n",
    "    t1 = datetime.now()\n",
    "    print(\"Fin del proceso:\",t1)        \n",
    "    print(\"Tiempo transcurrido:\",t1-t0)\n",
    "    \n",
    "    # Devolver último pipeline y contexto\n",
    "    return pipeline,context"
   ]
  },
  {
   "cell_type": "markdown",
   "id": "425ba0ca",
   "metadata": {},
   "source": [
    "~~~\n",
    "job 0 14.mp4\n",
    "job 1 19.mp4\n",
    "job 2 001.mp4\n",
    "job 3 18.mp4\n",
    "job 4 002.mp4 Contar atunes\n",
    "job 5 13.mp4  Contar atunes (top fija)\n",
    "job 6 15.mp4\n",
    "job 7 12.mp4 Probar con MIRTAR\n",
    "job 8 008.mp4\n",
    "job 9 007.mp4\n",
    "job 10 17.mp4\n",
    "job 11 003.mp4\n",
    "job 12 004.mp4 \n",
    "job 13 009.mp4\n",
    "job 14 006.mp4 \n",
    "job 15 005.mp4\n",
    "job 16 16.mp4\n",
    "job 17 10.mp4\n",
    "job 18 11.mp4\n",
    "~~~ "
   ]
  },
  {
   "cell_type": "markdown",
   "id": "4bae2d4a",
   "metadata": {},
   "source": [
    "#### 2.2.1 SORT"
   ]
  },
  {
   "cell_type": "code",
   "execution_count": 188,
   "id": "92c6a73f",
   "metadata": {
    "scrolled": true
   },
   "outputs": [
    {
     "name": "stdout",
     "output_type": "stream",
     "text": [
      "Inicio de proceso:  2021-09-19 01:44:21.232306\n",
      "job5.csv\n",
      "Job 0. Procesando 13.mp4.\n",
      "Making SORT\n"
     ]
    },
    {
     "data": {
      "application/vnd.jupyter.widget-view+json": {
       "model_id": "b08458aa309648a4976ced3967e7e9e5",
       "version_major": 2,
       "version_minor": 0
      },
      "text/plain": [
       "  0%|          | 0/100.0 [00:00<?, ?it/s]"
      ]
     },
     "metadata": {},
     "output_type": "display_data"
    },
    {
     "name": "stdout",
     "output_type": "stream",
     "text": [
      "Tiempo total de ejecución [s]: 6.1426316579963895\n",
      "Video de salida guardado en ../data/media/fishcount//trackings-sort/job0.mp4\n",
      "job2.csv\n",
      "Job 1. Procesando 001.mp4.\n",
      "Making SORT\n"
     ]
    },
    {
     "data": {
      "application/vnd.jupyter.widget-view+json": {
       "model_id": "76b82865c45c4c0bab96b7351d8a3330",
       "version_major": 2,
       "version_minor": 0
      },
      "text/plain": [
       "  0%|          | 0/100.0 [00:00<?, ?it/s]"
      ]
     },
     "metadata": {},
     "output_type": "display_data"
    },
    {
     "name": "stdout",
     "output_type": "stream",
     "text": [
      "Tiempo total de ejecución [s]: 7.132599685995956\n",
      "Video de salida guardado en ../data/media/fishcount//trackings-sort/job1.mp4\n",
      "job4.csv\n",
      "Job 2. Procesando 002.mp4.\n",
      "Making SORT\n"
     ]
    },
    {
     "data": {
      "application/vnd.jupyter.widget-view+json": {
       "model_id": "f91e499136a44a788ec878289923c9e6",
       "version_major": 2,
       "version_minor": 0
      },
      "text/plain": [
       "  0%|          | 0/100.0 [00:00<?, ?it/s]"
      ]
     },
     "metadata": {},
     "output_type": "display_data"
    },
    {
     "name": "stdout",
     "output_type": "stream",
     "text": [
      "Tiempo total de ejecución [s]: 6.763903895000112\n",
      "Video de salida guardado en ../data/media/fishcount//trackings-sort/job2.mp4\n",
      "job11.csv\n",
      "Job 3. Procesando 003.mp4.\n",
      "Making SORT\n"
     ]
    },
    {
     "data": {
      "application/vnd.jupyter.widget-view+json": {
       "model_id": "38a5ceab83b246cc80ce091cc52f7b72",
       "version_major": 2,
       "version_minor": 0
      },
      "text/plain": [
       "  0%|          | 0/100.0 [00:00<?, ?it/s]"
      ]
     },
     "metadata": {},
     "output_type": "display_data"
    },
    {
     "name": "stdout",
     "output_type": "stream",
     "text": [
      "Tiempo total de ejecución [s]: 4.6920959720009705\n",
      "Video de salida guardado en ../data/media/fishcount//trackings-sort/job3.mp4\n",
      "Fin del proceso: 2021-09-19 01:44:49.111583\n",
      "Tiempo transcurrido: 0:00:27.879277\n"
     ]
    }
   ],
   "source": [
    "input_videos = [\n",
    "    (\"13.mp4\",\"job5.csv\",\"roi13.json\"),\n",
    "    (\"001.mp4\",\"job2.csv\",\"roi003.json\"),    \n",
    "    (\"002.mp4\",\"job4.csv\",\"roi003.json\"),    \n",
    "    (\"003.mp4\",\"job11.csv\",\"roi003.json\"),    \n",
    "]\n",
    "output_base_path=\"../data/media/fishcount/\"\n",
    "csv_precalc_path=\"../data/media/fishcount/detections/\"\n",
    "roi_path=\"../data/media/fishcount/rois/\"\n",
    "obj_det_model=\"kaggle-fisheries-yolo\"\n",
    "tracker_type=\"SORT\"\n",
    "tracker_args= {\n",
    "    \"max_age\":10,\n",
    "    \"min_hits\": 1,\n",
    "    \"iou_threshold\":0.05\n",
    "}\n",
    "output_path = output_base_path+\"/trackings-sort/\".format(\n",
    "    *list(tracker_args.values()))\n",
    "object_tracking_batch_job(input_videos,obj_det_model,csv_precalc_path,output_path,roi_path,\n",
    "                          tracker_type,tracker_args,dry_run=False)"
   ]
  },
  {
   "cell_type": "markdown",
   "id": "7b12a4e4",
   "metadata": {},
   "source": [
    "#### 2.2.2 DEEPSORT"
   ]
  },
  {
   "cell_type": "code",
   "execution_count": 174,
   "id": "2f9fbeed",
   "metadata": {
    "scrolled": true
   },
   "outputs": [
    {
     "name": "stdout",
     "output_type": "stream",
     "text": [
      "Inicio de proceso:  2021-09-19 00:47:26.139173\n",
      "job5.csv\n",
      "Job 0. Procesando 13.mp4.\n",
      "Making DeepSORT\n"
     ]
    },
    {
     "data": {
      "application/vnd.jupyter.widget-view+json": {
       "model_id": "af0e315a8e3446a895b58dbd4c1e6a93",
       "version_major": 2,
       "version_minor": 0
      },
      "text/plain": [
       "  0%|          | 0/100.0 [00:00<?, ?it/s]"
      ]
     },
     "metadata": {},
     "output_type": "display_data"
    },
    {
     "name": "stdout",
     "output_type": "stream",
     "text": [
      "Tiempo total de ejecución [s]: 6.216584733003401\n",
      "Video de salida guardado en ../data/media/fishcount//trackings-deepsort/job0.mp4\n",
      "Fin del proceso: 2021-09-19 00:47:32.819493\n",
      "Tiempo transcurrido: 0:00:06.680320\n"
     ]
    }
   ],
   "source": [
    "tracker_args = {\"model_filename\":DEEPSORT_MODEL_FILENAME}\n",
    "input_videos = [\n",
    "    (\"13.mp4\",\"job5.csv\")\n",
    "]\n",
    "output_base_path=\"../data/media/fishcount/\"\n",
    "csv_precalc_path=\"../data/media/fishcount/detections/\"\n",
    "output_path = output_base_path+\"/trackings-deepsort/\"\n",
    "obj_det_model=\"kaggle-fisheries-yolo\"\n",
    "tracker_type=\"DEEPSORT\"\n",
    "tracker_args= {\n",
    "    \"model_filename\": DEEPSORT_MODEL_FILENAME,\n",
    "    \"max_cosine_distance\": 0.4,\n",
    "    \"nn_budget\": None,\n",
    "    \"max_iou_distance\": 0.7,\n",
    "    \"max_age\": 60,\n",
    "    \"n_init\": 3\n",
    "}\n",
    "object_tracking_batch_job(input_videos,obj_det_model,csv_precalc_path,output_path,\n",
    "                          tracker_type,tracker_args,dry_run=False)"
   ]
  }
 ],
 "metadata": {
  "kernelspec": {
   "display_name": "Python 3",
   "language": "python",
   "name": "python3"
  },
  "language_info": {
   "codemirror_mode": {
    "name": "ipython",
    "version": 3
   },
   "file_extension": ".py",
   "mimetype": "text/x-python",
   "name": "python",
   "nbconvert_exporter": "python",
   "pygments_lexer": "ipython3",
   "version": "3.7.0"
  }
 },
 "nbformat": 4,
 "nbformat_minor": 5
}
