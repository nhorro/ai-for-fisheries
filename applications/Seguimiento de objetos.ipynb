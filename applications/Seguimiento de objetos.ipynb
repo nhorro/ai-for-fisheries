{
 "cells": [
  {
   "cell_type": "markdown",
   "id": "7a591e5d",
   "metadata": {},
   "source": [
    "# Seguimiento de objetos\n",
    "\n",
    "Este cuaderno ensaya el seguimiento de objetos en video (asumiendo que la posición de la cámara está fija).\n",
    "\n",
    "Salidas:\n",
    "- Archivos CSV.\n",
    "- Video "
   ]
  },
  {
   "cell_type": "code",
   "execution_count": 1,
   "id": "4cf22d76",
   "metadata": {},
   "outputs": [
    {
     "data": {
      "text/plain": [
       "'0.0.2'"
      ]
     },
     "execution_count": 1,
     "metadata": {},
     "output_type": "execute_result"
    }
   ],
   "source": [
    "%load_ext autoreload\n",
    "%autoreload 2\n",
    "\n",
    "import sys\n",
    "sys.path.append(\"../videoanalytics/src\")\n",
    "import videoanalytics\n",
    "videoanalytics.__version__"
   ]
  },
  {
   "cell_type": "code",
   "execution_count": 2,
   "id": "6fbc382c",
   "metadata": {},
   "outputs": [],
   "source": [
    "from datetime import datetime"
   ]
  },
  {
   "cell_type": "markdown",
   "id": "57cd9ebd",
   "metadata": {},
   "source": [
    "## Chequeo de disponibilidad de HW / GPU"
   ]
  },
  {
   "cell_type": "code",
   "execution_count": 3,
   "id": "a44b6f77",
   "metadata": {},
   "outputs": [
    {
     "name": "stdout",
     "output_type": "stream",
     "text": [
      "Sat Aug 14 17:58:13 2021       \n",
      "+-----------------------------------------------------------------------------+\n",
      "| NVIDIA-SMI 465.19.01    Driver Version: 465.19.01    CUDA Version: 11.3     |\n",
      "|-------------------------------+----------------------+----------------------+\n",
      "| GPU  Name        Persistence-M| Bus-Id        Disp.A | Volatile Uncorr. ECC |\n",
      "| Fan  Temp  Perf  Pwr:Usage/Cap|         Memory-Usage | GPU-Util  Compute M. |\n",
      "|                               |                      |               MIG M. |\n",
      "|===============================+======================+======================|\n",
      "|   0  NVIDIA Quadro M...  On   | 00000000:02:00.0 Off |                  N/A |\n",
      "| 46%   31C    P8    12W / 120W |     62MiB /  8126MiB |      0%      Default |\n",
      "|                               |                      |                  N/A |\n",
      "+-------------------------------+----------------------+----------------------+\n",
      "|   1  NVIDIA Quadro R...  On   | 00000000:81:00.0 Off |                  Off |\n",
      "| 34%   31C    P2    43W / 230W |  15688MiB / 16125MiB |      0%      Default |\n",
      "|                               |                      |                  N/A |\n",
      "+-------------------------------+----------------------+----------------------+\n",
      "                                                                               \n",
      "+-----------------------------------------------------------------------------+\n",
      "| Processes:                                                                  |\n",
      "|  GPU   GI   CI        PID   Type   Process name                  GPU Memory |\n",
      "|        ID   ID                                                   Usage      |\n",
      "|=============================================================================|\n",
      "|    0   N/A  N/A     16386      C   ...classification/bin/python       57MiB |\n",
      "|    1   N/A  N/A     16386      C   ...classification/bin/python    15685MiB |\n",
      "+-----------------------------------------------------------------------------+\n"
     ]
    }
   ],
   "source": [
    "!nvidia-smi"
   ]
  },
  {
   "cell_type": "markdown",
   "id": "7cf8103b",
   "metadata": {},
   "source": [
    "Detectadas por tensorflow en conda (FIXME)."
   ]
  },
  {
   "cell_type": "code",
   "execution_count": 4,
   "id": "687d5d8f",
   "metadata": {},
   "outputs": [
    {
     "name": "stdout",
     "output_type": "stream",
     "text": [
      "GPUs disponibles:  0\n"
     ]
    }
   ],
   "source": [
    "import tensorflow as tf\n",
    "print(\"GPUs disponibles: \", len(tf.config.list_physical_devices('GPU')))"
   ]
  },
  {
   "cell_type": "markdown",
   "id": "8a99faab",
   "metadata": {},
   "source": [
    "## Datos de entrada y modelos"
   ]
  },
  {
   "cell_type": "code",
   "execution_count": 10,
   "id": "10787408",
   "metadata": {},
   "outputs": [
    {
     "name": "stdout",
     "output_type": "stream",
     "text": [
      "'buque EL MARISCO II ,proceso de captura merluz.mp4'\r\n",
      "'LANGOSTINOS  PUERTO RAWSON  ENERO 201.mp4'\r\n",
      "'Maniobra de pesca de merluza en mares argentino.mp4'\r\n",
      " maniobr.mp4\r\n",
      "'Pesca artesanal de anchoita en mar del plat.mp4'\r\n",
      "'pesca de altura en el mar argentino,pesquero.mp4'\r\n",
      "'pesca de langostino,buque Alve.mp4'\r\n",
      "'Pesca de langostino en aguas nacionale.mp4'\r\n",
      "'pesca de langostino en rawson chubut con barco combenciona.mp4'\r\n",
      "'PESCA DE LANGOSTINO RW CHUBU.mp4'\r\n",
      "'PESCA EN RAWSO.mp4'\r\n",
      "'Un dia de pesca merluza  Buque Paola.mp4'\r\n",
      "'WhatsApp Video 2021-07-25 at 10.21.14 PM.mp4'\r\n",
      "'WhatsApp Video 2021-07-25 at 9.24.42 PM.mp4'\r\n"
     ]
    }
   ],
   "source": [
    "WORKSPACE_PATH=\"../\"\n",
    "WORKSPACE_DATA_PATH=WORKSPACE_PATH+\"/data/\"\n",
    "INPUT_VIDEO_PATH=WORKSPACE_DATA_PATH+\"media/videos-youtube/\"\n",
    "!ls {INPUT_VIDEO_PATH}"
   ]
  },
  {
   "cell_type": "markdown",
   "id": "7ffdcc63",
   "metadata": {},
   "source": [
    "Repositorio de modelos (local)."
   ]
  },
  {
   "cell_type": "code",
   "execution_count": 11,
   "id": "b96979bf",
   "metadata": {
    "scrolled": true
   },
   "outputs": [
    {
     "name": "stdout",
     "output_type": "stream",
     "text": [
      "feature_extractor_ll.tar.gz  kaggle-fisheries-yolo  README.md\r\n",
      "feature_extractor_mars\t     mirtar-yolo\r\n"
     ]
    }
   ],
   "source": [
    "MODELS_PATH=WORKSPACE_DATA_PATH+\"models/\"\n",
    "!ls {MODELS_PATH}"
   ]
  },
  {
   "cell_type": "code",
   "execution_count": 7,
   "id": "63b0f034",
   "metadata": {},
   "outputs": [
    {
     "name": "stdout",
     "output_type": "stream",
     "text": [
      "\u001b[01;34m..//data/models//kaggle-fisheries-yolo\u001b[00m\r\n",
      "├── \u001b[01;34mcheckpoints\u001b[00m\r\n",
      "│   └── \u001b[01;34myolo-416\u001b[00m\r\n",
      "│       ├── \u001b[01;34massets\u001b[00m\r\n",
      "│       ├── saved_model.pb\r\n",
      "│       └── \u001b[01;34mvariables\u001b[00m\r\n",
      "│           ├── variables.data-00000-of-00001\r\n",
      "│           └── variables.index\r\n",
      "├── kaggle-fisheries-perf-report.txt\r\n",
      "├── kaggle-fisheries-yolo4.cfg\r\n",
      "├── kaggle-fisheries-yolo4.weights\r\n",
      "├── obj.names\r\n",
      "└── README.md\r\n",
      "\r\n",
      "4 directories, 8 files\r\n"
     ]
    }
   ],
   "source": [
    "!tree {MODELS_PATH}/kaggle-fisheries-yolo"
   ]
  },
  {
   "cell_type": "code",
   "execution_count": 8,
   "id": "da47090c",
   "metadata": {},
   "outputs": [
    {
     "name": "stdout",
     "output_type": "stream",
     "text": [
      "\u001b[01;34m..//data/models//mirtar-yolo\u001b[00m\r\n",
      "├── \u001b[01;34mcheckpoints\u001b[00m\r\n",
      "│   └── \u001b[01;34myolo-416\u001b[00m\r\n",
      "│       ├── \u001b[01;34massets\u001b[00m\r\n",
      "│       ├── saved_model.pb\r\n",
      "│       └── \u001b[01;34mvariables\u001b[00m\r\n",
      "│           ├── variables.data-00000-of-00001\r\n",
      "│           └── variables.index\r\n",
      "├── mirtar-yolo4.cfg\r\n",
      "├── mirtar-yolo4.weights\r\n",
      "├── obj.names\r\n",
      "└── README.md\r\n",
      "\r\n",
      "4 directories, 7 files\r\n"
     ]
    }
   ],
   "source": [
    "!tree {MODELS_PATH}/mirtar-yolo"
   ]
  },
  {
   "cell_type": "code",
   "execution_count": 12,
   "id": "78ca8d9e",
   "metadata": {},
   "outputs": [
    {
     "name": "stdout",
     "output_type": "stream",
     "text": [
      "\u001b[01;34m..//data/models//feature_extractor_mars\u001b[00m\r\n",
      "└── mars-small128.pb\r\n",
      "\r\n",
      "0 directories, 1 file\r\n"
     ]
    }
   ],
   "source": [
    "!tree {MODELS_PATH}/feature_extractor_mars"
   ]
  },
  {
   "cell_type": "markdown",
   "id": "4c2c94bd",
   "metadata": {},
   "source": [
    "## Definición de cadenas de procesamiento"
   ]
  },
  {
   "cell_type": "markdown",
   "id": "b8ff6b59",
   "metadata": {},
   "source": [
    "### Seguimiento de objetos"
   ]
  },
  {
   "cell_type": "code",
   "execution_count": 36,
   "id": "6e98de12",
   "metadata": {},
   "outputs": [],
   "source": [
    "DEEPSORT_MODEL_FILENAME = MODELS_PATH+\"/feature_extractor_mars/mars-small128.pb\""
   ]
  },
  {
   "cell_type": "code",
   "execution_count": 29,
   "id": "00ff801e",
   "metadata": {},
   "outputs": [],
   "source": [
    "from videoanalytics.pipeline import Pipeline\n",
    "from videoanalytics.pipeline.sources import VideoReader\n",
    "from videoanalytics.pipeline.sinks import VideoWriter\n",
    "\n",
    "from videoanalytics.pipeline.sinks.object_detection import DetectionsAnnotator, DetectionsCSVWriter\n",
    "from videoanalytics.pipeline.sinks.object_detection.yolo4 import YOLOv4DetectorTF\n",
    "\n",
    "from videoanalytics.pipeline.sinks.object_tracking import TrackedObjectsAnnotator, TrackedObjectsCSVWriter\n",
    "from videoanalytics.pipeline.sinks.object_tracking.sort import SORT\n",
    "from videoanalytics.pipeline.sinks.object_tracking.deepsort import DeepSORT\n",
    "\n",
    "def make_tracking_pipeline(input_video_filename,\n",
    "                                output_det_csv_filename,\n",
    "                                output_track_csv_filename,\n",
    "                                output_video_filename,\n",
    "                                detector_model_weights_filename,\n",
    "                                detector_model_classes_filename,\n",
    "                                tracker_type=\"DEEPSORT\",\n",
    "                                start_frame=0,\n",
    "                                max_frames=None):\n",
    "    context = {}\n",
    "    pipeline = Pipeline()\n",
    "\n",
    "    pipeline.add_component( VideoReader( \"input\",context,\n",
    "                     video_path=input_video_filename,\n",
    "                     start_frame=start_frame,\n",
    "                     max_frames=max_frames))    \n",
    "    \n",
    "    pipeline.add_component( YOLOv4DetectorTF(\"detector\",\n",
    "                                             context,\n",
    "                                             weights_filename=detector_model_weights_filename) )\n",
    "        \n",
    "    #pipeline.add_component( DetectionsCSVWriter(\"det_csv_writer\",context,filename=output_det_csv_filename) )\n",
    "\n",
    "    def make_sort_tracker():\n",
    "        return SORT(\"tracker\", context)\n",
    "    \n",
    "    def make_deep_sort_tracker():\n",
    "        return DeepSORT(\"tracker\", context, model_filename=DEEPSORT_MODEL_FILENAME)\n",
    "    \n",
    "    tracker_factory = {\n",
    "        \"SORT\": make_sort_tracker(),\n",
    "        \"DEEPSORT\": make_deep_sort_tracker()\n",
    "    }\n",
    "    \n",
    "    pipeline.add_component( tracker_factory[tracker_type] )        \n",
    "    \n",
    "    pipeline.add_component( TrackedObjectsAnnotator(\"annotator\",context) )\n",
    "    pipeline.add_component( TrackedObjectsCSVWriter(\"tracker_csv_writer\",context, \n",
    "                                                    filename = output_track_csv_filename) )\n",
    "    \n",
    "    pipeline.add_component(VideoWriter(\"writer\",context,filename=output_video_filename))\n",
    "    \n",
    "    pipeline.set_connections([\n",
    "        (\"input\", \"detector\"),\n",
    "        (\"detector\", \"tracker\"),\n",
    "        (\"tracker\", \"tracker_csv_writer\"),\n",
    "        (\"tracker\", \"annotator\"),\n",
    "        (\"annotator\", \"writer\")\n",
    "    ])    \n",
    "    \n",
    "    return context,pipeline"
   ]
  },
  {
   "cell_type": "markdown",
   "id": "89400773",
   "metadata": {},
   "source": [
    "## Batch job"
   ]
  },
  {
   "cell_type": "markdown",
   "id": "603db8ed",
   "metadata": {},
   "source": [
    "Directorio de resultados."
   ]
  },
  {
   "cell_type": "code",
   "execution_count": 25,
   "id": "18429c4c",
   "metadata": {},
   "outputs": [
    {
     "name": "stdout",
     "output_type": "stream",
     "text": [
      "kaggle-fisheries-yolo  mirtar-yolo\r\n"
     ]
    }
   ],
   "source": [
    "!ls {WORKSPACE_DATA_PATH}/output"
   ]
  },
  {
   "cell_type": "code",
   "execution_count": 43,
   "id": "518119e5",
   "metadata": {},
   "outputs": [],
   "source": [
    "INPUT_VIDEOS = [\n",
    "#    (\n",
    "#        'buque EL MARISCO II ,proceso de captura merluz.mp4',\n",
    "#        None,\n",
    "#    ),\n",
    "#    \n",
    "#    (\n",
    "#        'LANGOSTINOS  PUERTO RAWSON  ENERO 201.mp4',\n",
    "#        None,        \n",
    "#    ),\n",
    "#    \n",
    "#    (\n",
    "#        'Maniobra de pesca de merluza en mares argentino.mp4',\n",
    "#        None,\n",
    "#    ),\n",
    "    \n",
    "    ( \n",
    "        'maniobr.mp4',\n",
    "        None\n",
    "    ),\n",
    "    \n",
    " #   (\n",
    " #       'Pesca artesanal de anchoita en mar del plat.mp4',\n",
    " #       None\n",
    " #   ),\n",
    " #   \n",
    " #   (\n",
    " #       'pesca de altura en el mar argentino,pesquero.mp4',\n",
    " #       None\n",
    " #   ),\n",
    " #   \n",
    " #   (\n",
    " #       'pesca de langostino,buque Alve.mp4',\n",
    " #       None\n",
    " #   ),\n",
    " #   \n",
    " #   (\n",
    " #       'Pesca de langostino en aguas nacionale.mp4',\n",
    " #       None\n",
    " #   ),\n",
    " #   \n",
    "    (\n",
    "        'pesca de langostino en rawson chubut con barco combenciona.mp4',\n",
    "        None,\n",
    "    ),\n",
    " #   \n",
    " #   (\n",
    " #       'PESCA DE LANGOSTINO RW CHUBU.mp4',\n",
    " #       None,\n",
    " #   ),\n",
    " #   \n",
    " #   (\n",
    " #       'PESCA EN RAWSO.mp4',\n",
    " #       None\n",
    " #   ),\n",
    " #   \n",
    " #   (\n",
    " #       'Un dia de pesca merluza  Buque Paola.mp4',\n",
    " #       None\n",
    " #   ),\n",
    " #   \n",
    " #   (\n",
    " #       'WhatsApp Video 2021-07-25 at 10.21.14 PM.mp4',\n",
    " #       None\n",
    " #   ),\n",
    " #   \n",
    " #   (\n",
    " #       'WhatsApp Video 2021-07-25 at 9.24.42 PM.mp4',\n",
    " #       None\n",
    " #   )\n",
    "]"
   ]
  },
  {
   "cell_type": "code",
   "execution_count": 46,
   "id": "a824f072",
   "metadata": {
    "scrolled": true
   },
   "outputs": [],
   "source": [
    "from os import path\n",
    "\n",
    "def object_tracking_batch_job(input_videos,output_path,tracker_type=\"SORT\",dry_run=False):\n",
    "    obj_det_model = \"mirtar-yolo\"\n",
    "    t0 = datetime.now()\n",
    "    print(\"Inicio de proceso: \", t0)\n",
    "    \n",
    "    for i,v in enumerate(input_videos):\n",
    "        input_video_filename=v[0]        \n",
    "        output_video_filename=output_path+\"job{:d}.mp4\".format(i)\n",
    "        output_det_csv_filename=output_path+\"job{:d}-detections.csv\".format(i)\n",
    "        output_track_csv_filename=output_path+\"job{:d}-trackings.csv\".format(i)        \n",
    "\n",
    "        print(\"Job {}. Procesando {}.\".format(i, input_video_filename))\n",
    "        \n",
    "        if path.exists(output_video_filename):\n",
    "            print(\"El archivo a generar {} ya existe. Pasando al siguiente\".format(output_video_filename))    \n",
    "            continue\n",
    "\n",
    "        # FIXME, por ahora son fijos\n",
    "        params=v[1]\n",
    "\n",
    "        detector_model_weights_filename=MODELS_PATH+\"/{}/checkpoints/yolo-416/\".format(obj_det_model)\n",
    "        detector_model_classes_filename=MODELS_PATH+\"/{}/obj.names\".format(obj_det_model)\n",
    "\n",
    "        if not dry_run:\n",
    "            \n",
    "            context,pipeline=make_tracking_pipeline(\n",
    "                input_video_filename=INPUT_VIDEO_PATH+input_video_filename,\n",
    "                output_det_csv_filename=output_det_csv_filename,\n",
    "                output_track_csv_filename = output_track_csv_filename,                \n",
    "                output_video_filename=output_video_filename,\n",
    "                detector_model_weights_filename=detector_model_weights_filename,\n",
    "                detector_model_classes_filename=detector_model_classes_filename,\n",
    "                tracker_type=tracker_type,\n",
    "                start_frame=0,\n",
    "                max_frames=None\n",
    "            )\n",
    "\n",
    "            pipeline.execute()\n",
    "            print(\"Tiempo total de ejecución [s]:\", pipeline.get_total_execution_time())\n",
    "            print(\"Video de salida guardado en {}\".format(output_video_filename))\n",
    "    \n",
    "    t1 = datetime.now()\n",
    "    print(\"Fin del proceso:\",t1)        \n",
    "    print(\"Tiempo transcurrido:\",t1-t0)"
   ]
  },
  {
   "cell_type": "markdown",
   "id": "8cfff278",
   "metadata": {},
   "source": [
    "### Job con dataset Mirta-R y tracker SORT \n",
    "\n",
    "Nota: se aplica a los dos videos con cámara fija."
   ]
  },
  {
   "cell_type": "code",
   "execution_count": 51,
   "id": "c452b55b",
   "metadata": {},
   "outputs": [],
   "source": [
    "input_videos = INPUT_VIDEOS\n",
    "output_base_path=WORKSPACE_DATA_PATH+\"/output/\"\n",
    "obj_det_model = \"mirtar-yolo\"\n",
    "output_path = output_base_path+obj_det_model+\"-tracking-sort/\""
   ]
  },
  {
   "cell_type": "code",
   "execution_count": 48,
   "id": "42533f97",
   "metadata": {},
   "outputs": [],
   "source": [
    "# Reset\n",
    "#!rm -rf {output_path}\n",
    "#!mkdir {output_path}"
   ]
  },
  {
   "cell_type": "code",
   "execution_count": 52,
   "id": "8e02acff",
   "metadata": {
    "scrolled": false
   },
   "outputs": [
    {
     "name": "stdout",
     "output_type": "stream",
     "text": [
      "Inicio de proceso:  2021-08-14 18:35:03.583829\n",
      "Job 0. Procesando maniobr.mp4.\n"
     ]
    },
    {
     "data": {
      "application/vnd.jupyter.widget-view+json": {
       "model_id": "cb38c47de25145faad066e231e14c1f2",
       "version_major": 2,
       "version_minor": 0
      },
      "text/plain": [
       "  0%|          | 0/100.0 [00:00<?, ?it/s]"
      ]
     },
     "metadata": {},
     "output_type": "display_data"
    },
    {
     "name": "stdout",
     "output_type": "stream",
     "text": [
      "Tiempo total de ejecución [s]: 6043.4097453839495\n",
      "Video de salida guardado en ..//data//output/mirtar-yolo-tracking-sort/job0.mp4\n",
      "Job 1. Procesando pesca de langostino en rawson chubut con barco combenciona.mp4.\n"
     ]
    },
    {
     "data": {
      "application/vnd.jupyter.widget-view+json": {
       "model_id": "c20737f6018e45e2864181edf12464e2",
       "version_major": 2,
       "version_minor": 0
      },
      "text/plain": [
       "  0%|          | 0/100.0 [00:00<?, ?it/s]"
      ]
     },
     "metadata": {},
     "output_type": "display_data"
    },
    {
     "name": "stdout",
     "output_type": "stream",
     "text": [
      "Tiempo total de ejecución [s]: 1563.7897116469685\n",
      "Video de salida guardado en ..//data//output/mirtar-yolo-tracking-sort/job1.mp4\n",
      "Fin del proceso: 2021-08-14 20:42:26.588154\n",
      "Tiempo transcurrido: 2:07:23.004325\n"
     ]
    }
   ],
   "source": [
    "object_tracking_batch_job(input_videos,output_path,tracker_type=\"SORT\",dry_run=False)"
   ]
  },
  {
   "cell_type": "markdown",
   "id": "3d8c82ab",
   "metadata": {},
   "source": [
    "### Job con dataset Mirta-R y tracker DeepSORT\n",
    "\n",
    "Nota: se aplica a los dos videos con cámara fija."
   ]
  },
  {
   "cell_type": "code",
   "execution_count": 53,
   "id": "5261b5a6",
   "metadata": {},
   "outputs": [],
   "source": [
    "input_videos = INPUT_VIDEOS\n",
    "output_base_path=WORKSPACE_DATA_PATH+\"/output/\"\n",
    "obj_det_model = \"mirtar-yolo\"\n",
    "output_path = output_base_path+obj_det_model+\"-tracking-deepsort/\""
   ]
  },
  {
   "cell_type": "code",
   "execution_count": 41,
   "id": "7d4b43f5",
   "metadata": {},
   "outputs": [],
   "source": [
    "# Reset\n",
    "#!rm -rf {output_path}\n",
    "#!mkdir {output_path}"
   ]
  },
  {
   "cell_type": "code",
   "execution_count": 54,
   "id": "83143a1e",
   "metadata": {
    "scrolled": true
   },
   "outputs": [
    {
     "name": "stdout",
     "output_type": "stream",
     "text": [
      "Inicio de proceso:  2021-08-14 20:42:26.669939\n",
      "Job 0. Procesando maniobr.mp4.\n"
     ]
    },
    {
     "data": {
      "application/vnd.jupyter.widget-view+json": {
       "model_id": "b2c43aafe5a147998b16587cc9bdd941",
       "version_major": 2,
       "version_minor": 0
      },
      "text/plain": [
       "  0%|          | 0/100.0 [00:00<?, ?it/s]"
      ]
     },
     "metadata": {},
     "output_type": "display_data"
    },
    {
     "name": "stdout",
     "output_type": "stream",
     "text": [
      "Tiempo total de ejecución [s]: 8859.433763373003\n",
      "Video de salida guardado en ..//data//output/mirtar-yolo-tracking-deepsort/job0.mp4\n",
      "Job 1. Procesando pesca de langostino en rawson chubut con barco combenciona.mp4.\n"
     ]
    },
    {
     "data": {
      "application/vnd.jupyter.widget-view+json": {
       "model_id": "efb418f66f4b4bf69ba28efd2a5b3ae2",
       "version_major": 2,
       "version_minor": 0
      },
      "text/plain": [
       "  0%|          | 0/100.0 [00:00<?, ?it/s]"
      ]
     },
     "metadata": {},
     "output_type": "display_data"
    },
    {
     "name": "stdout",
     "output_type": "stream",
     "text": [
      "Tiempo total de ejecución [s]: 1889.9920556879952\n",
      "Video de salida guardado en ..//data//output/mirtar-yolo-tracking-deepsort/job1.mp4\n",
      "Fin del proceso: 2021-08-14 23:42:13.216142\n",
      "Tiempo transcurrido: 2:59:46.546203\n"
     ]
    }
   ],
   "source": [
    "object_tracking_batch_job(input_videos,output_path,tracker_type=\"DEEPSORT\",dry_run=False)"
   ]
  }
 ],
 "metadata": {
  "kernelspec": {
   "display_name": "Python 3",
   "language": "python",
   "name": "python3"
  },
  "language_info": {
   "codemirror_mode": {
    "name": "ipython",
    "version": 3
   },
   "file_extension": ".py",
   "mimetype": "text/x-python",
   "name": "python",
   "nbconvert_exporter": "python",
   "pygments_lexer": "ipython3",
   "version": "3.7.0"
  }
 },
 "nbformat": 4,
 "nbformat_minor": 5
}
