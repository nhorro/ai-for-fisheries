{
 "cells": [
  {
   "cell_type": "markdown",
   "id": "7a591e5d",
   "metadata": {},
   "source": [
    "# Concurrencia y métricas de desempeño\n",
    "\n",
    "Este cuaderno ensaya el conteo de objetos y registro de eventos (ingreso/egreso) con regiones definidas (asumiendo que la posición de la cámara está fija).\n",
    "\n",
    "Salidas:\n",
    "- Archivos CSV.\n",
    "- Video "
   ]
  },
  {
   "cell_type": "code",
   "execution_count": 2,
   "id": "4cf22d76",
   "metadata": {},
   "outputs": [
    {
     "data": {
      "text/plain": [
       "'0.0.2'"
      ]
     },
     "execution_count": 2,
     "metadata": {},
     "output_type": "execute_result"
    }
   ],
   "source": [
    "%load_ext autoreload\n",
    "%autoreload 2\n",
    "\n",
    "import sys\n",
    "sys.path.append(\"../videoanalytics/src\")\n",
    "import videoanalytics\n",
    "videoanalytics.__version__"
   ]
  },
  {
   "cell_type": "code",
   "execution_count": 3,
   "id": "6fbc382c",
   "metadata": {},
   "outputs": [
    {
     "ename": "ModuleNotFoundError",
     "evalue": "No module named 'matplotlib.pyplot'",
     "output_type": "error",
     "traceback": [
      "\u001b[0;31m---------------------------------------------------------------------------\u001b[0m",
      "\u001b[0;31mModuleNotFoundError\u001b[0m                       Traceback (most recent call last)",
      "\u001b[0;32m/tmp/ipykernel_9343/2099024342.py\u001b[0m in \u001b[0;36m<module>\u001b[0;34m\u001b[0m\n\u001b[1;32m      1\u001b[0m \u001b[0;32mfrom\u001b[0m \u001b[0mdatetime\u001b[0m \u001b[0;32mimport\u001b[0m \u001b[0mdatetime\u001b[0m\u001b[0;34m\u001b[0m\u001b[0m\n\u001b[1;32m      2\u001b[0m \u001b[0;32mimport\u001b[0m \u001b[0mnumpy\u001b[0m \u001b[0;32mas\u001b[0m \u001b[0mnp\u001b[0m\u001b[0;34m\u001b[0m\u001b[0m\n\u001b[0;32m----> 3\u001b[0;31m \u001b[0;32mimport\u001b[0m \u001b[0mmatplotlib\u001b[0m\u001b[0;34m.\u001b[0m\u001b[0mpyplot\u001b[0m \u001b[0;32mas\u001b[0m \u001b[0mplt\u001b[0m\u001b[0;34m\u001b[0m\u001b[0m\n\u001b[0m",
      "\u001b[0;31mModuleNotFoundError\u001b[0m: No module named 'matplotlib.pyplot'"
     ]
    }
   ],
   "source": [
    "from datetime import datetime\n",
    "import numpy as np\n",
    "import matplotlib.pyplot as plt"
   ]
  },
  {
   "cell_type": "markdown",
   "id": "57cd9ebd",
   "metadata": {},
   "source": [
    "## Chequeo de disponibilidad de HW / GPU"
   ]
  },
  {
   "cell_type": "code",
   "execution_count": null,
   "id": "a44b6f77",
   "metadata": {},
   "outputs": [],
   "source": [
    "!nvidia-smi"
   ]
  },
  {
   "cell_type": "markdown",
   "id": "7cf8103b",
   "metadata": {},
   "source": [
    "Detectadas por tensorflow en conda (FIXME)."
   ]
  },
  {
   "cell_type": "code",
   "execution_count": 1,
   "id": "687d5d8f",
   "metadata": {},
   "outputs": [
    {
     "ename": "AttributeError",
     "evalue": "module 'tensorflow' has no attribute 'config'",
     "output_type": "error",
     "traceback": [
      "\u001b[0;31m---------------------------------------------------------------------------\u001b[0m",
      "\u001b[0;31mAttributeError\u001b[0m                            Traceback (most recent call last)",
      "\u001b[0;32m/tmp/ipykernel_9343/4019452707.py\u001b[0m in \u001b[0;36m<module>\u001b[0;34m\u001b[0m\n\u001b[1;32m      1\u001b[0m \u001b[0;32mimport\u001b[0m \u001b[0mtensorflow\u001b[0m \u001b[0;32mas\u001b[0m \u001b[0mtf\u001b[0m\u001b[0;34m\u001b[0m\u001b[0m\n\u001b[0;32m----> 2\u001b[0;31m \u001b[0mprint\u001b[0m\u001b[0;34m(\u001b[0m\u001b[0;34m\"GPUs disponibles: \"\u001b[0m\u001b[0;34m,\u001b[0m \u001b[0mlen\u001b[0m\u001b[0;34m(\u001b[0m\u001b[0mtf\u001b[0m\u001b[0;34m.\u001b[0m\u001b[0mconfig\u001b[0m\u001b[0;34m.\u001b[0m\u001b[0mlist_physical_devices\u001b[0m\u001b[0;34m(\u001b[0m\u001b[0;34m'GPU'\u001b[0m\u001b[0;34m)\u001b[0m\u001b[0;34m)\u001b[0m\u001b[0;34m)\u001b[0m\u001b[0;34m\u001b[0m\u001b[0m\n\u001b[0m\u001b[1;32m      3\u001b[0m \u001b[0mphysical_devices\u001b[0m \u001b[0;34m=\u001b[0m \u001b[0mtf\u001b[0m\u001b[0;34m.\u001b[0m\u001b[0mconfig\u001b[0m\u001b[0;34m.\u001b[0m\u001b[0mlist_physical_devices\u001b[0m\u001b[0;34m(\u001b[0m\u001b[0;34m'GPU'\u001b[0m\u001b[0;34m)\u001b[0m\u001b[0;34m\u001b[0m\u001b[0m\n\u001b[1;32m      4\u001b[0m \u001b[0;32mtry\u001b[0m\u001b[0;34m:\u001b[0m\u001b[0;34m\u001b[0m\u001b[0m\n\u001b[1;32m      5\u001b[0m     \u001b[0mtf\u001b[0m\u001b[0;34m.\u001b[0m\u001b[0mconfig\u001b[0m\u001b[0;34m.\u001b[0m\u001b[0mexperimental\u001b[0m\u001b[0;34m.\u001b[0m\u001b[0mset_memory_growth\u001b[0m\u001b[0;34m(\u001b[0m\u001b[0mphysical_devices\u001b[0m\u001b[0;34m[\u001b[0m\u001b[0;36m0\u001b[0m\u001b[0;34m]\u001b[0m\u001b[0;34m,\u001b[0m \u001b[0;32mTrue\u001b[0m\u001b[0;34m)\u001b[0m\u001b[0;34m\u001b[0m\u001b[0m\n",
      "\u001b[0;31mAttributeError\u001b[0m: module 'tensorflow' has no attribute 'config'"
     ]
    }
   ],
   "source": [
    "import tensorflow as tf\n",
    "print(\"GPUs disponibles: \", len(tf.config.list_physical_devices('GPU')))\n",
    "physical_devices = tf.config.list_physical_devices('GPU')\n",
    "try:\n",
    "    tf.config.experimental.set_memory_growth(physical_devices[0], True)\n",
    "except:\n",
    "    # Invalid device or cannot modify virtual devices once initialized.\n",
    "    pass"
   ]
  },
  {
   "cell_type": "markdown",
   "id": "8a99faab",
   "metadata": {},
   "source": [
    "## Datos de entrada y modelos"
   ]
  },
  {
   "cell_type": "code",
   "execution_count": null,
   "id": "10787408",
   "metadata": {},
   "outputs": [],
   "source": [
    "WORKSPACE_PATH=\"../\"\n",
    "WORKSPACE_DATA_PATH=WORKSPACE_PATH+\"/data/\"\n",
    "INPUT_VIDEO_PATH=WORKSPACE_DATA_PATH+\"media/videos-youtube/\"\n",
    "!ls {INPUT_VIDEO_PATH}"
   ]
  },
  {
   "cell_type": "markdown",
   "id": "09b1a469",
   "metadata": {},
   "source": [
    "Definición de ROIs."
   ]
  },
  {
   "cell_type": "code",
   "execution_count": null,
   "id": "51798a00",
   "metadata": {},
   "outputs": [],
   "source": [
    "ROI_DEFINITION_FILE = WORKSPACE_DATA_PATH+\"other/mirtar-rois.json\"\n",
    "!cat {ROI_DEFINITION_FILE}"
   ]
  },
  {
   "cell_type": "markdown",
   "id": "7ffdcc63",
   "metadata": {},
   "source": [
    "Repositorio de modelos (local)."
   ]
  },
  {
   "cell_type": "code",
   "execution_count": null,
   "id": "b96979bf",
   "metadata": {
    "scrolled": true
   },
   "outputs": [],
   "source": [
    "MODELS_PATH=WORKSPACE_DATA_PATH+\"models/\"\n",
    "!ls {MODELS_PATH}"
   ]
  },
  {
   "cell_type": "code",
   "execution_count": null,
   "id": "63b0f034",
   "metadata": {},
   "outputs": [],
   "source": [
    "!tree {MODELS_PATH}/kaggle-fisheries-yolo"
   ]
  },
  {
   "cell_type": "code",
   "execution_count": null,
   "id": "da47090c",
   "metadata": {},
   "outputs": [],
   "source": [
    "!tree {MODELS_PATH}/mirtar-yolo"
   ]
  },
  {
   "cell_type": "code",
   "execution_count": null,
   "id": "c81e8d61",
   "metadata": {},
   "outputs": [],
   "source": [
    "!tree {MODELS_PATH}/feature_extractor_mars"
   ]
  },
  {
   "cell_type": "markdown",
   "id": "4c2c94bd",
   "metadata": {},
   "source": [
    "## Definición de cadenas de procesamiento"
   ]
  },
  {
   "cell_type": "markdown",
   "id": "b8ff6b59",
   "metadata": {},
   "source": [
    "### Conteo de objetos usando ROIs"
   ]
  },
  {
   "cell_type": "code",
   "execution_count": null,
   "id": "00ff801e",
   "metadata": {},
   "outputs": [],
   "source": [
    "from videoanalytics.pipeline import Pipeline\n",
    "from videoanalytics.pipeline.sources import VideoReader\n",
    "from videoanalytics.pipeline.sinks import VideoWriter, VariableCSVWriter\n",
    "\n",
    "from videoanalytics.pipeline.sinks.object_detection import DetectionsAnnotator, DetectionsCSVWriter\n",
    "from videoanalytics.pipeline.sinks.object_detection.yolo4 import YOLOv4DetectorTF\n",
    "\n",
    "from videoanalytics.pipeline.sinks.roi import ROIView, ROIPresenceCounter\n",
    "from videoanalytics.pipeline.sinks.visualization import TextOverlay\n",
    "\n",
    "# ROIs\n",
    "\n",
    "def make_object_counting_pipeline( input_video_filename,                                   \n",
    "                                   output_det_csv_filename,\n",
    "                                   output_var_csv_filename,\n",
    "                                   output_video_filename,\n",
    "                                   roi_definition_filename,\n",
    "                                   detector_model_weights_filename,\n",
    "                                   detector_model_classes_filename,                                   \n",
    "                                   start_frame=0,\n",
    "                                   max_frames=None):\n",
    "    context = {}\n",
    "    pipeline = Pipeline()\n",
    "\n",
    "    pipeline.add_component( VideoReader( \"input\",context,\n",
    "                     video_path=input_video_filename,\n",
    "                     start_frame=start_frame,\n",
    "                     max_frames=max_frames))    \n",
    "    \n",
    "    # Detector\n",
    "    pipeline.add_component( YOLOv4DetectorTF(\"detector\",\n",
    "                                             context,\n",
    "                                             weights_filename=detector_model_weights_filename) )        \n",
    "    pipeline.add_component( DetectionsCSVWriter(\"det_csv_writer\",context,filename=output_det_csv_filename) )\n",
    "    \n",
    "    # ROIs view + contador\n",
    "    pipeline.add_component( ROIView(\"roi_view\",context,filename=roi_definition_filename,alpha=0.6 ) )\n",
    "    pipeline.add_component( ROIPresenceCounter(\"roi_counter\",context,filename=roi_definition_filename) )\n",
    "    \n",
    "    # Anotar detecciones en video\n",
    "    pipeline.add_component( DetectionsAnnotator(\"annotator\",context,\n",
    "                                             class_names_filename=detector_model_classes_filename,\n",
    "                                             show_label=True) )\n",
    "        \n",
    "    # Mostrar variables de contador de objetos en ROIs\n",
    "    pipeline.add_component( TextOverlay(\"stats_text\",context,\n",
    "                                    text=\"Izq. (arriba): {q_izquierda_sup}\\n\"\n",
    "                                         \"Izq. (abajo): {q_izquierda_inf}\\n\"\n",
    "                                         \"Der. (arriba): {q_derecha_sup}\\n\"\n",
    "                                         \"Der. (abajo): {q_derecha_inf}\\n\"\n",
    "                                         \"Malacate: {q_malacate}\\n\"\n",
    "                                         \"Total: {q_total}\",\n",
    "                                    x=10,y=40) )\n",
    "\n",
    "    # Almacenar variables en CSV\n",
    "    pipeline.add_component( VariableCSVWriter(\"csv_variables\",context,filename=output_var_csv_filename,\n",
    "                                          variables_to_write=[\n",
    "                                                \"q_izquierda_sup\",\n",
    "                                                \"q_izquierda_inf\",\n",
    "                                                \"q_derecha_sup\",\n",
    "                                                \"q_derecha_inf\",\n",
    "                                                \"q_malacate\",\n",
    "                                                \"q_total\"\n",
    "                                          ]))\n",
    "    \n",
    "    \n",
    "    # Video de salida\n",
    "    pipeline.add_component(VideoWriter(\"writer\",context,filename=output_video_filename))\n",
    "    \n",
    "    pipeline.set_connections([\n",
    "        (\"input\", \"detector\"),\n",
    "        (\"detector\", \"roi_counter\"),\n",
    "        (\"detector\", \"det_csv_writer\"),        \n",
    "        (\"detector\", \"roi_view\"),\n",
    "        (\"roi_view\", \"annotator\"),\n",
    "        (\"roi_counter\", \"csv_variables\"),        \n",
    "        (\"csv_variables\", \"stats_text\"),\n",
    "        (\"stats_text\", \"writer\")\n",
    "    ])\n",
    "    \n",
    "    return context,pipeline"
   ]
  },
  {
   "cell_type": "markdown",
   "id": "15372868",
   "metadata": {},
   "source": [
    "### Registro de eventos usando ROIs"
   ]
  },
  {
   "cell_type": "code",
   "execution_count": null,
   "id": "891963b0",
   "metadata": {},
   "outputs": [],
   "source": [
    "DEEPSORT_MODEL_FILENAME = MODELS_PATH+\"/feature_extractor_mars/mars-small128.pb\""
   ]
  },
  {
   "cell_type": "code",
   "execution_count": null,
   "id": "afe58f46",
   "metadata": {},
   "outputs": [],
   "source": [
    "from videoanalytics.pipeline.sinks.object_tracking.deepsort import DeepSORT\n",
    "from videoanalytics.pipeline.sinks.object_tracking import TrackedObjectsAnnotator, TrackedObjectsCSVWriter\n",
    "\n",
    "from videoanalytics.pipeline import Pipeline\n",
    "from videoanalytics.pipeline.sources import VideoReader\n",
    "from videoanalytics.pipeline.sinks import VideoWriter, VariableCSVWriter\n",
    "\n",
    "from videoanalytics.pipeline.sinks.object_detection import DetectionsAnnotator, DetectionsCSVWriter\n",
    "from videoanalytics.pipeline.sinks.object_detection.yolo4 import YOLOv4DetectorTF\n",
    "\n",
    "from videoanalytics.pipeline.sinks.roi import ROIView, ROIPresenceCounter\n",
    "from videoanalytics.pipeline.sinks.roi.events import ROIEvents, ROIEventsCSVWriter\n",
    "from videoanalytics.pipeline.sinks.visualization import TextOverlay\n",
    "\n",
    "def make_roi_events_pipeline( input_video_filename,                                   \n",
    "                                   output_det_csv_filename,\n",
    "                                   output_track_csv_filename,\n",
    "                                   output_roievents_csv_filename,\n",
    "                                   output_video_filename,\n",
    "                                   roi_definition_filename,\n",
    "                                   detector_model_weights_filename,\n",
    "                                   detector_model_classes_filename,                                   \n",
    "                                   start_frame=0,\n",
    "                                   max_frames=None):\n",
    "    context = {}\n",
    "    pipeline = Pipeline()\n",
    "\n",
    "    pipeline.add_component( VideoReader( \"input\",context,\n",
    "                     video_path=input_video_filename,\n",
    "                     start_frame=start_frame,\n",
    "                     max_frames=max_frames))    \n",
    "    \n",
    "    # Detector\n",
    "    pipeline.add_component( YOLOv4DetectorTF(\"detector\",\n",
    "                                             context,\n",
    "                                             weights_filename=detector_model_weights_filename) )        \n",
    "    pipeline.add_component( DetectionsCSVWriter(\"det_csv_writer\",context,filename=output_det_csv_filename) )\n",
    "    \n",
    "    # Tracker\n",
    "    pipeline.add_component( DeepSORT(\"tracker\", context, model_filename=DEEPSORT_MODEL_FILENAME) )\n",
    "    pipeline.add_component( TrackedObjectsAnnotator(\"tracker_annotator\",context) )\n",
    "    pipeline.add_component( TrackedObjectsCSVWriter(\"tracker_csv_writer\",context, \n",
    "                                                    filename = output_track_csv_filename) )\n",
    "    \n",
    "    # ROIs view + generación de eventos\n",
    "    pipeline.add_component( ROIView(\"roi_view\",context,filename=roi_definition_filename,alpha=0.6 ) )    \n",
    "    pipeline.add_component( ROIEvents(\"roi_events\",context,filename=roi_definition_filename) )\n",
    "\n",
    "    # Registro de eventos a CSV\n",
    "    pipeline.add_component( ROIEventsCSVWriter(\"roi_events_writer\",context,output_roievents_csv_filename) )\n",
    "    \n",
    "    \n",
    "    # Video de salida\n",
    "    pipeline.add_component(VideoWriter(\"writer\",context,filename=output_video_filename))\n",
    "    \n",
    "    pipeline.set_connections([\n",
    "        (\"input\", \"detector\"),\n",
    "        (\"detector\", \"det_csv_writer\"),\n",
    "        (\"detector\", \"tracker\"),\n",
    "        (\"tracker\", \"tracker_csv_writer\"),\n",
    "        (\"tracker\", \"roi_view\"),\n",
    "        (\"roi_view\", \"tracker_annotator\"),\n",
    "        (\"tracker\", \"roi_events\"),\n",
    "        (\"roi_events\", \"roi_events_writer\"),\n",
    "        (\"tracker_annotator\", \"writer\")\n",
    "    ])\n",
    "                           \n",
    "    return context,pipeline"
   ]
  },
  {
   "cell_type": "markdown",
   "id": "89400773",
   "metadata": {},
   "source": [
    "## Batch job"
   ]
  },
  {
   "cell_type": "markdown",
   "id": "603db8ed",
   "metadata": {},
   "source": [
    "Directorio de resultados."
   ]
  },
  {
   "cell_type": "code",
   "execution_count": null,
   "id": "18429c4c",
   "metadata": {},
   "outputs": [],
   "source": [
    "!ls {WORKSPACE_DATA_PATH}/output"
   ]
  },
  {
   "cell_type": "code",
   "execution_count": null,
   "id": "518119e5",
   "metadata": {},
   "outputs": [],
   "source": [
    "INPUT_VIDEOS = [\n",
    "    (\n",
    "        'buque EL MARISCO II ,proceso de captura merluz.mp4',\n",
    "        None,\n",
    "    ),\n",
    "    \n",
    "    (\n",
    "        'LANGOSTINOS  PUERTO RAWSON  ENERO 201.mp4',\n",
    "        None,        \n",
    "    ),\n",
    "    \n",
    "    (\n",
    "        'Maniobra de pesca de merluza en mares argentino.mp4',\n",
    "        None,\n",
    "    ),\n",
    "    \n",
    "    ( \n",
    "        'maniobr.mp4',\n",
    "        None\n",
    "    ),\n",
    "    \n",
    "    ( \n",
    "        'mirtar-hk.mp4',\n",
    "        None\n",
    "    ),    \n",
    "    \n",
    "    (\n",
    "        'Pesca artesanal de anchoita en mar del plat.mp4',\n",
    "        None\n",
    "    ),\n",
    "    \n",
    "    (\n",
    "        'pesca de altura en el mar argentino,pesquero.mp4',\n",
    "        None\n",
    "    ),\n",
    "    \n",
    "    (\n",
    "        'pesca de langostino,buque Alve.mp4',\n",
    "        None\n",
    "    ),\n",
    "    \n",
    "    (\n",
    "        'Pesca de langostino en aguas nacionale.mp4',\n",
    "        None\n",
    "    ),\n",
    "    \n",
    "    (\n",
    "       'pesca de langostino en rawson chubut con barco combenciona.mp4',\n",
    "       None,\n",
    "   ),\n",
    "    \n",
    "    (\n",
    "        'PESCA DE LANGOSTINO RW CHUBU.mp4',\n",
    "        None,\n",
    "    ),\n",
    "    \n",
    "    (\n",
    "        'PESCA EN RAWSO.mp4',\n",
    "        None\n",
    "    ),\n",
    "    \n",
    "    (\n",
    "        'Un dia de pesca merluza  Buque Paola.mp4',\n",
    "        None\n",
    "    ),\n",
    "    \n",
    "    (\n",
    "        'WhatsApp Video 2021-07-25 at 10.21.14 PM.mp4',\n",
    "        None\n",
    "    ),\n",
    "    \n",
    "    (\n",
    "        'WhatsApp Video 2021-07-25 at 9.24.42 PM.mp4',\n",
    "        None\n",
    "    )\n",
    "]"
   ]
  },
  {
   "cell_type": "markdown",
   "id": "8cfff278",
   "metadata": {},
   "source": [
    "### Job para conteo de objetos por ROIs con Mirta-R (sin seguimiento)\n",
    "\n",
    "- Detector entrenado con Mirtar-R.\n",
    "- Nota: se aplica sólo al video que tiene ROIs etiquetadas."
   ]
  },
  {
   "cell_type": "code",
   "execution_count": null,
   "id": "a824f072",
   "metadata": {
    "scrolled": true
   },
   "outputs": [],
   "source": [
    "from os import path\n",
    "\n",
    "def object_counting_batch_job(input_videos,output_path,dry_run=False):\n",
    "    obj_det_model = \"mirtar-yolo\"\n",
    "    t0 = datetime.now()\n",
    "    print(\"Inicio de proceso: \", t0)\n",
    "    \n",
    "    for i,v in enumerate(input_videos):\n",
    "        input_video_filename=v[0]        \n",
    "        output_video_filename=output_path+\"job{:d}.mp4\".format(i)\n",
    "        output_det_csv_filename=output_path+\"job{:d}-detections.csv\".format(i)\n",
    "        output_var_csv_filename=output_path+\"job{:d}-countings.csv\".format(i)        \n",
    "\n",
    "        print(\"Job {}. Procesando {}.\".format(i, input_video_filename))\n",
    "        \n",
    "        if path.exists(output_video_filename):\n",
    "            print(\"El archivo a generar {} ya existe. Pasando al siguiente\".format(output_video_filename))    \n",
    "            continue\n",
    "\n",
    "        # FIXME, por ahora son fijos\n",
    "        params=v[1]\n",
    "\n",
    "        detector_model_weights_filename=MODELS_PATH+\"/{}/checkpoints/yolo-416/\".format(obj_det_model)\n",
    "        detector_model_classes_filename=MODELS_PATH+\"/{}/obj.names\".format(obj_det_model)\n",
    "\n",
    "        if not dry_run:\n",
    "            \n",
    "            context,pipeline = make_object_counting_pipeline( INPUT_VIDEO_PATH+input_video_filename,                                   \n",
    "                                   output_det_csv_filename,\n",
    "                                   output_var_csv_filename,\n",
    "                                   output_video_filename,\n",
    "                                   ROI_DEFINITION_FILE,\n",
    "                                   detector_model_weights_filename,\n",
    "                                   detector_model_classes_filename,                                   \n",
    "                                   start_frame=0,\n",
    "                                   max_frames=100)\n",
    "\n",
    "            pipeline.execute()\n",
    "            print(\"Tiempo total de ejecución [s]:\", pipeline.get_total_execution_time())\n",
    "            print(\"Video de salida guardado en {}\".format(output_video_filename))\n",
    "            \n",
    "    t1 = datetime.now()\n",
    "    print(\"Fin del proceso:\",t1)        \n",
    "    print(\"Tiempo transcurrido:\",t1-t0)"
   ]
  },
  {
   "cell_type": "code",
   "execution_count": null,
   "id": "c452b55b",
   "metadata": {},
   "outputs": [],
   "source": [
    "input_videos = INPUT_VIDEOS\n",
    "output_base_path=WORKSPACE_DATA_PATH+\"/output/\"\n",
    "obj_det_model = \"mirtar-yolo\"\n",
    "output_path = output_base_path+obj_det_model+\"-roi-objcount/\""
   ]
  },
  {
   "cell_type": "code",
   "execution_count": null,
   "id": "42533f97",
   "metadata": {},
   "outputs": [],
   "source": [
    "# Reset\n",
    "#!rm -rf {output_path}\n",
    "#!mkdir {output_path}"
   ]
  },
  {
   "cell_type": "code",
   "execution_count": null,
   "id": "8e02acff",
   "metadata": {
    "scrolled": false
   },
   "outputs": [],
   "source": [
    "object_counting_batch_job(input_videos,output_path,dry_run=False)"
   ]
  },
  {
   "cell_type": "markdown",
   "id": "b5a9f0cd",
   "metadata": {},
   "source": [
    "### Job para registro de eventos por ROIs con Mirta-R con seguimiento (DeepSORT)\n",
    "\n",
    "- Detector entrenado con Mirtar-R.\n",
    "- DeepSORT con MARS.\n",
    "- Nota: se aplica sólo al video que tiene ROIs etiquetadas."
   ]
  },
  {
   "cell_type": "code",
   "execution_count": null,
   "id": "28cfee11",
   "metadata": {},
   "outputs": [],
   "source": [
    "from os import path\n",
    "\n",
    "def roi_events_batch_job(input_videos,output_path,dry_run=False):\n",
    "    obj_det_model = \"mirtar-yolo\"\n",
    "    t0 = datetime.now()\n",
    "    print(\"Inicio de proceso: \", t0)\n",
    "    \n",
    "    for i,v in enumerate(input_videos):\n",
    "        input_video_filename=v[0]        \n",
    "        output_video_filename=output_path+\"job{:d}.mp4\".format(i)\n",
    "        output_det_csv_filename=output_path+\"job{:d}-detections.csv\".format(i)\n",
    "        output_track_csv_filename=output_path+\"job{:d}-trackings.csv\".format(i)  \n",
    "        output_roievents_csv_filename=output_path+\"job{:d}-roievents.csv\".format(i)  \n",
    "\n",
    "        print(\"Job {}. Procesando {}.\".format(i, input_video_filename))\n",
    "        \n",
    "        if path.exists(output_video_filename):\n",
    "            print(\"El archivo a generar {} ya existe. Pasando al siguiente\".format(output_video_filename))    \n",
    "            continue\n",
    "\n",
    "        # FIXME, por ahora son fijos\n",
    "        params=v[1]\n",
    "\n",
    "        detector_model_weights_filename=MODELS_PATH+\"/{}/checkpoints/yolo-416/\".format(obj_det_model)\n",
    "        detector_model_classes_filename=MODELS_PATH+\"/{}/obj.names\".format(obj_det_model)\n",
    "\n",
    "        if not dry_run:\n",
    "            \n",
    "            context,pipeline = make_roi_events_pipeline( INPUT_VIDEO_PATH+input_video_filename,\n",
    "                                   output_det_csv_filename,\n",
    "                                   output_track_csv_filename,\n",
    "                                   output_roievents_csv_filename,\n",
    "                                   output_video_filename,\n",
    "                                   ROI_DEFINITION_FILE,\n",
    "                                   detector_model_weights_filename,\n",
    "                                   detector_model_classes_filename,                                   \n",
    "                                   start_frame=0,\n",
    "                                   max_frames=None)\n",
    "\n",
    "            pipeline.execute()\n",
    "            print(\"Tiempo total de ejecución [s]:\", pipeline.get_total_execution_time())\n",
    "            print(\"Video de salida guardado en {}\".format(output_video_filename))\n",
    "            \n",
    "    t1 = datetime.now()\n",
    "    print(\"Fin del proceso:\",t1)        \n",
    "    print(\"Tiempo transcurrido:\",t1-t0)"
   ]
  },
  {
   "cell_type": "code",
   "execution_count": null,
   "id": "0ff7145c",
   "metadata": {},
   "outputs": [],
   "source": [
    "input_videos = INPUT_VIDEOS\n",
    "output_base_path=WORKSPACE_DATA_PATH+\"/output/\"\n",
    "obj_det_model = \"mirtar-yolo\"\n",
    "output_path = output_base_path+obj_det_model+\"-roi-events/\""
   ]
  },
  {
   "cell_type": "code",
   "execution_count": null,
   "id": "92573923",
   "metadata": {},
   "outputs": [],
   "source": [
    "#Reset\n",
    "#!rm -rf {output_path}\n",
    "#!mkdir {output_path}"
   ]
  },
  {
   "cell_type": "code",
   "execution_count": null,
   "id": "4a4728a6",
   "metadata": {},
   "outputs": [],
   "source": [
    "roi_events_batch_job(input_videos,output_path,dry_run=False)"
   ]
  },
  {
   "cell_type": "code",
   "execution_count": null,
   "id": "increased-indonesia",
   "metadata": {},
   "outputs": [],
   "source": [
    "class VideoProcessingApplication:\n",
    "\n",
    "    def __init__(self,pipelines):\n",
    "        pass\n",
    "    \n",
    "    def execute_parallel(self,max_jobs):\n",
    "        "
   ]
  }
 ],
 "metadata": {
  "kernelspec": {
   "display_name": "Python 3",
   "language": "python",
   "name": "python3"
  },
  "language_info": {
   "codemirror_mode": {
    "name": "ipython",
    "version": 3
   },
   "file_extension": ".py",
   "mimetype": "text/x-python",
   "name": "python",
   "nbconvert_exporter": "python",
   "pygments_lexer": "ipython3",
   "version": "3.7.0"
  }
 },
 "nbformat": 4,
 "nbformat_minor": 5
}
