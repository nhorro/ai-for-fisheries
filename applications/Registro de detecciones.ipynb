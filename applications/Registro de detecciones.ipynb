{
 "cells": [
  {
   "cell_type": "markdown",
   "id": "7a591e5d",
   "metadata": {},
   "source": [
    "# Registro de detecciones\n",
    "\n",
    "Este cuaderno ensaya el registro de detecciones en videos con el objetivo es poder hacer consultas en las bases de datos para:\n",
    "\n",
    "- Identificar momentos de interés (presencia de objetos buscados)\n",
    "- Análisis de detalle usando la información de las detecciones.\n",
    "\n",
    "Salidas:\n",
    "- Archivos CSV.\n",
    "- Series temporales.\n",
    "- InfluxDB."
   ]
  },
  {
   "cell_type": "code",
   "execution_count": 56,
   "id": "4cf22d76",
   "metadata": {},
   "outputs": [
    {
     "name": "stdout",
     "output_type": "stream",
     "text": [
      "The autoreload extension is already loaded. To reload it, use:\n",
      "  %reload_ext autoreload\n"
     ]
    },
    {
     "data": {
      "text/plain": [
       "'0.0.2'"
      ]
     },
     "execution_count": 56,
     "metadata": {},
     "output_type": "execute_result"
    }
   ],
   "source": [
    "%load_ext autoreload\n",
    "%autoreload 2\n",
    "\n",
    "import sys\n",
    "sys.path.append(\"../videoanalytics/src\")\n",
    "import videoanalytics\n",
    "videoanalytics.__version__"
   ]
  },
  {
   "cell_type": "code",
   "execution_count": 57,
   "id": "6fbc382c",
   "metadata": {},
   "outputs": [],
   "source": [
    "from datetime import datetime"
   ]
  },
  {
   "cell_type": "markdown",
   "id": "57cd9ebd",
   "metadata": {},
   "source": [
    "## Chequeo de disponibilidad de HW / GPU"
   ]
  },
  {
   "cell_type": "code",
   "execution_count": 58,
   "id": "a44b6f77",
   "metadata": {},
   "outputs": [
    {
     "name": "stdout",
     "output_type": "stream",
     "text": [
      "Thu Aug 12 13:37:56 2021       \n",
      "+-----------------------------------------------------------------------------+\n",
      "| NVIDIA-SMI 465.19.01    Driver Version: 465.19.01    CUDA Version: 11.3     |\n",
      "|-------------------------------+----------------------+----------------------+\n",
      "| GPU  Name        Persistence-M| Bus-Id        Disp.A | Volatile Uncorr. ECC |\n",
      "| Fan  Temp  Perf  Pwr:Usage/Cap|         Memory-Usage | GPU-Util  Compute M. |\n",
      "|                               |                      |               MIG M. |\n",
      "|===============================+======================+======================|\n",
      "|   0  NVIDIA Quadro M...  On   | 00000000:02:00.0 Off |                  N/A |\n",
      "| 46%   30C    P8    11W / 120W |     62MiB /  8126MiB |      0%      Default |\n",
      "|                               |                      |                  N/A |\n",
      "+-------------------------------+----------------------+----------------------+\n",
      "|   1  NVIDIA Quadro R...  On   | 00000000:81:00.0 Off |                  Off |\n",
      "| 34%   26C    P8     9W / 230W |  15688MiB / 16125MiB |      0%      Default |\n",
      "|                               |                      |                  N/A |\n",
      "+-------------------------------+----------------------+----------------------+\n",
      "                                                                               \n",
      "+-----------------------------------------------------------------------------+\n",
      "| Processes:                                                                  |\n",
      "|  GPU   GI   CI        PID   Type   Process name                  GPU Memory |\n",
      "|        ID   ID                                                   Usage      |\n",
      "|=============================================================================|\n",
      "|    0   N/A  N/A     17517      C   ...classification/bin/python       57MiB |\n",
      "|    1   N/A  N/A     17517      C   ...classification/bin/python    15685MiB |\n",
      "+-----------------------------------------------------------------------------+\n"
     ]
    }
   ],
   "source": [
    "!nvidia-smi"
   ]
  },
  {
   "cell_type": "markdown",
   "id": "7cf8103b",
   "metadata": {},
   "source": [
    "Detectadas por tensorflow en conda (FIXME)."
   ]
  },
  {
   "cell_type": "code",
   "execution_count": 59,
   "id": "687d5d8f",
   "metadata": {},
   "outputs": [
    {
     "name": "stdout",
     "output_type": "stream",
     "text": [
      "GPUs disponibles:  0\n"
     ]
    }
   ],
   "source": [
    "import tensorflow as tf\n",
    "print(\"GPUs disponibles: \", len(tf.config.list_physical_devices('GPU')))"
   ]
  },
  {
   "cell_type": "markdown",
   "id": "8a99faab",
   "metadata": {},
   "source": [
    "## Datos de entrada y modelos"
   ]
  },
  {
   "cell_type": "code",
   "execution_count": 60,
   "id": "10787408",
   "metadata": {},
   "outputs": [
    {
     "name": "stdout",
     "output_type": "stream",
     "text": [
      "'buque EL MARISCO II ,proceso de captura merluz.mp4'\r\n",
      "'LANGOSTINOS  PUERTO RAWSON  ENERO 201.mp4'\r\n",
      "'Maniobra de pesca de merluza en mares argentino.mp4'\r\n",
      " maniobr.mp4\r\n",
      "'Pesca artesanal de anchoita en mar del plat.mp4'\r\n",
      "'pesca de altura en el mar argentino,pesquero.mp4'\r\n",
      "'pesca de langostino,buque Alve.mp4'\r\n",
      "'Pesca de langostino en aguas nacionale.mp4'\r\n",
      "'pesca de langostino en rawson chubut con barco combenciona.mp4'\r\n",
      "'PESCA DE LANGOSTINO RW CHUBU.mp4'\r\n",
      "'PESCA EN RAWSO.mp4'\r\n",
      "'Un dia de pesca merluza  Buque Paola.mp4'\r\n",
      "'WhatsApp Video 2021-07-25 at 10.21.14 PM.mp4'\r\n",
      "'WhatsApp Video 2021-07-25 at 9.24.42 PM.mp4'\r\n"
     ]
    }
   ],
   "source": [
    "WORKSPACE_PATH=\"../\"\n",
    "WORKSPACE_DATA_PATH=WORKSPACE_PATH+\"/data/\"\n",
    "INPUT_VIDEO_PATH=WORKSPACE_DATA_PATH+\"media/videos-youtube/\"\n",
    "!ls {INPUT_VIDEO_PATH}"
   ]
  },
  {
   "cell_type": "markdown",
   "id": "7ffdcc63",
   "metadata": {},
   "source": [
    "Repositorio de modelos (local)."
   ]
  },
  {
   "cell_type": "code",
   "execution_count": 61,
   "id": "b96979bf",
   "metadata": {
    "scrolled": true
   },
   "outputs": [
    {
     "name": "stdout",
     "output_type": "stream",
     "text": [
      "feature_extractor_ll.tar.gz  kaggle-fisheries-yolo  mirtar-yolo  README.md\r\n"
     ]
    }
   ],
   "source": [
    "MODELS_PATH=WORKSPACE_DATA_PATH+\"models/\"\n",
    "!ls {MODELS_PATH}"
   ]
  },
  {
   "cell_type": "code",
   "execution_count": 62,
   "id": "63b0f034",
   "metadata": {},
   "outputs": [
    {
     "name": "stdout",
     "output_type": "stream",
     "text": [
      "\u001b[01;34m..//data/models//kaggle-fisheries-yolo\u001b[00m\r\n",
      "├── \u001b[01;34mcheckpoints\u001b[00m\r\n",
      "│   └── \u001b[01;34myolo-416\u001b[00m\r\n",
      "│       ├── \u001b[01;34massets\u001b[00m\r\n",
      "│       ├── saved_model.pb\r\n",
      "│       └── \u001b[01;34mvariables\u001b[00m\r\n",
      "│           ├── variables.data-00000-of-00001\r\n",
      "│           └── variables.index\r\n",
      "├── kaggle-fisheries-perf-report.txt\r\n",
      "├── kaggle-fisheries-yolo4.cfg\r\n",
      "├── kaggle-fisheries-yolo4.weights\r\n",
      "├── obj.names\r\n",
      "└── README.md\r\n",
      "\r\n",
      "4 directories, 8 files\r\n"
     ]
    }
   ],
   "source": [
    "!tree {MODELS_PATH}/kaggle-fisheries-yolo"
   ]
  },
  {
   "cell_type": "code",
   "execution_count": 63,
   "id": "da47090c",
   "metadata": {},
   "outputs": [
    {
     "name": "stdout",
     "output_type": "stream",
     "text": [
      "\u001b[01;34m..//data/models//mirtar-yolo\u001b[00m\r\n",
      "├── \u001b[01;34mcheckpoints\u001b[00m\r\n",
      "│   └── \u001b[01;34myolo-416\u001b[00m\r\n",
      "│       ├── \u001b[01;34massets\u001b[00m\r\n",
      "│       ├── saved_model.pb\r\n",
      "│       └── \u001b[01;34mvariables\u001b[00m\r\n",
      "│           ├── variables.data-00000-of-00001\r\n",
      "│           └── variables.index\r\n",
      "├── mirtar-yolo4.cfg\r\n",
      "├── mirtar-yolo4.weights\r\n",
      "├── obj.names\r\n",
      "└── README.md\r\n",
      "\r\n",
      "4 directories, 7 files\r\n"
     ]
    }
   ],
   "source": [
    "!tree {MODELS_PATH}/mirtar-yolo"
   ]
  },
  {
   "cell_type": "markdown",
   "id": "4c2c94bd",
   "metadata": {},
   "source": [
    "## Definición de cadenas de procesamiento"
   ]
  },
  {
   "cell_type": "markdown",
   "id": "b8ff6b59",
   "metadata": {},
   "source": [
    "### Detección con una única instancia del detector\n",
    "\n"
   ]
  },
  {
   "cell_type": "code",
   "execution_count": 64,
   "id": "00ff801e",
   "metadata": {},
   "outputs": [],
   "source": [
    "from videoanalytics.pipeline import Pipeline\n",
    "from videoanalytics.pipeline.sources import VideoReader\n",
    "from videoanalytics.pipeline.sinks import VideoWriter\n",
    "\n",
    "from videoanalytics.pipeline.sinks.object_detection import DetectionsAnnotator, DetectionsCSVWriter\n",
    "from videoanalytics.pipeline.sinks.object_detection.yolo4 import YOLOv4DetectorTF\n",
    "\n",
    "def make_detection_pipeline(input_video_filename,\n",
    "                            output_csv_filename,\n",
    "                            output_video_filename,\n",
    "                            detector_model_weights_filename,\n",
    "                            detector_model_classes_filename,\n",
    "                            start_frame=0,\n",
    "                            max_frames=None):\n",
    "    context = {}\n",
    "    pipeline = Pipeline()\n",
    "\n",
    "    pipeline.add_component( VideoReader( \"input\",context,\n",
    "                     video_path=input_video_filename,\n",
    "                     start_frame=start_frame,\n",
    "                     max_frames=max_frames))    \n",
    "    \n",
    "    pipeline.add_component( YOLOv4DetectorTF(\"detector\",\n",
    "                                             context,\n",
    "                                             weights_filename=detector_model_weights_filename) )\n",
    "        \n",
    "    pipeline.add_component( DetectionsCSVWriter(\"det_csv_writer\",context,filename=output_csv_filename) )\n",
    "    \n",
    "    pipeline.add_component( DetectionsAnnotator(\"annotator\",\n",
    "                                                context,\n",
    "                                                class_names_filename=detector_model_classes_filename,\n",
    "                                                show_label=True) )\n",
    "    \n",
    "    pipeline.add_component(VideoWriter(\"writer\",context,filename=output_video_filename))\n",
    "    \n",
    "    pipeline.set_connections([\n",
    "        (\"input\", \"detector\"),\n",
    "        (\"detector\", \"det_csv_writer\"),\n",
    "        (\"detector\", \"annotator\"),\n",
    "        (\"annotator\", \"writer\")\n",
    "    ])    \n",
    "    \n",
    "    return context,pipeline"
   ]
  },
  {
   "cell_type": "markdown",
   "id": "89400773",
   "metadata": {},
   "source": [
    "## Batch job"
   ]
  },
  {
   "cell_type": "markdown",
   "id": "603db8ed",
   "metadata": {},
   "source": [
    "Directorio de resultados."
   ]
  },
  {
   "cell_type": "code",
   "execution_count": 65,
   "id": "18429c4c",
   "metadata": {},
   "outputs": [
    {
     "name": "stdout",
     "output_type": "stream",
     "text": [
      "kaggle-fisheries-yolo  mirtar-yolo\r\n"
     ]
    }
   ],
   "source": [
    "!ls {WORKSPACE_DATA_PATH}/output"
   ]
  },
  {
   "cell_type": "code",
   "execution_count": 66,
   "id": "518119e5",
   "metadata": {},
   "outputs": [],
   "source": [
    "INPUT_VIDEOS = [\n",
    "    (\n",
    "        'buque EL MARISCO II ,proceso de captura merluz.mp4',\n",
    "        None,\n",
    "    ),\n",
    "    \n",
    "    (\n",
    "        'LANGOSTINOS  PUERTO RAWSON  ENERO 201.mp4',\n",
    "        None,        \n",
    "    ),\n",
    "    \n",
    "    (\n",
    "        'Maniobra de pesca de merluza en mares argentino.mp4',\n",
    "        None,\n",
    "    ),\n",
    "    \n",
    "    ( \n",
    "        'maniobr.mp4',\n",
    "        None\n",
    "    ),\n",
    "    \n",
    "    (\n",
    "        'Pesca artesanal de anchoita en mar del plat.mp4',\n",
    "        None\n",
    "    ),\n",
    "    \n",
    "    (\n",
    "        'pesca de altura en el mar argentino,pesquero.mp4',\n",
    "        None\n",
    "    ),\n",
    "    \n",
    "    (\n",
    "        'pesca de langostino,buque Alve.mp4',\n",
    "        None\n",
    "    ),\n",
    "    \n",
    "    (\n",
    "        'Pesca de langostino en aguas nacionale.mp4',\n",
    "        None\n",
    "    ),\n",
    "    \n",
    "    (\n",
    "        'pesca de langostino en rawson chubut con barco combenciona.mp4',\n",
    "        None,\n",
    "    ),\n",
    "    \n",
    "    (\n",
    "        'PESCA DE LANGOSTINO RW CHUBU.mp4',\n",
    "        None,\n",
    "    ),\n",
    "    \n",
    "    (\n",
    "        'PESCA EN RAWSO.mp4',\n",
    "        None\n",
    "    ),\n",
    "    \n",
    "    (\n",
    "        'Un dia de pesca merluza  Buque Paola.mp4',\n",
    "        None\n",
    "    ),\n",
    "    \n",
    "    (\n",
    "        'WhatsApp Video 2021-07-25 at 10.21.14 PM.mp4',\n",
    "        None\n",
    "    ),\n",
    "    \n",
    "    (\n",
    "        'WhatsApp Video 2021-07-25 at 9.24.42 PM.mp4',\n",
    "        None\n",
    "    )\n",
    "]"
   ]
  },
  {
   "cell_type": "code",
   "execution_count": 67,
   "id": "a824f072",
   "metadata": {
    "scrolled": true
   },
   "outputs": [],
   "source": [
    "from os import path\n",
    "\n",
    "def object_detection_batch_job(input_videos,obj_det_model, output_path,dry_run=False):\n",
    "    \n",
    "    t0 = datetime.now()\n",
    "    print(\"Inicio de proceso: \", t0)\n",
    "    \n",
    "    for i,v in enumerate(input_videos):\n",
    "        input_video_filename=v[0]        \n",
    "        output_video_filename=output_path+\"job{:d}.mp4\".format(i)\n",
    "        output_csv_filename=output_path+\"job{:d}.csv\".format(i)\n",
    "\n",
    "        output_csv_filename\n",
    "\n",
    "        print(\"Job {}. Procesando {}.\".format(i, input_video_filename))\n",
    "        \n",
    "        if path.exists(output_video_filename):\n",
    "            print(\"El archivo a generar {} ya existe. Pasando al siguiente\".format(output_video_filename))    \n",
    "            continue\n",
    "\n",
    "        # FIXME, por ahora son fijos\n",
    "        params=v[1]\n",
    "\n",
    "        detector_model_weights_filename=MODELS_PATH+\"/{}/checkpoints/yolo-416/\".format(obj_det_model)\n",
    "        detector_model_classes_filename=MODELS_PATH+\"/{}/obj.names\".format(obj_det_model)\n",
    "\n",
    "        \n",
    "\n",
    "        if not dry_run:\n",
    "            context,pipeline=make_detection_pipeline(\n",
    "                input_video_filename=INPUT_VIDEO_PATH+input_video_filename,\n",
    "                output_csv_filename=output_csv_filename,\n",
    "                output_video_filename=output_video_filename,\n",
    "                detector_model_weights_filename=detector_model_weights_filename,\n",
    "                detector_model_classes_filename=detector_model_classes_filename,\n",
    "                start_frame=0,\n",
    "                max_frames=None\n",
    "            )\n",
    "\n",
    "            pipeline.execute()\n",
    "            print(\"Tiempo total de ejecución [s]:\", pipeline.get_total_execution_time())\n",
    "            print(\"Video de salida guardado en {}\".format(output_video_filename))\n",
    "    \n",
    "    t1 = datetime.now()\n",
    "    print(\"Fin del proceso:\",t1)        \n",
    "    print(\"Tiempo transcurrido:\",t1-t0)"
   ]
  },
  {
   "cell_type": "markdown",
   "id": "05acb57b",
   "metadata": {},
   "source": [
    "### Job con dataset de kaggle-fisheries"
   ]
  },
  {
   "cell_type": "code",
   "execution_count": 99,
   "id": "e7de332f",
   "metadata": {},
   "outputs": [],
   "source": [
    "input_videos = INPUT_VIDEOS\n",
    "output_base_path=WORKSPACE_DATA_PATH+\"/output/\"\n",
    "obj_det_model = \"kaggle-fisheries-yolo/\"\n",
    "output_path = output_base_path+obj_det_model"
   ]
  },
  {
   "cell_type": "code",
   "execution_count": 100,
   "id": "fa4187f3",
   "metadata": {},
   "outputs": [],
   "source": [
    "#!rm -rf {output_path} \n",
    "#!mkdir {output_path}"
   ]
  },
  {
   "cell_type": "code",
   "execution_count": null,
   "id": "68a72abb",
   "metadata": {},
   "outputs": [
    {
     "name": "stdout",
     "output_type": "stream",
     "text": [
      "Inicio de proceso:  2021-08-13 03:44:49.026231\n",
      "Job 0. Procesando buque EL MARISCO II ,proceso de captura merluz.mp4.\n"
     ]
    },
    {
     "data": {
      "application/vnd.jupyter.widget-view+json": {
       "model_id": "b4311ed53f02455191a4cefb52b1c39f",
       "version_major": 2,
       "version_minor": 0
      },
      "text/plain": [
       "  0%|          | 0/100.0 [00:00<?, ?it/s]"
      ]
     },
     "metadata": {},
     "output_type": "display_data"
    },
    {
     "name": "stdout",
     "output_type": "stream",
     "text": [
      "Tiempo total de ejecución [s]: 2250.782152853033\n",
      "Video de salida guardado en ..//data//output/kaggle-fisheries-yolo/job0.mp4\n",
      "Job 1. Procesando LANGOSTINOS  PUERTO RAWSON  ENERO 201.mp4.\n"
     ]
    },
    {
     "data": {
      "application/vnd.jupyter.widget-view+json": {
       "model_id": "8336ca90f2d4459f904003aa6b68bfe1",
       "version_major": 2,
       "version_minor": 0
      },
      "text/plain": [
       "  0%|          | 0/100.0 [00:00<?, ?it/s]"
      ]
     },
     "metadata": {},
     "output_type": "display_data"
    },
    {
     "name": "stdout",
     "output_type": "stream",
     "text": [
      "Tiempo total de ejecución [s]: 6788.504858753004\n",
      "Video de salida guardado en ..//data//output/kaggle-fisheries-yolo/job1.mp4\n",
      "Job 2. Procesando Maniobra de pesca de merluza en mares argentino.mp4.\n"
     ]
    },
    {
     "data": {
      "application/vnd.jupyter.widget-view+json": {
       "model_id": "da112ad8e9f84784a6011d2294960400",
       "version_major": 2,
       "version_minor": 0
      },
      "text/plain": [
       "  0%|          | 0/100.0 [00:00<?, ?it/s]"
      ]
     },
     "metadata": {},
     "output_type": "display_data"
    },
    {
     "name": "stdout",
     "output_type": "stream",
     "text": [
      "Tiempo total de ejecución [s]: 5853.613226824964\n",
      "Video de salida guardado en ..//data//output/kaggle-fisheries-yolo/job2.mp4\n",
      "Job 3. Procesando maniobr.mp4.\n"
     ]
    },
    {
     "data": {
      "application/vnd.jupyter.widget-view+json": {
       "model_id": "f13fbeecea174783942488c189e1fd7d",
       "version_major": 2,
       "version_minor": 0
      },
      "text/plain": [
       "  0%|          | 0/100.0 [00:00<?, ?it/s]"
      ]
     },
     "metadata": {},
     "output_type": "display_data"
    },
    {
     "name": "stdout",
     "output_type": "stream",
     "text": [
      "Tiempo total de ejecución [s]: 5677.020367505029\n",
      "Video de salida guardado en ..//data//output/kaggle-fisheries-yolo/job3.mp4\n",
      "Job 4. Procesando Pesca artesanal de anchoita en mar del plat.mp4.\n"
     ]
    },
    {
     "data": {
      "application/vnd.jupyter.widget-view+json": {
       "model_id": "785ac79c63884c7ab2a81dcbae78ef22",
       "version_major": 2,
       "version_minor": 0
      },
      "text/plain": [
       "  0%|          | 0/100.0 [00:00<?, ?it/s]"
      ]
     },
     "metadata": {},
     "output_type": "display_data"
    },
    {
     "name": "stdout",
     "output_type": "stream",
     "text": [
      "Tiempo total de ejecución [s]: 5059.284656103991\n",
      "Video de salida guardado en ..//data//output/kaggle-fisheries-yolo/job4.mp4\n",
      "Job 5. Procesando pesca de altura en el mar argentino,pesquero.mp4.\n"
     ]
    },
    {
     "data": {
      "application/vnd.jupyter.widget-view+json": {
       "model_id": "127b1025665c44c3ae054727e034c20f",
       "version_major": 2,
       "version_minor": 0
      },
      "text/plain": [
       "  0%|          | 0/100.0 [00:00<?, ?it/s]"
      ]
     },
     "metadata": {},
     "output_type": "display_data"
    }
   ],
   "source": [
    "object_detection_batch_job(input_videos,obj_det_model, output_path)"
   ]
  },
  {
   "cell_type": "markdown",
   "id": "8cfff278",
   "metadata": {},
   "source": [
    "### Job con dataset Mirta-R"
   ]
  },
  {
   "cell_type": "code",
   "execution_count": 70,
   "id": "c452b55b",
   "metadata": {},
   "outputs": [],
   "source": [
    "input_videos = INPUT_VIDEOS\n",
    "output_base_path=WORKSPACE_DATA_PATH+\"/output/\"\n",
    "obj_det_model = \"mirtar-yolo\"\n",
    "output_path = output_base_path+obj_det_model+\"/\""
   ]
  },
  {
   "cell_type": "code",
   "execution_count": 71,
   "id": "42533f97",
   "metadata": {},
   "outputs": [],
   "source": [
    "# Reset\n",
    "#!rm -rf {output_path}\n",
    "#!mkdir {output_path}"
   ]
  },
  {
   "cell_type": "code",
   "execution_count": 98,
   "id": "8e02acff",
   "metadata": {
    "scrolled": true
   },
   "outputs": [
    {
     "name": "stdout",
     "output_type": "stream",
     "text": [
      "Inicio de proceso:  2021-08-13 03:44:48.953189\n",
      "Job 0. Procesando buque EL MARISCO II ,proceso de captura merluz.mp4.\n",
      "El archivo a generar ..//data//output/mirtar-yolo/job0.mp4 ya existe. Pasando al siguiente\n",
      "Job 1. Procesando LANGOSTINOS  PUERTO RAWSON  ENERO 201.mp4.\n",
      "El archivo a generar ..//data//output/mirtar-yolo/job1.mp4 ya existe. Pasando al siguiente\n",
      "Job 2. Procesando Maniobra de pesca de merluza en mares argentino.mp4.\n",
      "El archivo a generar ..//data//output/mirtar-yolo/job2.mp4 ya existe. Pasando al siguiente\n",
      "Job 3. Procesando maniobr.mp4.\n",
      "El archivo a generar ..//data//output/mirtar-yolo/job3.mp4 ya existe. Pasando al siguiente\n",
      "Job 4. Procesando Pesca artesanal de anchoita en mar del plat.mp4.\n",
      "El archivo a generar ..//data//output/mirtar-yolo/job4.mp4 ya existe. Pasando al siguiente\n",
      "Job 5. Procesando pesca de altura en el mar argentino,pesquero.mp4.\n",
      "El archivo a generar ..//data//output/mirtar-yolo/job5.mp4 ya existe. Pasando al siguiente\n",
      "Job 6. Procesando pesca de langostino,buque Alve.mp4.\n",
      "El archivo a generar ..//data//output/mirtar-yolo/job6.mp4 ya existe. Pasando al siguiente\n",
      "Job 7. Procesando Pesca de langostino en aguas nacionale.mp4.\n",
      "El archivo a generar ..//data//output/mirtar-yolo/job7.mp4 ya existe. Pasando al siguiente\n",
      "Job 8. Procesando pesca de langostino en rawson chubut con barco combenciona.mp4.\n",
      "El archivo a generar ..//data//output/mirtar-yolo/job8.mp4 ya existe. Pasando al siguiente\n",
      "Job 9. Procesando PESCA DE LANGOSTINO RW CHUBU.mp4.\n",
      "El archivo a generar ..//data//output/mirtar-yolo/job9.mp4 ya existe. Pasando al siguiente\n",
      "Job 10. Procesando PESCA EN RAWSO.mp4.\n",
      "El archivo a generar ..//data//output/mirtar-yolo/job10.mp4 ya existe. Pasando al siguiente\n",
      "Job 11. Procesando Un dia de pesca merluza  Buque Paola.mp4.\n",
      "El archivo a generar ..//data//output/mirtar-yolo/job11.mp4 ya existe. Pasando al siguiente\n",
      "Job 12. Procesando WhatsApp Video 2021-07-25 at 10.21.14 PM.mp4.\n",
      "El archivo a generar ..//data//output/mirtar-yolo/job12.mp4 ya existe. Pasando al siguiente\n",
      "Job 13. Procesando WhatsApp Video 2021-07-25 at 9.24.42 PM.mp4.\n",
      "El archivo a generar ..//data//output/mirtar-yolo/job13.mp4 ya existe. Pasando al siguiente\n",
      "Fin del proceso: 2021-08-13 03:44:48.957102\n",
      "Tiempo transcurrido: 0:00:00.003913\n"
     ]
    }
   ],
   "source": [
    "object_detection_batch_job(input_videos,obj_det_model, output_path)"
   ]
  },
  {
   "cell_type": "markdown",
   "id": "55021e16",
   "metadata": {},
   "source": [
    "#### Análisis de resultados"
   ]
  },
  {
   "cell_type": "code",
   "execution_count": 75,
   "id": "f5cfca56",
   "metadata": {},
   "outputs": [
    {
     "data": {
      "text/html": [
       "<div>\n",
       "<style scoped>\n",
       "    .dataframe tbody tr th:only-of-type {\n",
       "        vertical-align: middle;\n",
       "    }\n",
       "\n",
       "    .dataframe tbody tr th {\n",
       "        vertical-align: top;\n",
       "    }\n",
       "\n",
       "    .dataframe thead th {\n",
       "        text-align: right;\n",
       "    }\n",
       "</style>\n",
       "<table border=\"1\" class=\"dataframe\">\n",
       "  <thead>\n",
       "    <tr style=\"text-align: right;\">\n",
       "      <th></th>\n",
       "      <th>class_idx</th>\n",
       "      <th>x</th>\n",
       "      <th>y</th>\n",
       "      <th>w</th>\n",
       "      <th>h</th>\n",
       "      <th>score</th>\n",
       "    </tr>\n",
       "  </thead>\n",
       "  <tbody>\n",
       "    <tr>\n",
       "      <th>0</th>\n",
       "      <td>0</td>\n",
       "      <td>286.0</td>\n",
       "      <td>119.0</td>\n",
       "      <td>51.0</td>\n",
       "      <td>53.0</td>\n",
       "      <td>0.998765</td>\n",
       "    </tr>\n",
       "    <tr>\n",
       "      <th>0</th>\n",
       "      <td>0</td>\n",
       "      <td>221.0</td>\n",
       "      <td>123.0</td>\n",
       "      <td>52.0</td>\n",
       "      <td>47.0</td>\n",
       "      <td>0.998040</td>\n",
       "    </tr>\n",
       "    <tr>\n",
       "      <th>1</th>\n",
       "      <td>0</td>\n",
       "      <td>286.0</td>\n",
       "      <td>119.0</td>\n",
       "      <td>51.0</td>\n",
       "      <td>53.0</td>\n",
       "      <td>0.998765</td>\n",
       "    </tr>\n",
       "    <tr>\n",
       "      <th>1</th>\n",
       "      <td>0</td>\n",
       "      <td>221.0</td>\n",
       "      <td>123.0</td>\n",
       "      <td>52.0</td>\n",
       "      <td>47.0</td>\n",
       "      <td>0.998048</td>\n",
       "    </tr>\n",
       "    <tr>\n",
       "      <th>2</th>\n",
       "      <td>0</td>\n",
       "      <td>286.0</td>\n",
       "      <td>119.0</td>\n",
       "      <td>50.0</td>\n",
       "      <td>53.0</td>\n",
       "      <td>0.998751</td>\n",
       "    </tr>\n",
       "  </tbody>\n",
       "</table>\n",
       "</div>"
      ],
      "text/plain": [
       "   class_idx      x      y     w     h     score\n",
       "0          0  286.0  119.0  51.0  53.0  0.998765\n",
       "0          0  221.0  123.0  52.0  47.0  0.998040\n",
       "1          0  286.0  119.0  51.0  53.0  0.998765\n",
       "1          0  221.0  123.0  52.0  47.0  0.998048\n",
       "2          0  286.0  119.0  50.0  53.0  0.998751"
      ]
     },
     "execution_count": 75,
     "metadata": {},
     "output_type": "execute_result"
    }
   ],
   "source": [
    "import pandas as pd\n",
    "\n",
    "job_id=3\n",
    "df = pd.read_csv(output_path+\"/job{}.csv\".format(job_id),\n",
    "                 names=[\"class_idx\",\"x\",\"y\",\"w\",\"h\",\"score\",\"drop\"],index_col=0).iloc[:, :-1]\n",
    "df.head()"
   ]
  },
  {
   "cell_type": "code",
   "execution_count": 96,
   "id": "a9d70ca3",
   "metadata": {},
   "outputs": [
    {
     "data": {
      "text/plain": [
       "0    78821\n",
       "2    33213\n",
       "1     3164\n",
       "Name: class_idx, dtype: int64"
      ]
     },
     "execution_count": 96,
     "metadata": {},
     "output_type": "execute_result"
    }
   ],
   "source": [
    "df.class_idx.value_counts()"
   ]
  }
 ],
 "metadata": {
  "kernelspec": {
   "display_name": "Python 3",
   "language": "python",
   "name": "python3"
  },
  "language_info": {
   "codemirror_mode": {
    "name": "ipython",
    "version": 3
   },
   "file_extension": ".py",
   "mimetype": "text/x-python",
   "name": "python",
   "nbconvert_exporter": "python",
   "pygments_lexer": "ipython3",
   "version": "3.7.0"
  }
 },
 "nbformat": 4,
 "nbformat_minor": 5
}
