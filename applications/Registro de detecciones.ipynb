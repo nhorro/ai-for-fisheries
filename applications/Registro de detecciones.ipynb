{
 "cells": [
  {
   "cell_type": "markdown",
   "id": "7a591e5d",
   "metadata": {},
   "source": [
    "# Registro de detecciones"
   ]
  },
  {
   "cell_type": "code",
   "execution_count": 1,
   "id": "4cf22d76",
   "metadata": {},
   "outputs": [
    {
     "data": {
      "text/plain": [
       "'0.0.2'"
      ]
     },
     "execution_count": 1,
     "metadata": {},
     "output_type": "execute_result"
    }
   ],
   "source": [
    "%load_ext autoreload\n",
    "%autoreload 2\n",
    "\n",
    "import sys\n",
    "sys.path.append(\"../videoanalytics/src\")\n",
    "import videoanalytics\n",
    "videoanalytics.__version__"
   ]
  },
  {
   "cell_type": "code",
   "execution_count": 2,
   "id": "00ff801e",
   "metadata": {},
   "outputs": [
    {
     "name": "stderr",
     "output_type": "stream",
     "text": [
      "/home/nhorro/anaconda3/envs/ai-fisheries/lib/python3.7/site-packages/tensorboard/compat/tensorflow_stub/dtypes.py:541: FutureWarning: Passing (type, 1) or '1type' as a synonym of type is deprecated; in a future version of numpy, it will be understood as (type, (1,)) / '(1,)type'.\n",
      "  _np_qint8 = np.dtype([(\"qint8\", np.int8, 1)])\n",
      "/home/nhorro/anaconda3/envs/ai-fisheries/lib/python3.7/site-packages/tensorboard/compat/tensorflow_stub/dtypes.py:542: FutureWarning: Passing (type, 1) or '1type' as a synonym of type is deprecated; in a future version of numpy, it will be understood as (type, (1,)) / '(1,)type'.\n",
      "  _np_quint8 = np.dtype([(\"quint8\", np.uint8, 1)])\n",
      "/home/nhorro/anaconda3/envs/ai-fisheries/lib/python3.7/site-packages/tensorboard/compat/tensorflow_stub/dtypes.py:543: FutureWarning: Passing (type, 1) or '1type' as a synonym of type is deprecated; in a future version of numpy, it will be understood as (type, (1,)) / '(1,)type'.\n",
      "  _np_qint16 = np.dtype([(\"qint16\", np.int16, 1)])\n",
      "/home/nhorro/anaconda3/envs/ai-fisheries/lib/python3.7/site-packages/tensorboard/compat/tensorflow_stub/dtypes.py:544: FutureWarning: Passing (type, 1) or '1type' as a synonym of type is deprecated; in a future version of numpy, it will be understood as (type, (1,)) / '(1,)type'.\n",
      "  _np_quint16 = np.dtype([(\"quint16\", np.uint16, 1)])\n",
      "/home/nhorro/anaconda3/envs/ai-fisheries/lib/python3.7/site-packages/tensorboard/compat/tensorflow_stub/dtypes.py:545: FutureWarning: Passing (type, 1) or '1type' as a synonym of type is deprecated; in a future version of numpy, it will be understood as (type, (1,)) / '(1,)type'.\n",
      "  _np_qint32 = np.dtype([(\"qint32\", np.int32, 1)])\n",
      "/home/nhorro/anaconda3/envs/ai-fisheries/lib/python3.7/site-packages/tensorboard/compat/tensorflow_stub/dtypes.py:550: FutureWarning: Passing (type, 1) or '1type' as a synonym of type is deprecated; in a future version of numpy, it will be understood as (type, (1,)) / '(1,)type'.\n",
      "  np_resource = np.dtype([(\"resource\", np.ubyte, 1)])\n"
     ]
    }
   ],
   "source": [
    "from videoanalytics.pipeline import Pipeline\n",
    "from videoanalytics.pipeline.sources import VideoReader\n",
    "from videoanalytics.pipeline.sinks import VideoWriter\n",
    "\n",
    "from videoanalytics.pipeline.sinks.object_detection import DetectionsAnnotator, DetectionsCSVWriter\n",
    "from videoanalytics.pipeline.sinks.object_detection.yolo4 import YOLOv4DetectorTF\n",
    "\n",
    "def make_detection_pipeline(input_video_filename,\n",
    "                            output_video_filename,\n",
    "                            detector_model_weights_filename,\n",
    "                            detector_model_classes_filename,\n",
    "                            start_frame=0,\n",
    "                            max_frames=None):\n",
    "    context = {}\n",
    "    pipeline = Pipeline()\n",
    "\n",
    "    pipeline.add_component( VideoReader( \"input\",context,\n",
    "                     video_path=input_video_filename,\n",
    "                     start_frame=start_frame,\n",
    "                     max_frames=max_frames))    \n",
    "    \n",
    "    pipeline.add_component( YOLOv4DetectorTF(\"detector\",\n",
    "                                             context,\n",
    "                                             weights_filename=detector_model_weights_filename) )\n",
    "    \n",
    "    pipeline.add_component( DetectionsAnnotator(\"annotator\",\n",
    "                                                context,\n",
    "                                                class_names_filename=detector_model_classes_filename,\n",
    "                                                show_label=True) )\n",
    "    \n",
    "    pipeline.add_component(VideoWriter(\"writer\",context,filename=output_video_filename))\n",
    "    \n",
    "    \n",
    "    pipeline.set_connections([\n",
    "        (\"input\", \"detector\"),\n",
    "        #(\"detector\", \"det_csv_writer\"),\n",
    "        (\"detector\", \"annotator\"),\n",
    "        (\"annotator\", \"writer\")\n",
    "    ])    \n",
    "    \n",
    "    return context,pipeline"
   ]
  },
  {
   "cell_type": "code",
   "execution_count": 3,
   "id": "10787408",
   "metadata": {},
   "outputs": [
    {
     "name": "stdout",
     "output_type": "stream",
     "text": [
      "'buque EL MARISCO II ,proceso de captura merluz.mp4'\r\n",
      " cut\r\n",
      "'LANGOSTINOS  PUERTO RAWSON  ENERO 201.mp4'\r\n",
      "'Maniobra de pesca de merluza en mares argentino.mp4'\r\n",
      " maniobr.mp4\r\n",
      "'Pesca artesanal de anchoita en mar del plat.mp4'\r\n",
      "'pesca de altura en el mar argentino,pesquero.mp4'\r\n",
      "'pesca de langostino,buque Alve.mp4'\r\n",
      "'Pesca de langostino en aguas nacionale.mp4'\r\n",
      "'pesca de langostino en rawson chubut con barco combenciona [camara-fija].mp4'\r\n",
      "'PESCA DE LANGOSTINO RW CHUBU.mp4'\r\n",
      "'PESCA EN RAWSO.mp4'\r\n",
      "'Un dia de pesca merluza  Buque Paola.mp4'\r\n",
      "'WhatsApp Video 2021-07-25 at 10.21.14 PM.mp4'\r\n",
      "'WhatsApp Video 2021-07-25 at 9.24.42 PM.mp4'\r\n"
     ]
    }
   ],
   "source": [
    "WORKSPACE_PATH=\"../\"\n",
    "WORKSPACE_DATA_PATH=WORKSPACE_PATH+\"/data/\"\n",
    "INPUT_VIDEO_PATH=WORKSPACE_DATA_PATH+\"media/videos-youtube/\"\n",
    "!ls {INPUT_VIDEO_PATH}"
   ]
  },
  {
   "cell_type": "code",
   "execution_count": 4,
   "id": "518119e5",
   "metadata": {},
   "outputs": [],
   "source": [
    "INPUT_VIDEOS = [\n",
    "    (\n",
    "        'buque EL MARISCO II ,proceso de captura merluz.mp4',\n",
    "        None,\n",
    "    ),\n",
    "    \n",
    "    (\n",
    "        'LANGOSTINOS  PUERTO RAWSON  ENERO 201.mp4',\n",
    "        None,        \n",
    "    ),\n",
    "    \n",
    "    (\n",
    "        'Maniobra de pesca de merluza en mares argentino.mp4',\n",
    "        None,\n",
    "    ),\n",
    "    \n",
    "    ( \n",
    "        'maniobr.mp4',\n",
    "        None\n",
    "    ),\n",
    "    \n",
    "    (\n",
    "        'Pesca artesanal de anchoita en mar del plat.mp4',\n",
    "        None\n",
    "    ),\n",
    "    \n",
    "    (\n",
    "        'pesca de altura en el mar argentino,pesquero.mp4',\n",
    "        None\n",
    "    ),\n",
    "    \n",
    "    (\n",
    "        'pesca de langostino,buque Alve.mp4',\n",
    "        None\n",
    "    ),\n",
    "    \n",
    "    (\n",
    "        'Pesca de langostino en aguas nacionale.mp4',\n",
    "        None\n",
    "    ),\n",
    "    \n",
    "    (\n",
    "        'pesca de langostino en rawson chubut con barco combenciona [camara-fija].mp4',\n",
    "        None,\n",
    "    ),\n",
    "    \n",
    "    (\n",
    "        'PESCA DE LANGOSTINO RW CHUBU.mp4',\n",
    "        None,\n",
    "    ),\n",
    "    \n",
    "    (\n",
    "        'PESCA EN RAWSO.mp4',\n",
    "        None\n",
    "    ),\n",
    "    \n",
    "    (\n",
    "        'Un dia de pesca merluza  Buque Paola.mp4',\n",
    "        None\n",
    "    ),\n",
    "    \n",
    "    (\n",
    "        'WhatsApp Video 2021-07-25 at 10.21.14 PM.mp4',\n",
    "        None\n",
    "    ),\n",
    "    \n",
    "    (\n",
    "        'WhatsApp Video 2021-07-25 at 9.24.42 PM.mp4',\n",
    "        None\n",
    "    )\n",
    "]"
   ]
  },
  {
   "cell_type": "code",
   "execution_count": 5,
   "id": "18429c4c",
   "metadata": {},
   "outputs": [
    {
     "name": "stdout",
     "output_type": "stream",
     "text": [
      "job0.mp4\r\n"
     ]
    }
   ],
   "source": [
    "!ls {WORKSPACE_DATA_PATH}/output"
   ]
  },
  {
   "cell_type": "code",
   "execution_count": 6,
   "id": "be802617",
   "metadata": {},
   "outputs": [
    {
     "name": "stdout",
     "output_type": "stream",
     "text": [
      "assets\tcoco.names  saved_model.pb  variables\r\n"
     ]
    }
   ],
   "source": [
    "!ls {WORKSPACE_DATA_PATH}/models/yolov4-416-tf"
   ]
  },
  {
   "cell_type": "code",
   "execution_count": 7,
   "id": "b96979bf",
   "metadata": {},
   "outputs": [
    {
     "name": "stdout",
     "output_type": "stream",
     "text": [
      "coco  kaggle_fisheries\tkaggle-fisheries-yolo  README.md  yolov4-416-tf\r\n"
     ]
    }
   ],
   "source": [
    "MODELS_PATH=WORKSPACE_DATA_PATH+\"models/\"\n",
    "!ls {MODELS_PATH}"
   ]
  },
  {
   "cell_type": "code",
   "execution_count": 9,
   "id": "a824f072",
   "metadata": {
    "scrolled": true
   },
   "outputs": [
    {
     "name": "stdout",
     "output_type": "stream",
     "text": [
      "buque EL MARISCO II ,proceso de captura merluz.mp4\n"
     ]
    },
    {
     "data": {
      "application/vnd.jupyter.widget-view+json": {
       "model_id": "c3f3afe42a434cabaa3b44663f21c7bc",
       "version_major": 2,
       "version_minor": 0
      },
      "text/plain": [
       "  0%|          | 0/100.0 [00:00<?, ?it/s]"
      ]
     },
     "metadata": {},
     "output_type": "display_data"
    },
    {
     "name": "stdout",
     "output_type": "stream",
     "text": [
      "Tiempo total de ejecución [s]: 794.2511507660001\n",
      "Video de salida guardado en ..//data//output/job0.mp4\n"
     ]
    }
   ],
   "source": [
    "output_path=WORKSPACE_DATA_PATH+\"/output/\"\n",
    "dry_run=False\n",
    "\n",
    "for i,v in enumerate(INPUT_VIDEOS[:1]):\n",
    "    input_video_filename=v[0]\n",
    "    output_video_filename=output_path+\"job{:d}.mp4\".format(i)\n",
    "    \n",
    "    params=v[1]\n",
    "    detector_model_weights_filename=MODELS_PATH+\"/yolov4-416-tf\"\n",
    "    detector_model_classes_filename=MODELS_PATH+\"/yolov4-416-tf\"+\"/coco.names\"\n",
    "    \n",
    "    print(input_video_filename)\n",
    "    \n",
    "    if not dry_run:\n",
    "        context,pipeline=make_detection_pipeline(\n",
    "            input_video_filename=INPUT_VIDEO_PATH+input_video_filename,\n",
    "            output_video_filename=output_video_filename,\n",
    "            detector_model_weights_filename=detector_model_weights_filename,\n",
    "            detector_model_classes_filename=detector_model_classes_filename,\n",
    "            start_frame=0,\n",
    "            max_frames=1000\n",
    "        )\n",
    "        \n",
    "        pipeline.execute()\n",
    "        print(\"Tiempo total de ejecución [s]:\", pipeline.get_total_execution_time())\n",
    "        print(\"Video de salida guardado en {}\".format(output_video_filename))\n",
    "    \n",
    "    "
   ]
  },
  {
   "cell_type": "code",
   "execution_count": 11,
   "id": "42b931de",
   "metadata": {},
   "outputs": [
    {
     "name": "stdout",
     "output_type": "stream",
     "text": [
      "GPUs disponibles:  0\n"
     ]
    }
   ],
   "source": [
    "import tensorflow as tf\n",
    "print(\"GPUs disponibles: \", len(tf.config.list_physical_devices('GPU')))"
   ]
  }
 ],
 "metadata": {
  "kernelspec": {
   "display_name": "Python 3",
   "language": "python",
   "name": "python3"
  },
  "language_info": {
   "codemirror_mode": {
    "name": "ipython",
    "version": 3
   },
   "file_extension": ".py",
   "mimetype": "text/x-python",
   "name": "python",
   "nbconvert_exporter": "python",
   "pygments_lexer": "ipython3",
   "version": "3.7.0"
  }
 },
 "nbformat": 4,
 "nbformat_minor": 5
}
